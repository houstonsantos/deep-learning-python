{
 "metadata": {
  "language_info": {
   "codemirror_mode": {
    "name": "ipython",
    "version": 3
   },
   "file_extension": ".py",
   "mimetype": "text/x-python",
   "name": "python",
   "nbconvert_exporter": "python",
   "pygments_lexer": "ipython3",
   "version": "3.8.2"
  },
  "orig_nbformat": 2,
  "kernelspec": {
   "name": "pythonjvsc74a57bd0e738335807286c5c68ffd74c042c6d7f18d473e712ebbb49b507f61efb148946",
   "display_name": "Python 3.8.2 64-bit ('venv': venv)"
  },
  "metadata": {
   "interpreter": {
    "hash": "e738335807286c5c68ffd74c042c6d7f18d473e712ebbb49b507f61efb148946"
   }
  }
 },
 "nbformat": 4,
 "nbformat_minor": 2,
 "cells": [
  {
   "cell_type": "code",
   "execution_count": 1,
   "metadata": {},
   "outputs": [],
   "source": [
    "import numpy as np"
   ]
  },
  {
   "cell_type": "code",
   "execution_count": 2,
   "metadata": {},
   "outputs": [],
   "source": [
    "# Step Function\n",
    "def stepFunction(soma):\n",
    "    if (soma >= 1):\n",
    "        return 1\n",
    "    return 0"
   ]
  },
  {
   "cell_type": "code",
   "execution_count": 5,
   "metadata": {},
   "outputs": [
    {
     "output_type": "execute_result",
     "data": {
      "text/plain": [
       "0"
      ]
     },
     "metadata": {},
     "execution_count": 5
    }
   ],
   "source": [
    "stepFunction(-1)"
   ]
  },
  {
   "cell_type": "code",
   "execution_count": 6,
   "metadata": {},
   "outputs": [],
   "source": [
    "# Sigmóide Function\n",
    "def sigmoidFunction(soma):\n",
    "    return 1 / (1 + np.exp(-soma))"
   ]
  },
  {
   "cell_type": "code",
   "execution_count": 7,
   "metadata": {},
   "outputs": [
    {
     "output_type": "execute_result",
     "data": {
      "text/plain": [
       "0.4114437956141708"
      ]
     },
     "metadata": {},
     "execution_count": 7
    }
   ],
   "source": [
    "sigmoidFunction(-0.358)"
   ]
  },
  {
   "cell_type": "code",
   "execution_count": 9,
   "metadata": {},
   "outputs": [],
   "source": [
    "# Tanh Function\n",
    "def tahnFunction(soma):\n",
    "    return (np.exp(soma) - np.exp(-soma)) / (np.exp(soma) + np.exp(-soma))"
   ]
  },
  {
   "cell_type": "code",
   "execution_count": 10,
   "metadata": {},
   "outputs": [
    {
     "output_type": "execute_result",
     "data": {
      "text/plain": [
       "-0.3434511648102781"
      ]
     },
     "metadata": {},
     "execution_count": 10
    }
   ],
   "source": [
    "tahnFunction(-0.358)"
   ]
  },
  {
   "cell_type": "code",
   "execution_count": 11,
   "metadata": {},
   "outputs": [],
   "source": [
    "# ReLU Function\n",
    "def reluFunction(soma):\n",
    "    if soma >= 0:\n",
    "        return soma\n",
    "    return 0"
   ]
  },
  {
   "cell_type": "code",
   "execution_count": 12,
   "metadata": {},
   "outputs": [
    {
     "output_type": "execute_result",
     "data": {
      "text/plain": [
       "0.358"
      ]
     },
     "metadata": {},
     "execution_count": 12
    }
   ],
   "source": [
    "reluFunction(0.358)"
   ]
  },
  {
   "cell_type": "code",
   "execution_count": 13,
   "metadata": {},
   "outputs": [],
   "source": [
    "# Linear Function\n",
    "def linearFunction(soma):\n",
    "    return soma"
   ]
  },
  {
   "cell_type": "code",
   "execution_count": 14,
   "metadata": {},
   "outputs": [
    {
     "output_type": "execute_result",
     "data": {
      "text/plain": [
       "-0.358"
      ]
     },
     "metadata": {},
     "execution_count": 14
    }
   ],
   "source": [
    "linearFunction(-0.358)"
   ]
  },
  {
   "cell_type": "code",
   "execution_count": 15,
   "metadata": {},
   "outputs": [],
   "source": [
    "# Softmax Function\n",
    "def softmaxFunction(x):\n",
    "    ex = np.exp(x)\n",
    "    return ex / ex.sum()"
   ]
  },
  {
   "cell_type": "code",
   "execution_count": 16,
   "metadata": {},
   "outputs": [
    {
     "output_type": "stream",
     "name": "stdout",
     "text": [
      "[0.99001676 0.00667068 0.00331256]\n"
     ]
    }
   ],
   "source": [
    "valores = [7.0, 2.0, 1.3]\n",
    "print(softmaxFunction(valores))"
   ]
  }
 ]
}