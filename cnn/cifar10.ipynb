{
 "metadata": {
  "language_info": {
   "codemirror_mode": {
    "name": "ipython",
    "version": 3
   },
   "file_extension": ".py",
   "mimetype": "text/x-python",
   "name": "python",
   "nbconvert_exporter": "python",
   "pygments_lexer": "ipython3",
   "version": "3.8.2-final"
  },
  "orig_nbformat": 2,
  "kernelspec": {
   "name": "python3",
   "display_name": "Python 3.8.2 64-bit ('venv': venv)",
   "metadata": {
    "interpreter": {
     "hash": "47c239c36de4969fcd12702dcc064548aea50277e5acb96ec5b736153390dbfd"
    }
   }
  }
 },
 "nbformat": 4,
 "nbformat_minor": 2,
 "cells": [
  {
   "cell_type": "code",
   "execution_count": 1,
   "metadata": {},
   "outputs": [
    {
     "output_type": "stream",
     "name": "stdout",
     "text": [
      "The history saving thread hit an unexpected error (OperationalError('attempt to write a readonly database')).History will not be written to the database.\n"
     ]
    }
   ],
   "source": [
    "import keras\n",
    "from keras.utils import np_utils\n",
    "from keras.datasets import cifar10\n",
    "from keras.models import Sequential\n",
    "from keras.layers import Conv2D, MaxPooling2D\n",
    "from keras.layers.normalization import BatchNormalization\n",
    "from keras.layers import Dense, Dropout, Flatten, GlobalAveragePooling2D"
   ]
  },
  {
   "source": [
    "# Rede Neural - Convolucional"
   ],
   "cell_type": "markdown",
   "metadata": {}
  },
  {
   "cell_type": "code",
   "execution_count": 4,
   "metadata": {},
   "outputs": [],
   "source": [
    "# Importando base de dados\n",
    "(X_treinamento, y_treinamento), (X_teste, y_teste) = cifar10.load_data()"
   ]
  },
  {
   "cell_type": "code",
   "execution_count": 5,
   "metadata": {},
   "outputs": [
    {
     "output_type": "execute_result",
     "data": {
      "text/plain": [
       "((50000, 32, 32, 3), (50000, 1), (10000, 32, 32, 3), (10000, 1))"
      ]
     },
     "metadata": {},
     "execution_count": 5
    }
   ],
   "source": [
    "X_treinamento.shape, y_treinamento.shape, X_teste.shape, y_teste.shape"
   ]
  },
  {
   "cell_type": "code",
   "execution_count": 6,
   "metadata": {},
   "outputs": [],
   "source": [
    "# Realizando conversão, reshape e scaling dos valores\n",
    "previsores_treinamento = X_treinamento.reshape(X_treinamento.shape[0], 32, 32, 3)\n",
    "previsores_treinamento = previsores_treinamento.astype('float32')\n",
    "previsores_treinamento /= 255\n",
    "\n",
    "previsores_teste = X_teste.reshape(X_teste.shape[0], 32, 32, 3)\n",
    "previsores_teste = previsores_teste.astype('float32')\n",
    "previsores_teste /= 255"
   ]
  },
  {
   "cell_type": "code",
   "execution_count": 7,
   "metadata": {},
   "outputs": [],
   "source": [
    "# Realizando One Hot Encoding nas classes \n",
    "classe_treinamento = np_utils.to_categorical(y_treinamento, 10)\n",
    "classe_teste = np_utils.to_categorical(y_teste, 10)"
   ]
  },
  {
   "cell_type": "code",
   "execution_count": 8,
   "metadata": {},
   "outputs": [
    {
     "output_type": "execute_result",
     "data": {
      "text/plain": [
       "((50000, 1), (10000, 1))"
      ]
     },
     "metadata": {},
     "execution_count": 8
    }
   ],
   "source": [
    "y_treinamento.shape, y_teste.shape"
   ]
  },
  {
   "cell_type": "code",
   "execution_count": 9,
   "metadata": {},
   "outputs": [
    {
     "output_type": "execute_result",
     "data": {
      "text/plain": [
       "((50000, 10), (10000, 10))"
      ]
     },
     "metadata": {},
     "execution_count": 9
    }
   ],
   "source": [
    "classe_treinamento.shape, classe_teste.shape"
   ]
  },
  {
   "cell_type": "code",
   "execution_count": 10,
   "metadata": {},
   "outputs": [],
   "source": [
    "# Criando estrutura da rede neural\n",
    "classificador = Sequential()\n",
    "classificador.add(Conv2D(32, kernel_size = (3, 3), activation = 'relu', input_shape = (32, 32, 3)))\n",
    "classificador.add(Conv2D(64, (3, 3), activation = 'relu'))\n",
    "classificador.add(MaxPooling2D(pool_size = (2, 2)))\n",
    "classificador.add(Dropout(0.25))\n",
    "classificador.add(Conv2D(64, (3, 3), activation = 'relu'))\n",
    "classificador.add(MaxPooling2D(pool_size = (2, 2)))\n",
    "classificador.add(Dropout(0.25))\n",
    "classificador.add(Conv2D(64, (3, 3), activation = 'relu'))\n",
    "classificador.add(MaxPooling2D(pool_size = (2, 2)))\n",
    "classificador.add(Dropout(0.25))\n",
    "classificador.add(Flatten())\n",
    "classificador.add(Dense(128, activation = 'relu'))\n",
    "classificador.add(Dropout(0.5))\n",
    "classificador.add(Dense(10, activation = 'softmax'))\n",
    "# Compilando rede neural\n",
    "classificador.compile(loss = 'categorical_crossentropy', optimizer = 'adam', metrics = ['accuracy'])"
   ]
  },
  {
   "cell_type": "code",
   "execution_count": 11,
   "metadata": {},
   "outputs": [
    {
     "output_type": "stream",
     "name": "stdout",
     "text": [
      "Model: \"sequential\"\n_________________________________________________________________\nLayer (type)                 Output Shape              Param #   \n=================================================================\nconv2d (Conv2D)              (None, 30, 30, 32)        896       \n_________________________________________________________________\nconv2d_1 (Conv2D)            (None, 28, 28, 64)        18496     \n_________________________________________________________________\nmax_pooling2d (MaxPooling2D) (None, 14, 14, 64)        0         \n_________________________________________________________________\ndropout (Dropout)            (None, 14, 14, 64)        0         \n_________________________________________________________________\nconv2d_2 (Conv2D)            (None, 12, 12, 64)        36928     \n_________________________________________________________________\nmax_pooling2d_1 (MaxPooling2 (None, 6, 6, 64)          0         \n_________________________________________________________________\ndropout_1 (Dropout)          (None, 6, 6, 64)          0         \n_________________________________________________________________\nconv2d_3 (Conv2D)            (None, 4, 4, 64)          36928     \n_________________________________________________________________\nmax_pooling2d_2 (MaxPooling2 (None, 2, 2, 64)          0         \n_________________________________________________________________\ndropout_2 (Dropout)          (None, 2, 2, 64)          0         \n_________________________________________________________________\nflatten (Flatten)            (None, 256)               0         \n_________________________________________________________________\ndense (Dense)                (None, 128)               32896     \n_________________________________________________________________\ndropout_3 (Dropout)          (None, 128)               0         \n_________________________________________________________________\ndense_1 (Dense)              (None, 10)                1290      \n=================================================================\nTotal params: 127,434\nTrainable params: 127,434\nNon-trainable params: 0\n_________________________________________________________________\n"
     ]
    }
   ],
   "source": [
    "# Resumo do modelo criado\n",
    "classificador.summary()"
   ]
  },
  {
   "cell_type": "code",
   "execution_count": 12,
   "metadata": {},
   "outputs": [
    {
     "output_type": "stream",
     "name": "stdout",
     "text": [
      "Epoch 1/20\n",
      "196/196 [==============================] - 128s 649ms/step - loss: 2.1391 - accuracy: 0.1894 - val_loss: 1.6315 - val_accuracy: 0.4154\n",
      "Epoch 2/20\n",
      "196/196 [==============================] - 150s 767ms/step - loss: 1.6137 - accuracy: 0.3970 - val_loss: 1.4150 - val_accuracy: 0.4933\n",
      "Epoch 3/20\n",
      "196/196 [==============================] - 160s 815ms/step - loss: 1.4184 - accuracy: 0.4822 - val_loss: 1.2963 - val_accuracy: 0.5266\n",
      "Epoch 4/20\n",
      "196/196 [==============================] - 178s 911ms/step - loss: 1.3013 - accuracy: 0.5291 - val_loss: 1.1105 - val_accuracy: 0.6118\n",
      "Epoch 5/20\n",
      "196/196 [==============================] - 190s 969ms/step - loss: 1.2087 - accuracy: 0.5658 - val_loss: 1.0689 - val_accuracy: 0.6300\n",
      "Epoch 6/20\n",
      "196/196 [==============================] - 162s 824ms/step - loss: 1.1401 - accuracy: 0.5954 - val_loss: 0.9884 - val_accuracy: 0.6556\n",
      "Epoch 7/20\n",
      "196/196 [==============================] - 170s 865ms/step - loss: 1.0835 - accuracy: 0.6172 - val_loss: 0.9493 - val_accuracy: 0.6685\n",
      "Epoch 8/20\n",
      "196/196 [==============================] - 182s 928ms/step - loss: 1.0395 - accuracy: 0.6341 - val_loss: 0.9134 - val_accuracy: 0.6840\n",
      "Epoch 9/20\n",
      "196/196 [==============================] - 153s 780ms/step - loss: 1.0000 - accuracy: 0.6467 - val_loss: 0.8502 - val_accuracy: 0.7022\n",
      "Epoch 10/20\n",
      "196/196 [==============================] - 149s 759ms/step - loss: 0.9643 - accuracy: 0.6580 - val_loss: 0.8390 - val_accuracy: 0.7073\n",
      "Epoch 11/20\n",
      "196/196 [==============================] - 181s 922ms/step - loss: 0.9281 - accuracy: 0.6720 - val_loss: 0.8278 - val_accuracy: 0.7155\n",
      "Epoch 12/20\n",
      "196/196 [==============================] - 210s 1s/step - loss: 0.9164 - accuracy: 0.6803 - val_loss: 0.8016 - val_accuracy: 0.7192\n",
      "Epoch 13/20\n",
      "196/196 [==============================] - 185s 945ms/step - loss: 0.8832 - accuracy: 0.6882 - val_loss: 0.7959 - val_accuracy: 0.7187\n",
      "Epoch 14/20\n",
      "196/196 [==============================] - 196s 1s/step - loss: 0.8670 - accuracy: 0.6982 - val_loss: 0.7580 - val_accuracy: 0.7356\n",
      "Epoch 15/20\n",
      "196/196 [==============================] - 196s 998ms/step - loss: 0.8428 - accuracy: 0.7048 - val_loss: 0.7572 - val_accuracy: 0.7360\n",
      "Epoch 16/20\n",
      "196/196 [==============================] - 183s 936ms/step - loss: 0.8289 - accuracy: 0.7105 - val_loss: 0.7340 - val_accuracy: 0.7473\n",
      "Epoch 17/20\n",
      "196/196 [==============================] - 191s 973ms/step - loss: 0.8133 - accuracy: 0.7146 - val_loss: 0.7117 - val_accuracy: 0.7563\n",
      "Epoch 18/20\n",
      "196/196 [==============================] - 199s 1s/step - loss: 0.8134 - accuracy: 0.7175 - val_loss: 0.7329 - val_accuracy: 0.7453\n",
      "Epoch 19/20\n",
      "196/196 [==============================] - 219s 1s/step - loss: 0.8002 - accuracy: 0.7211 - val_loss: 0.6870 - val_accuracy: 0.7616\n",
      "Epoch 20/20\n",
      "196/196 [==============================] - 183s 935ms/step - loss: 0.7788 - accuracy: 0.7297 - val_loss: 0.7060 - val_accuracy: 0.7537\n"
     ]
    },
    {
     "output_type": "execute_result",
     "data": {
      "text/plain": [
       "<tensorflow.python.keras.callbacks.History at 0x16123f0d0>"
      ]
     },
     "metadata": {},
     "execution_count": 12
    }
   ],
   "source": [
    "# Treinamento e teste do modelo\n",
    "classificador.fit(\n",
    "    previsores_treinamento, \n",
    "    classe_treinamento, \n",
    "    batch_size = 256, \n",
    "    epochs = 20, \n",
    "    validation_data = (previsores_teste, classe_teste)\n",
    ")"
   ]
  },
  {
   "cell_type": "code",
   "execution_count": 13,
   "metadata": {},
   "outputs": [
    {
     "output_type": "stream",
     "name": "stdout",
     "text": [
      "313/313 [==============================] - 8s 25ms/step - loss: 0.7060 - accuracy: 0.7537\n"
     ]
    }
   ],
   "source": [
    "# Accuracy usando keras\n",
    "resultado = classificador.evaluate(previsores_teste, classe_teste)"
   ]
  }
 ]
}