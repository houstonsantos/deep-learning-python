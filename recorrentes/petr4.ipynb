{
 "cells": [
  {
   "cell_type": "code",
   "execution_count": 1,
   "metadata": {},
   "outputs": [],
   "source": [
    "import numpy as np\n",
    "import pandas as pd\n",
    "import matplotlib.pyplot as plt\n",
    "from keras.models import Sequential\n",
    "from keras.layers import Dense, Dropout, LSTM\n",
    "from sklearn.preprocessing import MinMaxScaler\n",
    "from keras.callbacks import EarlyStopping, ReduceLROnPlateau, ModelCheckpoint"
   ]
  },
  {
   "cell_type": "markdown",
   "metadata": {},
   "source": [
    "# Rede Neural - Recorentes\n",
    "## Ações PETR4"
   ]
  },
  {
   "cell_type": "code",
   "execution_count": 2,
   "metadata": {},
   "outputs": [
    {
     "data": {
      "text/html": [
       "<div>\n",
       "<style scoped>\n",
       "    .dataframe tbody tr th:only-of-type {\n",
       "        vertical-align: middle;\n",
       "    }\n",
       "\n",
       "    .dataframe tbody tr th {\n",
       "        vertical-align: top;\n",
       "    }\n",
       "\n",
       "    .dataframe thead th {\n",
       "        text-align: right;\n",
       "    }\n",
       "</style>\n",
       "<table border=\"1\" class=\"dataframe\">\n",
       "  <thead>\n",
       "    <tr style=\"text-align: right;\">\n",
       "      <th></th>\n",
       "      <th>Date</th>\n",
       "      <th>Open</th>\n",
       "      <th>High</th>\n",
       "      <th>Low</th>\n",
       "      <th>Close</th>\n",
       "      <th>Adj Close</th>\n",
       "      <th>Volume</th>\n",
       "    </tr>\n",
       "  </thead>\n",
       "  <tbody>\n",
       "    <tr>\n",
       "      <th>0</th>\n",
       "      <td>2013-01-02</td>\n",
       "      <td>19.990000</td>\n",
       "      <td>20.209999</td>\n",
       "      <td>19.690001</td>\n",
       "      <td>19.690001</td>\n",
       "      <td>18.086271</td>\n",
       "      <td>30182600.0</td>\n",
       "    </tr>\n",
       "    <tr>\n",
       "      <th>1</th>\n",
       "      <td>2013-01-03</td>\n",
       "      <td>19.809999</td>\n",
       "      <td>20.400000</td>\n",
       "      <td>19.700001</td>\n",
       "      <td>20.400000</td>\n",
       "      <td>18.738441</td>\n",
       "      <td>30552600.0</td>\n",
       "    </tr>\n",
       "    <tr>\n",
       "      <th>2</th>\n",
       "      <td>2013-01-04</td>\n",
       "      <td>20.330000</td>\n",
       "      <td>20.620001</td>\n",
       "      <td>20.170000</td>\n",
       "      <td>20.430000</td>\n",
       "      <td>18.766001</td>\n",
       "      <td>36141000.0</td>\n",
       "    </tr>\n",
       "    <tr>\n",
       "      <th>3</th>\n",
       "      <td>2013-01-07</td>\n",
       "      <td>20.480000</td>\n",
       "      <td>20.670000</td>\n",
       "      <td>19.950001</td>\n",
       "      <td>20.080000</td>\n",
       "      <td>18.444506</td>\n",
       "      <td>28069600.0</td>\n",
       "    </tr>\n",
       "    <tr>\n",
       "      <th>4</th>\n",
       "      <td>2013-01-08</td>\n",
       "      <td>20.110001</td>\n",
       "      <td>20.230000</td>\n",
       "      <td>19.459999</td>\n",
       "      <td>19.500000</td>\n",
       "      <td>17.911745</td>\n",
       "      <td>29091300.0</td>\n",
       "    </tr>\n",
       "  </tbody>\n",
       "</table>\n",
       "</div>"
      ],
      "text/plain": [
       "         Date       Open       High        Low      Close  Adj Close  \\\n",
       "0  2013-01-02  19.990000  20.209999  19.690001  19.690001  18.086271   \n",
       "1  2013-01-03  19.809999  20.400000  19.700001  20.400000  18.738441   \n",
       "2  2013-01-04  20.330000  20.620001  20.170000  20.430000  18.766001   \n",
       "3  2013-01-07  20.480000  20.670000  19.950001  20.080000  18.444506   \n",
       "4  2013-01-08  20.110001  20.230000  19.459999  19.500000  17.911745   \n",
       "\n",
       "       Volume  \n",
       "0  30182600.0  \n",
       "1  30552600.0  \n",
       "2  36141000.0  \n",
       "3  28069600.0  \n",
       "4  29091300.0  "
      ]
     },
     "execution_count": 2,
     "metadata": {},
     "output_type": "execute_result"
    }
   ],
   "source": [
    "# Importando bade de dados\n",
    "base = pd.read_csv('../dados/petr4_treinamento.csv')\n",
    "base.head()"
   ]
  },
  {
   "cell_type": "code",
   "execution_count": 41,
   "metadata": {},
   "outputs": [
    {
     "data": {
      "text/plain": [
       "(1245, 7)"
      ]
     },
     "execution_count": 41,
     "metadata": {},
     "output_type": "execute_result"
    }
   ],
   "source": [
    "base.shape"
   ]
  },
  {
   "cell_type": "code",
   "execution_count": 3,
   "metadata": {},
   "outputs": [
    {
     "data": {
      "text/plain": [
       "(1242, 7)"
      ]
     },
     "execution_count": 3,
     "metadata": {},
     "output_type": "execute_result"
    }
   ],
   "source": [
    "# Removendo valores null\n",
    "base = base.dropna()\n",
    "base.shape"
   ]
  },
  {
   "cell_type": "code",
   "execution_count": 4,
   "metadata": {},
   "outputs": [
    {
     "data": {
      "text/plain": [
       "array([[19.99    ],\n",
       "       [19.809999],\n",
       "       [20.33    ],\n",
       "       ...,\n",
       "       [15.99    ],\n",
       "       [16.1     ],\n",
       "       [16.1     ]])"
      ]
     },
     "execution_count": 4,
     "metadata": {},
     "output_type": "execute_result"
    }
   ],
   "source": [
    "# Pegando valores de abertura\n",
    "base_treinamento = base.iloc[:, 1:2].values\n",
    "base_treinamento"
   ]
  },
  {
   "cell_type": "code",
   "execution_count": 5,
   "metadata": {},
   "outputs": [
    {
     "data": {
      "text/plain": [
       "array([[0.76501938],\n",
       "       [0.7562984 ],\n",
       "       [0.78149225],\n",
       "       ...,\n",
       "       [0.57122093],\n",
       "       [0.57655039],\n",
       "       [0.57655039]])"
      ]
     },
     "execution_count": 5,
     "metadata": {},
     "output_type": "execute_result"
    }
   ],
   "source": [
    "# Normalizando dados de treinamento\n",
    "normalizador = MinMaxScaler(feature_range = (0, 1))\n",
    "base_treinamento_normalizada = normalizador.fit_transform(base_treinamento)\n",
    "base_treinamento_normalizada"
   ]
  },
  {
   "cell_type": "code",
   "execution_count": 6,
   "metadata": {},
   "outputs": [],
   "source": [
    "# Selecionando previsores\n",
    "previsores = []\n",
    "preco_real = []\n",
    "\n",
    "for i in range(90, 1242):\n",
    "    previsores.append(base_treinamento_normalizada[i - 90:i, 0])\n",
    "    preco_real.append(base_treinamento_normalizada[i, 0])\n",
    "\n",
    "previsores, preco_real = np.array(previsores), np.array(preco_real)\n",
    "previsores = np.reshape(previsores, (previsores.shape[0], previsores.shape[1], 1))"
   ]
  },
  {
   "cell_type": "code",
   "execution_count": 46,
   "metadata": {},
   "outputs": [
    {
     "name": "stdout",
     "output_type": "stream",
     "text": [
      "Epoch 1/100\n",
      "36/36 [==============================] - 12s 145ms/step - loss: 0.0783 - mean_absolute_error: 0.2076\n",
      "Epoch 2/100\n",
      "36/36 [==============================] - 5s 141ms/step - loss: 0.0195 - mean_absolute_error: 0.1077\n",
      "Epoch 3/100\n",
      "36/36 [==============================] - 5s 150ms/step - loss: 0.0141 - mean_absolute_error: 0.0923\n",
      "Epoch 4/100\n",
      "36/36 [==============================] - 5s 150ms/step - loss: 0.0112 - mean_absolute_error: 0.0825\n",
      "Epoch 5/100\n",
      "36/36 [==============================] - 5s 150ms/step - loss: 0.0109 - mean_absolute_error: 0.0787\n",
      "Epoch 6/100\n",
      "36/36 [==============================] - 5s 150ms/step - loss: 0.0083 - mean_absolute_error: 0.0694\n",
      "Epoch 7/100\n",
      "36/36 [==============================] - 6s 158ms/step - loss: 0.0097 - mean_absolute_error: 0.0759\n",
      "Epoch 8/100\n",
      "36/36 [==============================] - 5s 146ms/step - loss: 0.0094 - mean_absolute_error: 0.0724\n",
      "Epoch 9/100\n",
      "36/36 [==============================] - 5s 139ms/step - loss: 0.0063 - mean_absolute_error: 0.0607\n",
      "Epoch 10/100\n",
      "36/36 [==============================] - 5s 141ms/step - loss: 0.0069 - mean_absolute_error: 0.0633\n",
      "Epoch 11/100\n",
      "36/36 [==============================] - 5s 142ms/step - loss: 0.0071 - mean_absolute_error: 0.0643\n",
      "Epoch 12/100\n",
      "36/36 [==============================] - 5s 142ms/step - loss: 0.0071 - mean_absolute_error: 0.0635\n",
      "Epoch 13/100\n",
      "36/36 [==============================] - 5s 147ms/step - loss: 0.0055 - mean_absolute_error: 0.0554\n",
      "Epoch 14/100\n",
      "36/36 [==============================] - 5s 140ms/step - loss: 0.0054 - mean_absolute_error: 0.0568\n",
      "Epoch 15/100\n",
      "36/36 [==============================] - 5s 140ms/step - loss: 0.0053 - mean_absolute_error: 0.0548\n",
      "Epoch 16/100\n",
      "36/36 [==============================] - 5s 141ms/step - loss: 0.0057 - mean_absolute_error: 0.0576\n",
      "Epoch 17/100\n",
      "36/36 [==============================] - 5s 142ms/step - loss: 0.0053 - mean_absolute_error: 0.0567\n",
      "Epoch 18/100\n",
      "36/36 [==============================] - 5s 144ms/step - loss: 0.0046 - mean_absolute_error: 0.0510\n",
      "Epoch 19/100\n",
      "36/36 [==============================] - 5s 144ms/step - loss: 0.0043 - mean_absolute_error: 0.0506\n",
      "Epoch 20/100\n",
      "36/36 [==============================] - 5s 138ms/step - loss: 0.0039 - mean_absolute_error: 0.0479\n",
      "Epoch 21/100\n",
      "36/36 [==============================] - 5s 139ms/step - loss: 0.0041 - mean_absolute_error: 0.0499\n",
      "Epoch 22/100\n",
      "36/36 [==============================] - 5s 140ms/step - loss: 0.0037 - mean_absolute_error: 0.0475\n",
      "Epoch 23/100\n",
      "36/36 [==============================] - 5s 139ms/step - loss: 0.0041 - mean_absolute_error: 0.0483\n",
      "Epoch 24/100\n",
      "36/36 [==============================] - 5s 141ms/step - loss: 0.0039 - mean_absolute_error: 0.0477\n",
      "Epoch 25/100\n",
      "36/36 [==============================] - 5s 137ms/step - loss: 0.0036 - mean_absolute_error: 0.0463\n",
      "Epoch 26/100\n",
      "36/36 [==============================] - 5s 138ms/step - loss: 0.0036 - mean_absolute_error: 0.0456\n",
      "Epoch 27/100\n",
      "36/36 [==============================] - 5s 144ms/step - loss: 0.0030 - mean_absolute_error: 0.0418\n",
      "Epoch 28/100\n",
      "36/36 [==============================] - 5s 136ms/step - loss: 0.0041 - mean_absolute_error: 0.0477\n",
      "Epoch 29/100\n",
      "36/36 [==============================] - 5s 137ms/step - loss: 0.0037 - mean_absolute_error: 0.0460\n",
      "Epoch 30/100\n",
      "36/36 [==============================] - 5s 137ms/step - loss: 0.0032 - mean_absolute_error: 0.0428\n",
      "Epoch 31/100\n",
      "36/36 [==============================] - 5s 147ms/step - loss: 0.0030 - mean_absolute_error: 0.0417\n",
      "Epoch 32/100\n",
      "36/36 [==============================] - 5s 138ms/step - loss: 0.0039 - mean_absolute_error: 0.0465\n",
      "Epoch 33/100\n",
      "36/36 [==============================] - 5s 140ms/step - loss: 0.0026 - mean_absolute_error: 0.0391\n",
      "Epoch 34/100\n",
      "36/36 [==============================] - 5s 138ms/step - loss: 0.0029 - mean_absolute_error: 0.0422\n",
      "Epoch 35/100\n",
      "36/36 [==============================] - 5s 142ms/step - loss: 0.0027 - mean_absolute_error: 0.0388\n",
      "Epoch 36/100\n",
      "36/36 [==============================] - 5s 138ms/step - loss: 0.0030 - mean_absolute_error: 0.0410\n",
      "Epoch 37/100\n",
      "36/36 [==============================] - 5s 137ms/step - loss: 0.0026 - mean_absolute_error: 0.0394\n",
      "Epoch 38/100\n",
      "36/36 [==============================] - 5s 149ms/step - loss: 0.0028 - mean_absolute_error: 0.0401\n",
      "Epoch 39/100\n",
      "36/36 [==============================] - 5s 149ms/step - loss: 0.0027 - mean_absolute_error: 0.0393\n",
      "Epoch 40/100\n",
      "36/36 [==============================] - 6s 155ms/step - loss: 0.0024 - mean_absolute_error: 0.0381\n",
      "Epoch 41/100\n",
      "36/36 [==============================] - 5s 135ms/step - loss: 0.0023 - mean_absolute_error: 0.0359\n",
      "Epoch 42/100\n",
      "36/36 [==============================] - 5s 144ms/step - loss: 0.0028 - mean_absolute_error: 0.0402\n",
      "Epoch 43/100\n",
      "36/36 [==============================] - 5s 135ms/step - loss: 0.0027 - mean_absolute_error: 0.0383\n",
      "Epoch 44/100\n",
      "36/36 [==============================] - 5s 137ms/step - loss: 0.0028 - mean_absolute_error: 0.0401\n",
      "Epoch 45/100\n",
      "36/36 [==============================] - 5s 135ms/step - loss: 0.0023 - mean_absolute_error: 0.0382\n",
      "Epoch 46/100\n",
      "36/36 [==============================] - 5s 140ms/step - loss: 0.0024 - mean_absolute_error: 0.0360\n",
      "Epoch 47/100\n",
      "36/36 [==============================] - 5s 134ms/step - loss: 0.0028 - mean_absolute_error: 0.0406\n",
      "Epoch 48/100\n",
      "36/36 [==============================] - 5s 132ms/step - loss: 0.0023 - mean_absolute_error: 0.0359\n",
      "Epoch 49/100\n",
      "36/36 [==============================] - 5s 133ms/step - loss: 0.0021 - mean_absolute_error: 0.0361\n",
      "Epoch 50/100\n",
      "36/36 [==============================] - 5s 130ms/step - loss: 0.0023 - mean_absolute_error: 0.0358\n",
      "Epoch 51/100\n",
      "36/36 [==============================] - 5s 132ms/step - loss: 0.0021 - mean_absolute_error: 0.0340\n",
      "Epoch 52/100\n",
      "36/36 [==============================] - 5s 131ms/step - loss: 0.0020 - mean_absolute_error: 0.0343\n",
      "Epoch 53/100\n",
      "36/36 [==============================] - 5s 132ms/step - loss: 0.0021 - mean_absolute_error: 0.0353\n",
      "Epoch 54/100\n",
      "36/36 [==============================] - 5s 135ms/step - loss: 0.0021 - mean_absolute_error: 0.0350\n",
      "Epoch 55/100\n",
      "36/36 [==============================] - 5s 135ms/step - loss: 0.0021 - mean_absolute_error: 0.0349\n",
      "Epoch 56/100\n",
      "36/36 [==============================] - 5s 133ms/step - loss: 0.0020 - mean_absolute_error: 0.0333\n",
      "Epoch 57/100\n",
      "36/36 [==============================] - 5s 132ms/step - loss: 0.0019 - mean_absolute_error: 0.0328\n",
      "Epoch 58/100\n",
      "36/36 [==============================] - 5s 131ms/step - loss: 0.0023 - mean_absolute_error: 0.0361\n",
      "Epoch 59/100\n",
      "36/36 [==============================] - 5s 132ms/step - loss: 0.0021 - mean_absolute_error: 0.0344\n",
      "Epoch 60/100\n",
      "36/36 [==============================] - 5s 129ms/step - loss: 0.0017 - mean_absolute_error: 0.0315\n",
      "Epoch 61/100\n",
      "36/36 [==============================] - 5s 130ms/step - loss: 0.0020 - mean_absolute_error: 0.0333\n",
      "Epoch 62/100\n",
      "36/36 [==============================] - 5s 132ms/step - loss: 0.0017 - mean_absolute_error: 0.0313\n",
      "Epoch 63/100\n",
      "36/36 [==============================] - 5s 130ms/step - loss: 0.0020 - mean_absolute_error: 0.0336\n",
      "Epoch 64/100\n",
      "36/36 [==============================] - 5s 132ms/step - loss: 0.0020 - mean_absolute_error: 0.0335\n",
      "Epoch 65/100\n",
      "36/36 [==============================] - 5s 130ms/step - loss: 0.0020 - mean_absolute_error: 0.0340\n",
      "Epoch 66/100\n",
      "36/36 [==============================] - 5s 130ms/step - loss: 0.0017 - mean_absolute_error: 0.0308\n",
      "Epoch 67/100\n",
      "36/36 [==============================] - 5s 135ms/step - loss: 0.0021 - mean_absolute_error: 0.0338\n",
      "Epoch 68/100\n",
      "36/36 [==============================] - 5s 131ms/step - loss: 0.0021 - mean_absolute_error: 0.0347\n",
      "Epoch 69/100\n",
      "36/36 [==============================] - 5s 132ms/step - loss: 0.0018 - mean_absolute_error: 0.0326\n",
      "Epoch 70/100\n",
      "36/36 [==============================] - 5s 130ms/step - loss: 0.0016 - mean_absolute_error: 0.0308\n",
      "Epoch 71/100\n",
      "36/36 [==============================] - 5s 134ms/step - loss: 0.0015 - mean_absolute_error: 0.0293\n",
      "Epoch 72/100\n",
      "36/36 [==============================] - 5s 131ms/step - loss: 0.0019 - mean_absolute_error: 0.0328\n",
      "Epoch 73/100\n",
      "36/36 [==============================] - 5s 131ms/step - loss: 0.0016 - mean_absolute_error: 0.0294\n",
      "Epoch 74/100\n",
      "36/36 [==============================] - 5s 130ms/step - loss: 0.0016 - mean_absolute_error: 0.0305\n",
      "Epoch 75/100\n",
      "36/36 [==============================] - 5s 135ms/step - loss: 0.0019 - mean_absolute_error: 0.0328\n",
      "Epoch 76/100\n",
      "36/36 [==============================] - 5s 132ms/step - loss: 0.0018 - mean_absolute_error: 0.0315\n",
      "Epoch 77/100\n",
      "36/36 [==============================] - 5s 136ms/step - loss: 0.0017 - mean_absolute_error: 0.0304\n",
      "Epoch 78/100\n",
      "36/36 [==============================] - 5s 131ms/step - loss: 0.0016 - mean_absolute_error: 0.0307\n",
      "Epoch 79/100\n",
      "36/36 [==============================] - 5s 134ms/step - loss: 0.0018 - mean_absolute_error: 0.0323\n",
      "Epoch 80/100\n",
      "36/36 [==============================] - 5s 143ms/step - loss: 0.0015 - mean_absolute_error: 0.0299\n",
      "Epoch 81/100\n",
      "36/36 [==============================] - 5s 134ms/step - loss: 0.0019 - mean_absolute_error: 0.0315\n",
      "Epoch 82/100\n",
      "36/36 [==============================] - 5s 139ms/step - loss: 0.0020 - mean_absolute_error: 0.0336\n",
      "Epoch 83/100\n",
      "36/36 [==============================] - 5s 150ms/step - loss: 0.0018 - mean_absolute_error: 0.0314\n",
      "Epoch 84/100\n",
      "36/36 [==============================] - 5s 138ms/step - loss: 0.0016 - mean_absolute_error: 0.0293\n",
      "Epoch 85/100\n",
      "36/36 [==============================] - 5s 134ms/step - loss: 0.0017 - mean_absolute_error: 0.0309\n",
      "Epoch 86/100\n",
      "36/36 [==============================] - 5s 136ms/step - loss: 0.0017 - mean_absolute_error: 0.0303\n",
      "Epoch 87/100\n",
      "36/36 [==============================] - 5s 135ms/step - loss: 0.0016 - mean_absolute_error: 0.0306\n",
      "Epoch 88/100\n",
      "36/36 [==============================] - 5s 134ms/step - loss: 0.0016 - mean_absolute_error: 0.0304\n",
      "Epoch 89/100\n",
      "36/36 [==============================] - 5s 135ms/step - loss: 0.0015 - mean_absolute_error: 0.0293\n",
      "Epoch 90/100\n",
      "36/36 [==============================] - 5s 134ms/step - loss: 0.0016 - mean_absolute_error: 0.0293\n",
      "Epoch 91/100\n",
      "36/36 [==============================] - 5s 134ms/step - loss: 0.0015 - mean_absolute_error: 0.0303\n",
      "Epoch 92/100\n",
      "36/36 [==============================] - 5s 133ms/step - loss: 0.0015 - mean_absolute_error: 0.0297\n",
      "Epoch 93/100\n",
      "36/36 [==============================] - 5s 133ms/step - loss: 0.0016 - mean_absolute_error: 0.0302\n",
      "Epoch 94/100\n",
      "36/36 [==============================] - 5s 135ms/step - loss: 0.0017 - mean_absolute_error: 0.0306\n",
      "Epoch 95/100\n",
      "36/36 [==============================] - 5s 135ms/step - loss: 0.0016 - mean_absolute_error: 0.0297\n",
      "Epoch 96/100\n",
      "36/36 [==============================] - 5s 133ms/step - loss: 0.0016 - mean_absolute_error: 0.0304\n",
      "Epoch 97/100\n",
      "36/36 [==============================] - 5s 137ms/step - loss: 0.0015 - mean_absolute_error: 0.0282\n",
      "Epoch 98/100\n",
      "36/36 [==============================] - 5s 143ms/step - loss: 0.0016 - mean_absolute_error: 0.0295\n",
      "Epoch 99/100\n",
      "36/36 [==============================] - 5s 137ms/step - loss: 0.0016 - mean_absolute_error: 0.0291\n",
      "Epoch 100/100\n",
      "36/36 [==============================] - 5s 136ms/step - loss: 0.0018 - mean_absolute_error: 0.0307\n"
     ]
    },
    {
     "data": {
      "text/plain": [
       "<tensorflow.python.keras.callbacks.History at 0x1629c37f0>"
      ]
     },
     "execution_count": 46,
     "metadata": {},
     "output_type": "execute_result"
    }
   ],
   "source": [
    "# Criando estrutura da rede neural\n",
    "regressor = Sequential()\n",
    "regressor.add(LSTM(units = 100, return_sequences = True, input_shape = (previsores.shape[1], 1)))\n",
    "regressor.add(Dropout(0.3))\n",
    "regressor.add(LSTM(units = 50, return_sequences = True))\n",
    "regressor.add(Dropout(0.3))\n",
    "regressor.add(LSTM(units = 50, return_sequences = True))\n",
    "regressor.add(Dropout(0.3))\n",
    "regressor.add(LSTM(units = 50))\n",
    "regressor.add(Dropout(0.3))\n",
    "regressor.add(Dense(units = 1, activation = 'linear'))\n",
    "# Compilando rede neural\n",
    "regressor.compile(optimizer = 'rmsprop', loss = 'mean_squared_error', metrics = ['mean_absolute_error'])\n",
    "# Treinamento do modelo\n",
    "regressor.fit(previsores, preco_real, epochs = 100, batch_size = 32)"
   ]
  },
  {
   "cell_type": "markdown",
   "metadata": {},
   "source": [
    "## Realisando Previsões"
   ]
  },
  {
   "cell_type": "code",
   "execution_count": 47,
   "metadata": {},
   "outputs": [
    {
     "data": {
      "text/html": [
       "<div>\n",
       "<style scoped>\n",
       "    .dataframe tbody tr th:only-of-type {\n",
       "        vertical-align: middle;\n",
       "    }\n",
       "\n",
       "    .dataframe tbody tr th {\n",
       "        vertical-align: top;\n",
       "    }\n",
       "\n",
       "    .dataframe thead th {\n",
       "        text-align: right;\n",
       "    }\n",
       "</style>\n",
       "<table border=\"1\" class=\"dataframe\">\n",
       "  <thead>\n",
       "    <tr style=\"text-align: right;\">\n",
       "      <th></th>\n",
       "      <th>Date</th>\n",
       "      <th>Open</th>\n",
       "      <th>High</th>\n",
       "      <th>Low</th>\n",
       "      <th>Close</th>\n",
       "      <th>Adj Close</th>\n",
       "      <th>Volume</th>\n",
       "    </tr>\n",
       "  </thead>\n",
       "  <tbody>\n",
       "    <tr>\n",
       "      <th>0</th>\n",
       "      <td>2018-01-02</td>\n",
       "      <td>16.190001</td>\n",
       "      <td>16.549999</td>\n",
       "      <td>16.190001</td>\n",
       "      <td>16.549999</td>\n",
       "      <td>16.516966</td>\n",
       "      <td>33461800</td>\n",
       "    </tr>\n",
       "    <tr>\n",
       "      <th>1</th>\n",
       "      <td>2018-01-03</td>\n",
       "      <td>16.490000</td>\n",
       "      <td>16.719999</td>\n",
       "      <td>16.370001</td>\n",
       "      <td>16.700001</td>\n",
       "      <td>16.666668</td>\n",
       "      <td>55940900</td>\n",
       "    </tr>\n",
       "    <tr>\n",
       "      <th>2</th>\n",
       "      <td>2018-01-04</td>\n",
       "      <td>16.780001</td>\n",
       "      <td>16.959999</td>\n",
       "      <td>16.620001</td>\n",
       "      <td>16.730000</td>\n",
       "      <td>16.696608</td>\n",
       "      <td>37064900</td>\n",
       "    </tr>\n",
       "    <tr>\n",
       "      <th>3</th>\n",
       "      <td>2018-01-05</td>\n",
       "      <td>16.700001</td>\n",
       "      <td>16.860001</td>\n",
       "      <td>16.570000</td>\n",
       "      <td>16.830000</td>\n",
       "      <td>16.796408</td>\n",
       "      <td>26958200</td>\n",
       "    </tr>\n",
       "    <tr>\n",
       "      <th>4</th>\n",
       "      <td>2018-01-08</td>\n",
       "      <td>16.740000</td>\n",
       "      <td>17.030001</td>\n",
       "      <td>16.709999</td>\n",
       "      <td>17.030001</td>\n",
       "      <td>16.996010</td>\n",
       "      <td>28400000</td>\n",
       "    </tr>\n",
       "  </tbody>\n",
       "</table>\n",
       "</div>"
      ],
      "text/plain": [
       "         Date       Open       High        Low      Close  Adj Close    Volume\n",
       "0  2018-01-02  16.190001  16.549999  16.190001  16.549999  16.516966  33461800\n",
       "1  2018-01-03  16.490000  16.719999  16.370001  16.700001  16.666668  55940900\n",
       "2  2018-01-04  16.780001  16.959999  16.620001  16.730000  16.696608  37064900\n",
       "3  2018-01-05  16.700001  16.860001  16.570000  16.830000  16.796408  26958200\n",
       "4  2018-01-08  16.740000  17.030001  16.709999  17.030001  16.996010  28400000"
      ]
     },
     "execution_count": 47,
     "metadata": {},
     "output_type": "execute_result"
    }
   ],
   "source": [
    "# Importando bade de dados\n",
    "base_teste = pd.read_csv('../dados/petr4_teste.csv')\n",
    "base_teste.head()"
   ]
  },
  {
   "cell_type": "code",
   "execution_count": 48,
   "metadata": {},
   "outputs": [
    {
     "data": {
      "text/plain": [
       "(22, 7)"
      ]
     },
     "execution_count": 48,
     "metadata": {},
     "output_type": "execute_result"
    }
   ],
   "source": [
    "base_teste.shape"
   ]
  },
  {
   "cell_type": "code",
   "execution_count": 49,
   "metadata": {},
   "outputs": [
    {
     "data": {
      "text/plain": [
       "array([[16.190001],\n",
       "       [16.49    ],\n",
       "       [16.780001],\n",
       "       [16.700001],\n",
       "       [16.74    ],\n",
       "       [17.030001],\n",
       "       [16.92    ],\n",
       "       [16.879999],\n",
       "       [17.040001],\n",
       "       [17.32    ],\n",
       "       [17.35    ],\n",
       "       [17.92    ],\n",
       "       [18.35    ],\n",
       "       [18.309999],\n",
       "       [18.26    ],\n",
       "       [18.4     ],\n",
       "       [18.42    ],\n",
       "       [19.34    ],\n",
       "       [19.620001],\n",
       "       [19.67    ],\n",
       "       [19.77    ],\n",
       "       [19.74    ]])"
      ]
     },
     "execution_count": 49,
     "metadata": {},
     "output_type": "execute_result"
    }
   ],
   "source": [
    "# Pegando valores previsores\n",
    "preco_real_teste = base_teste.iloc[:, 1:2].values\n",
    "preco_real_teste"
   ]
  },
  {
   "cell_type": "code",
   "execution_count": 50,
   "metadata": {},
   "outputs": [
    {
     "data": {
      "text/plain": [
       "(1264,)"
      ]
     },
     "execution_count": 50,
     "metadata": {},
     "output_type": "execute_result"
    }
   ],
   "source": [
    "# Concatenado bases\n",
    "base_completa = pd.concat((base['Open'], base_teste['Open']), axis = 0)\n",
    "base_completa.shape"
   ]
  },
  {
   "cell_type": "code",
   "execution_count": 51,
   "metadata": {},
   "outputs": [
    {
     "data": {
      "text/plain": [
       "1152"
      ]
     },
     "execution_count": 51,
     "metadata": {},
     "output_type": "execute_result"
    }
   ],
   "source": [
    "len(base_completa) - len(base_teste) - 90"
   ]
  },
  {
   "cell_type": "code",
   "execution_count": 52,
   "metadata": {},
   "outputs": [
    {
     "data": {
      "text/plain": [
       "(112,)"
      ]
     },
     "execution_count": 52,
     "metadata": {},
     "output_type": "execute_result"
    }
   ],
   "source": [
    "entradas = base_completa[len(base_completa) - len(base_teste) - 90:].values\n",
    "entradas.shape"
   ]
  },
  {
   "cell_type": "code",
   "execution_count": 53,
   "metadata": {},
   "outputs": [
    {
     "data": {
      "text/plain": [
       "(112, 1)"
      ]
     },
     "execution_count": 53,
     "metadata": {},
     "output_type": "execute_result"
    }
   ],
   "source": [
    "entradas = entradas.reshape(-1, 1)\n",
    "entradas.shape"
   ]
  },
  {
   "cell_type": "code",
   "execution_count": 54,
   "metadata": {},
   "outputs": [],
   "source": [
    "# Normalizando dados de previsão\n",
    "entradas = normalizador.transform(entradas)"
   ]
  },
  {
   "cell_type": "code",
   "execution_count": 55,
   "metadata": {},
   "outputs": [
    {
     "data": {
      "text/plain": [
       "(22, 90, 1)"
      ]
     },
     "execution_count": 55,
     "metadata": {},
     "output_type": "execute_result"
    }
   ],
   "source": [
    "# Selecionando previsores\n",
    "X_teste = []\n",
    "for i in range(90, 112):\n",
    "    X_teste.append(entradas[i - 90:i, 0])\n",
    "\n",
    "X_teste = np.array(X_teste)\n",
    "X_teste = np.reshape(X_teste, (X_teste.shape[0], X_teste.shape[1], 1))\n",
    "X_teste.shape"
   ]
  },
  {
   "cell_type": "code",
   "execution_count": 56,
   "metadata": {},
   "outputs": [
    {
     "data": {
      "text/plain": [
       "array([[15.789173],\n",
       "       [15.838558],\n",
       "       [16.049456],\n",
       "       [16.344795],\n",
       "       [16.403986],\n",
       "       [16.394522],\n",
       "       [16.58195 ],\n",
       "       [16.633125],\n",
       "       [16.581644],\n",
       "       [16.652082],\n",
       "       [16.890991],\n",
       "       [17.016624],\n",
       "       [17.384157],\n",
       "       [17.843672],\n",
       "       [17.962824],\n",
       "       [17.900042],\n",
       "       [17.967678],\n",
       "       [18.04857 ],\n",
       "       [18.67526 ],\n",
       "       [19.137754],\n",
       "       [19.226885],\n",
       "       [19.267593]], dtype=float32)"
      ]
     },
     "execution_count": 56,
     "metadata": {},
     "output_type": "execute_result"
    }
   ],
   "source": [
    "# Realisando previsão\n",
    "previsoes = regressor.predict(X_teste)\n",
    "# Desnormalizando valores de saida\n",
    "previsoes = normalizador.inverse_transform(previsoes)\n",
    "previsoes"
   ]
  },
  {
   "cell_type": "code",
   "execution_count": 57,
   "metadata": {},
   "outputs": [
    {
     "data": {
      "text/plain": [
       "(17.299608, 17.87454563636364)"
      ]
     },
     "execution_count": 57,
     "metadata": {},
     "output_type": "execute_result"
    }
   ],
   "source": [
    "# Médias de previsão e preço real\n",
    "previsoes.mean(), preco_real_teste.mean()"
   ]
  },
  {
   "cell_type": "code",
   "execution_count": 58,
   "metadata": {},
   "outputs": [
    {
     "data": {
      "image/png": "[encoded data removed]",
      "image/svg+xml": "<?xml version=\"1.0\" encoding=\"utf-8\" standalone=\"no\"?>\n<!DOCTYPE svg PUBLIC \"-//W3C//DTD SVG 1.1//EN\"\n  \"http://www.w3.org/Graphics/SVG/1.1/DTD/svg11.dtd\">\n<!-- Created with matplotlib (https://matplotlib.org/) -->\n<svg height=\"277.51875pt\" version=\"1.1\" viewBox=\"0 0 392.14375 277.51875\" width=\"392.14375pt\" xmlns=\"http://www.w3.org/2000/svg\" xmlns:xlink=\"http://www.w3.org/1999/xlink\">\n <metadata>\n  <rdf:RDF xmlns:cc=\"http://creativecommons.org/ns#\" xmlns:dc=\"http://purl.org/dc/elements/1.1/\" xmlns:rdf=\"http://www.w3.org/1999/02/22-rdf-syntax-ns#\">\n   <cc:Work>\n    <dc:type rdf:resource=\"http://purl.org/dc/dcmitype/StillImage\"/>\n    <dc:date>2021-04-13T17:17:31.932786</dc:date>\n    <dc:format>image/svg+xml</dc:format>\n    <dc:creator>\n     <cc:Agent>\n      <dc:title>Matplotlib v3.3.4, https://matplotlib.org/</dc:title>\n     </cc:Agent>\n    </dc:creator>\n   </cc:Work>\n  </rdf:RDF>\n </metadata>\n <defs>\n  <style type=\"text/css\">*{stroke-linecap:butt;stroke-linejoin:round;}</style>\n </defs>\n <g id=\"figure_1\">\n  <g id=\"patch_1\">\n   <path d=\"M 0 277.51875 \nL 392.14375 277.51875 \nL 392.14375 0 \nL 0 0 \nz\n\" style=\"fill:none;\"/>\n  </g>\n  <g id=\"axes_1\">\n   <g id=\"patch_2\">\n    <path d=\"M 50.14375 239.9625 \nL 384.94375 239.9625 \nL 384.94375 22.5225 \nL 50.14375 22.5225 \nz\n\" style=\"fill:#ffffff;\"/>\n   </g>\n   <g id=\"matplotlib.axis_1\">\n    <g id=\"xtick_1\">\n     <g id=\"line2d_1\">\n      <defs>\n       <path d=\"M 0 0 \nL 0 3.5 \n\" id=\"m629a61e18e\" style=\"stroke:#000000;stroke-width:0.8;\"/>\n      </defs>\n      <g>\n       <use style=\"stroke:#000000;stroke-width:0.8;\" x=\"65.361932\" xlink:href=\"#m629a61e18e\" y=\"239.9625\"/>\n      </g>\n     </g>\n     <g id=\"text_1\">\n      <!-- 0 -->\n      <g transform=\"translate(62.180682 254.560937)scale(0.1 -0.1)\">\n       <defs>\n        <path d=\"M 31.78125 66.40625 \nQ 24.171875 66.40625 20.328125 58.90625 \nQ 16.5 51.421875 16.5 36.375 \nQ 16.5 21.390625 20.328125 13.890625 \nQ 24.171875 6.390625 31.78125 6.390625 \nQ 39.453125 6.390625 43.28125 13.890625 \nQ 47.125 21.390625 47.125 36.375 \nQ 47.125 51.421875 43.28125 58.90625 \nQ 39.453125 66.40625 31.78125 66.40625 \nz\nM 31.78125 74.21875 \nQ 44.046875 74.21875 50.515625 64.515625 \nQ 56.984375 54.828125 56.984375 36.375 \nQ 56.984375 17.96875 50.515625 8.265625 \nQ 44.046875 -1.421875 31.78125 -1.421875 \nQ 19.53125 -1.421875 13.0625 8.265625 \nQ 6.59375 17.96875 6.59375 36.375 \nQ 6.59375 54.828125 13.0625 64.515625 \nQ 19.53125 74.21875 31.78125 74.21875 \nz\n\" id=\"DejaVuSans-48\"/>\n       </defs>\n       <use xlink:href=\"#DejaVuSans-48\"/>\n      </g>\n     </g>\n    </g>\n    <g id=\"xtick_2\">\n     <g id=\"line2d_2\">\n      <g>\n       <use style=\"stroke:#000000;stroke-width:0.8;\" x=\"137.829464\" xlink:href=\"#m629a61e18e\" y=\"239.9625\"/>\n      </g>\n     </g>\n     <g id=\"text_2\">\n      <!-- 5 -->\n      <g transform=\"translate(134.648214 254.560937)scale(0.1 -0.1)\">\n       <defs>\n        <path d=\"M 10.796875 72.90625 \nL 49.515625 72.90625 \nL 49.515625 64.59375 \nL 19.828125 64.59375 \nL 19.828125 46.734375 \nQ 21.96875 47.46875 24.109375 47.828125 \nQ 26.265625 48.1875 28.421875 48.1875 \nQ 40.625 48.1875 47.75 41.5 \nQ 54.890625 34.8125 54.890625 23.390625 \nQ 54.890625 11.625 47.5625 5.09375 \nQ 40.234375 -1.421875 26.90625 -1.421875 \nQ 22.3125 -1.421875 17.546875 -0.640625 \nQ 12.796875 0.140625 7.71875 1.703125 \nL 7.71875 11.625 \nQ 12.109375 9.234375 16.796875 8.0625 \nQ 21.484375 6.890625 26.703125 6.890625 \nQ 35.15625 6.890625 40.078125 11.328125 \nQ 45.015625 15.765625 45.015625 23.390625 \nQ 45.015625 31 40.078125 35.4375 \nQ 35.15625 39.890625 26.703125 39.890625 \nQ 22.75 39.890625 18.8125 39.015625 \nQ 14.890625 38.140625 10.796875 36.28125 \nz\n\" id=\"DejaVuSans-53\"/>\n       </defs>\n       <use xlink:href=\"#DejaVuSans-53\"/>\n      </g>\n     </g>\n    </g>\n    <g id=\"xtick_3\">\n     <g id=\"line2d_3\">\n      <g>\n       <use style=\"stroke:#000000;stroke-width:0.8;\" x=\"210.296997\" xlink:href=\"#m629a61e18e\" y=\"239.9625\"/>\n      </g>\n     </g>\n     <g id=\"text_3\">\n      <!-- 10 -->\n      <g transform=\"translate(203.934497 254.560937)scale(0.1 -0.1)\">\n       <defs>\n        <path d=\"M 12.40625 8.296875 \nL 28.515625 8.296875 \nL 28.515625 63.921875 \nL 10.984375 60.40625 \nL 10.984375 69.390625 \nL 28.421875 72.90625 \nL 38.28125 72.90625 \nL 38.28125 8.296875 \nL 54.390625 8.296875 \nL 54.390625 0 \nL 12.40625 0 \nz\n\" id=\"DejaVuSans-49\"/>\n       </defs>\n       <use xlink:href=\"#DejaVuSans-49\"/>\n       <use x=\"63.623047\" xlink:href=\"#DejaVuSans-48\"/>\n      </g>\n     </g>\n    </g>\n    <g id=\"xtick_4\">\n     <g id=\"line2d_4\">\n      <g>\n       <use style=\"stroke:#000000;stroke-width:0.8;\" x=\"282.764529\" xlink:href=\"#m629a61e18e\" y=\"239.9625\"/>\n      </g>\n     </g>\n     <g id=\"text_4\">\n      <!-- 15 -->\n      <g transform=\"translate(276.402029 254.560937)scale(0.1 -0.1)\">\n       <use xlink:href=\"#DejaVuSans-49\"/>\n       <use x=\"63.623047\" xlink:href=\"#DejaVuSans-53\"/>\n      </g>\n     </g>\n    </g>\n    <g id=\"xtick_5\">\n     <g id=\"line2d_5\">\n      <g>\n       <use style=\"stroke:#000000;stroke-width:0.8;\" x=\"355.232062\" xlink:href=\"#m629a61e18e\" y=\"239.9625\"/>\n      </g>\n     </g>\n     <g id=\"text_5\">\n      <!-- 20 -->\n      <g transform=\"translate(348.869562 254.560937)scale(0.1 -0.1)\">\n       <defs>\n        <path d=\"M 19.1875 8.296875 \nL 53.609375 8.296875 \nL 53.609375 0 \nL 7.328125 0 \nL 7.328125 8.296875 \nQ 12.9375 14.109375 22.625 23.890625 \nQ 32.328125 33.6875 34.8125 36.53125 \nQ 39.546875 41.84375 41.421875 45.53125 \nQ 43.3125 49.21875 43.3125 52.78125 \nQ 43.3125 58.59375 39.234375 62.25 \nQ 35.15625 65.921875 28.609375 65.921875 \nQ 23.96875 65.921875 18.8125 64.3125 \nQ 13.671875 62.703125 7.8125 59.421875 \nL 7.8125 69.390625 \nQ 13.765625 71.78125 18.9375 73 \nQ 24.125 74.21875 28.421875 74.21875 \nQ 39.75 74.21875 46.484375 68.546875 \nQ 53.21875 62.890625 53.21875 53.421875 \nQ 53.21875 48.921875 51.53125 44.890625 \nQ 49.859375 40.875 45.40625 35.40625 \nQ 44.1875 33.984375 37.640625 27.21875 \nQ 31.109375 20.453125 19.1875 8.296875 \nz\n\" id=\"DejaVuSans-50\"/>\n       </defs>\n       <use xlink:href=\"#DejaVuSans-50\"/>\n       <use x=\"63.623047\" xlink:href=\"#DejaVuSans-48\"/>\n      </g>\n     </g>\n    </g>\n    <g id=\"text_6\">\n     <!-- Tempo -->\n     <g transform=\"translate(201.159375 268.239062)scale(0.1 -0.1)\">\n      <defs>\n       <path d=\"M -0.296875 72.90625 \nL 61.375 72.90625 \nL 61.375 64.59375 \nL 35.5 64.59375 \nL 35.5 0 \nL 25.59375 0 \nL 25.59375 64.59375 \nL -0.296875 64.59375 \nz\n\" id=\"DejaVuSans-84\"/>\n       <path d=\"M 56.203125 29.59375 \nL 56.203125 25.203125 \nL 14.890625 25.203125 \nQ 15.484375 15.921875 20.484375 11.0625 \nQ 25.484375 6.203125 34.421875 6.203125 \nQ 39.59375 6.203125 44.453125 7.46875 \nQ 49.3125 8.734375 54.109375 11.28125 \nL 54.109375 2.78125 \nQ 49.265625 0.734375 44.1875 -0.34375 \nQ 39.109375 -1.421875 33.890625 -1.421875 \nQ 20.796875 -1.421875 13.15625 6.1875 \nQ 5.515625 13.8125 5.515625 26.8125 \nQ 5.515625 40.234375 12.765625 48.109375 \nQ 20.015625 56 32.328125 56 \nQ 43.359375 56 49.78125 48.890625 \nQ 56.203125 41.796875 56.203125 29.59375 \nz\nM 47.21875 32.234375 \nQ 47.125 39.59375 43.09375 43.984375 \nQ 39.0625 48.390625 32.421875 48.390625 \nQ 24.90625 48.390625 20.390625 44.140625 \nQ 15.875 39.890625 15.1875 32.171875 \nz\n\" id=\"DejaVuSans-101\"/>\n       <path d=\"M 52 44.1875 \nQ 55.375 50.25 60.0625 53.125 \nQ 64.75 56 71.09375 56 \nQ 79.640625 56 84.28125 50.015625 \nQ 88.921875 44.046875 88.921875 33.015625 \nL 88.921875 0 \nL 79.890625 0 \nL 79.890625 32.71875 \nQ 79.890625 40.578125 77.09375 44.375 \nQ 74.3125 48.1875 68.609375 48.1875 \nQ 61.625 48.1875 57.5625 43.546875 \nQ 53.515625 38.921875 53.515625 30.90625 \nL 53.515625 0 \nL 44.484375 0 \nL 44.484375 32.71875 \nQ 44.484375 40.625 41.703125 44.40625 \nQ 38.921875 48.1875 33.109375 48.1875 \nQ 26.21875 48.1875 22.15625 43.53125 \nQ 18.109375 38.875 18.109375 30.90625 \nL 18.109375 0 \nL 9.078125 0 \nL 9.078125 54.6875 \nL 18.109375 54.6875 \nL 18.109375 46.1875 \nQ 21.1875 51.21875 25.484375 53.609375 \nQ 29.78125 56 35.6875 56 \nQ 41.65625 56 45.828125 52.96875 \nQ 50 49.953125 52 44.1875 \nz\n\" id=\"DejaVuSans-109\"/>\n       <path d=\"M 18.109375 8.203125 \nL 18.109375 -20.796875 \nL 9.078125 -20.796875 \nL 9.078125 54.6875 \nL 18.109375 54.6875 \nL 18.109375 46.390625 \nQ 20.953125 51.265625 25.265625 53.625 \nQ 29.59375 56 35.59375 56 \nQ 45.5625 56 51.78125 48.09375 \nQ 58.015625 40.1875 58.015625 27.296875 \nQ 58.015625 14.40625 51.78125 6.484375 \nQ 45.5625 -1.421875 35.59375 -1.421875 \nQ 29.59375 -1.421875 25.265625 0.953125 \nQ 20.953125 3.328125 18.109375 8.203125 \nz\nM 48.6875 27.296875 \nQ 48.6875 37.203125 44.609375 42.84375 \nQ 40.53125 48.484375 33.40625 48.484375 \nQ 26.265625 48.484375 22.1875 42.84375 \nQ 18.109375 37.203125 18.109375 27.296875 \nQ 18.109375 17.390625 22.1875 11.75 \nQ 26.265625 6.109375 33.40625 6.109375 \nQ 40.53125 6.109375 44.609375 11.75 \nQ 48.6875 17.390625 48.6875 27.296875 \nz\n\" id=\"DejaVuSans-112\"/>\n       <path d=\"M 30.609375 48.390625 \nQ 23.390625 48.390625 19.1875 42.75 \nQ 14.984375 37.109375 14.984375 27.296875 \nQ 14.984375 17.484375 19.15625 11.84375 \nQ 23.34375 6.203125 30.609375 6.203125 \nQ 37.796875 6.203125 41.984375 11.859375 \nQ 46.1875 17.53125 46.1875 27.296875 \nQ 46.1875 37.015625 41.984375 42.703125 \nQ 37.796875 48.390625 30.609375 48.390625 \nz\nM 30.609375 56 \nQ 42.328125 56 49.015625 48.375 \nQ 55.71875 40.765625 55.71875 27.296875 \nQ 55.71875 13.875 49.015625 6.21875 \nQ 42.328125 -1.421875 30.609375 -1.421875 \nQ 18.84375 -1.421875 12.171875 6.21875 \nQ 5.515625 13.875 5.515625 27.296875 \nQ 5.515625 40.765625 12.171875 48.375 \nQ 18.84375 56 30.609375 56 \nz\n\" id=\"DejaVuSans-111\"/>\n      </defs>\n      <use xlink:href=\"#DejaVuSans-84\"/>\n      <use x=\"44.083984\" xlink:href=\"#DejaVuSans-101\"/>\n      <use x=\"105.607422\" xlink:href=\"#DejaVuSans-109\"/>\n      <use x=\"203.019531\" xlink:href=\"#DejaVuSans-112\"/>\n      <use x=\"266.496094\" xlink:href=\"#DejaVuSans-111\"/>\n     </g>\n    </g>\n   </g>\n   <g id=\"matplotlib.axis_2\">\n    <g id=\"ytick_1\">\n     <g id=\"line2d_6\">\n      <defs>\n       <path d=\"M 0 0 \nL -3.5 0 \n\" id=\"mc324a78ccc\" style=\"stroke:#000000;stroke-width:0.8;\"/>\n      </defs>\n      <g>\n       <use style=\"stroke:#000000;stroke-width:0.8;\" x=\"50.14375\" xlink:href=\"#mc324a78ccc\" y=\"219.610003\"/>\n      </g>\n     </g>\n     <g id=\"text_7\">\n      <!-- 16.0 -->\n      <g transform=\"translate(20.878125 223.409221)scale(0.1 -0.1)\">\n       <defs>\n        <path d=\"M 33.015625 40.375 \nQ 26.375 40.375 22.484375 35.828125 \nQ 18.609375 31.296875 18.609375 23.390625 \nQ 18.609375 15.53125 22.484375 10.953125 \nQ 26.375 6.390625 33.015625 6.390625 \nQ 39.65625 6.390625 43.53125 10.953125 \nQ 47.40625 15.53125 47.40625 23.390625 \nQ 47.40625 31.296875 43.53125 35.828125 \nQ 39.65625 40.375 33.015625 40.375 \nz\nM 52.59375 71.296875 \nL 52.59375 62.3125 \nQ 48.875 64.0625 45.09375 64.984375 \nQ 41.3125 65.921875 37.59375 65.921875 \nQ 27.828125 65.921875 22.671875 59.328125 \nQ 17.53125 52.734375 16.796875 39.40625 \nQ 19.671875 43.65625 24.015625 45.921875 \nQ 28.375 48.1875 33.59375 48.1875 \nQ 44.578125 48.1875 50.953125 41.515625 \nQ 57.328125 34.859375 57.328125 23.390625 \nQ 57.328125 12.15625 50.6875 5.359375 \nQ 44.046875 -1.421875 33.015625 -1.421875 \nQ 20.359375 -1.421875 13.671875 8.265625 \nQ 6.984375 17.96875 6.984375 36.375 \nQ 6.984375 53.65625 15.1875 63.9375 \nQ 23.390625 74.21875 37.203125 74.21875 \nQ 40.921875 74.21875 44.703125 73.484375 \nQ 48.484375 72.75 52.59375 71.296875 \nz\n\" id=\"DejaVuSans-54\"/>\n        <path d=\"M 10.6875 12.40625 \nL 21 12.40625 \nL 21 0 \nL 10.6875 0 \nz\n\" id=\"DejaVuSans-46\"/>\n       </defs>\n       <use xlink:href=\"#DejaVuSans-49\"/>\n       <use x=\"63.623047\" xlink:href=\"#DejaVuSans-54\"/>\n       <use x=\"127.246094\" xlink:href=\"#DejaVuSans-46\"/>\n       <use x=\"159.033203\" xlink:href=\"#DejaVuSans-48\"/>\n      </g>\n     </g>\n    </g>\n    <g id=\"ytick_2\">\n     <g id=\"line2d_7\">\n      <g>\n       <use style=\"stroke:#000000;stroke-width:0.8;\" x=\"50.14375\" xlink:href=\"#mc324a78ccc\" y=\"194.781904\"/>\n      </g>\n     </g>\n     <g id=\"text_8\">\n      <!-- 16.5 -->\n      <g transform=\"translate(20.878125 198.581122)scale(0.1 -0.1)\">\n       <use xlink:href=\"#DejaVuSans-49\"/>\n       <use x=\"63.623047\" xlink:href=\"#DejaVuSans-54\"/>\n       <use x=\"127.246094\" xlink:href=\"#DejaVuSans-46\"/>\n       <use x=\"159.033203\" xlink:href=\"#DejaVuSans-53\"/>\n      </g>\n     </g>\n    </g>\n    <g id=\"ytick_3\">\n     <g id=\"line2d_8\">\n      <g>\n       <use style=\"stroke:#000000;stroke-width:0.8;\" x=\"50.14375\" xlink:href=\"#mc324a78ccc\" y=\"169.953805\"/>\n      </g>\n     </g>\n     <g id=\"text_9\">\n      <!-- 17.0 -->\n      <g transform=\"translate(20.878125 173.753023)scale(0.1 -0.1)\">\n       <defs>\n        <path d=\"M 8.203125 72.90625 \nL 55.078125 72.90625 \nL 55.078125 68.703125 \nL 28.609375 0 \nL 18.3125 0 \nL 43.21875 64.59375 \nL 8.203125 64.59375 \nz\n\" id=\"DejaVuSans-55\"/>\n       </defs>\n       <use xlink:href=\"#DejaVuSans-49\"/>\n       <use x=\"63.623047\" xlink:href=\"#DejaVuSans-55\"/>\n       <use x=\"127.246094\" xlink:href=\"#DejaVuSans-46\"/>\n       <use x=\"159.033203\" xlink:href=\"#DejaVuSans-48\"/>\n      </g>\n     </g>\n    </g>\n    <g id=\"ytick_4\">\n     <g id=\"line2d_9\">\n      <g>\n       <use style=\"stroke:#000000;stroke-width:0.8;\" x=\"50.14375\" xlink:href=\"#mc324a78ccc\" y=\"145.125706\"/>\n      </g>\n     </g>\n     <g id=\"text_10\">\n      <!-- 17.5 -->\n      <g transform=\"translate(20.878125 148.924924)scale(0.1 -0.1)\">\n       <use xlink:href=\"#DejaVuSans-49\"/>\n       <use x=\"63.623047\" xlink:href=\"#DejaVuSans-55\"/>\n       <use x=\"127.246094\" xlink:href=\"#DejaVuSans-46\"/>\n       <use x=\"159.033203\" xlink:href=\"#DejaVuSans-53\"/>\n      </g>\n     </g>\n    </g>\n    <g id=\"ytick_5\">\n     <g id=\"line2d_10\">\n      <g>\n       <use style=\"stroke:#000000;stroke-width:0.8;\" x=\"50.14375\" xlink:href=\"#mc324a78ccc\" y=\"120.297607\"/>\n      </g>\n     </g>\n     <g id=\"text_11\">\n      <!-- 18.0 -->\n      <g transform=\"translate(20.878125 124.096825)scale(0.1 -0.1)\">\n       <defs>\n        <path d=\"M 31.78125 34.625 \nQ 24.75 34.625 20.71875 30.859375 \nQ 16.703125 27.09375 16.703125 20.515625 \nQ 16.703125 13.921875 20.71875 10.15625 \nQ 24.75 6.390625 31.78125 6.390625 \nQ 38.8125 6.390625 42.859375 10.171875 \nQ 46.921875 13.96875 46.921875 20.515625 \nQ 46.921875 27.09375 42.890625 30.859375 \nQ 38.875 34.625 31.78125 34.625 \nz\nM 21.921875 38.8125 \nQ 15.578125 40.375 12.03125 44.71875 \nQ 8.5 49.078125 8.5 55.328125 \nQ 8.5 64.0625 14.71875 69.140625 \nQ 20.953125 74.21875 31.78125 74.21875 \nQ 42.671875 74.21875 48.875 69.140625 \nQ 55.078125 64.0625 55.078125 55.328125 \nQ 55.078125 49.078125 51.53125 44.71875 \nQ 48 40.375 41.703125 38.8125 \nQ 48.828125 37.15625 52.796875 32.3125 \nQ 56.78125 27.484375 56.78125 20.515625 \nQ 56.78125 9.90625 50.3125 4.234375 \nQ 43.84375 -1.421875 31.78125 -1.421875 \nQ 19.734375 -1.421875 13.25 4.234375 \nQ 6.78125 9.90625 6.78125 20.515625 \nQ 6.78125 27.484375 10.78125 32.3125 \nQ 14.796875 37.15625 21.921875 38.8125 \nz\nM 18.3125 54.390625 \nQ 18.3125 48.734375 21.84375 45.5625 \nQ 25.390625 42.390625 31.78125 42.390625 \nQ 38.140625 42.390625 41.71875 45.5625 \nQ 45.3125 48.734375 45.3125 54.390625 \nQ 45.3125 60.0625 41.71875 63.234375 \nQ 38.140625 66.40625 31.78125 66.40625 \nQ 25.390625 66.40625 21.84375 63.234375 \nQ 18.3125 60.0625 18.3125 54.390625 \nz\n\" id=\"DejaVuSans-56\"/>\n       </defs>\n       <use xlink:href=\"#DejaVuSans-49\"/>\n       <use x=\"63.623047\" xlink:href=\"#DejaVuSans-56\"/>\n       <use x=\"127.246094\" xlink:href=\"#DejaVuSans-46\"/>\n       <use x=\"159.033203\" xlink:href=\"#DejaVuSans-48\"/>\n      </g>\n     </g>\n    </g>\n    <g id=\"ytick_6\">\n     <g id=\"line2d_11\">\n      <g>\n       <use style=\"stroke:#000000;stroke-width:0.8;\" x=\"50.14375\" xlink:href=\"#mc324a78ccc\" y=\"95.469508\"/>\n      </g>\n     </g>\n     <g id=\"text_12\">\n      <!-- 18.5 -->\n      <g transform=\"translate(20.878125 99.268727)scale(0.1 -0.1)\">\n       <use xlink:href=\"#DejaVuSans-49\"/>\n       <use x=\"63.623047\" xlink:href=\"#DejaVuSans-56\"/>\n       <use x=\"127.246094\" xlink:href=\"#DejaVuSans-46\"/>\n       <use x=\"159.033203\" xlink:href=\"#DejaVuSans-53\"/>\n      </g>\n     </g>\n    </g>\n    <g id=\"ytick_7\">\n     <g id=\"line2d_12\">\n      <g>\n       <use style=\"stroke:#000000;stroke-width:0.8;\" x=\"50.14375\" xlink:href=\"#mc324a78ccc\" y=\"70.641409\"/>\n      </g>\n     </g>\n     <g id=\"text_13\">\n      <!-- 19.0 -->\n      <g transform=\"translate(20.878125 74.440628)scale(0.1 -0.1)\">\n       <defs>\n        <path d=\"M 10.984375 1.515625 \nL 10.984375 10.5 \nQ 14.703125 8.734375 18.5 7.8125 \nQ 22.3125 6.890625 25.984375 6.890625 \nQ 35.75 6.890625 40.890625 13.453125 \nQ 46.046875 20.015625 46.78125 33.40625 \nQ 43.953125 29.203125 39.59375 26.953125 \nQ 35.25 24.703125 29.984375 24.703125 \nQ 19.046875 24.703125 12.671875 31.3125 \nQ 6.296875 37.9375 6.296875 49.421875 \nQ 6.296875 60.640625 12.9375 67.421875 \nQ 19.578125 74.21875 30.609375 74.21875 \nQ 43.265625 74.21875 49.921875 64.515625 \nQ 56.59375 54.828125 56.59375 36.375 \nQ 56.59375 19.140625 48.40625 8.859375 \nQ 40.234375 -1.421875 26.421875 -1.421875 \nQ 22.703125 -1.421875 18.890625 -0.6875 \nQ 15.09375 0.046875 10.984375 1.515625 \nz\nM 30.609375 32.421875 \nQ 37.25 32.421875 41.125 36.953125 \nQ 45.015625 41.5 45.015625 49.421875 \nQ 45.015625 57.28125 41.125 61.84375 \nQ 37.25 66.40625 30.609375 66.40625 \nQ 23.96875 66.40625 20.09375 61.84375 \nQ 16.21875 57.28125 16.21875 49.421875 \nQ 16.21875 41.5 20.09375 36.953125 \nQ 23.96875 32.421875 30.609375 32.421875 \nz\n\" id=\"DejaVuSans-57\"/>\n       </defs>\n       <use xlink:href=\"#DejaVuSans-49\"/>\n       <use x=\"63.623047\" xlink:href=\"#DejaVuSans-57\"/>\n       <use x=\"127.246094\" xlink:href=\"#DejaVuSans-46\"/>\n       <use x=\"159.033203\" xlink:href=\"#DejaVuSans-48\"/>\n      </g>\n     </g>\n    </g>\n    <g id=\"ytick_8\">\n     <g id=\"line2d_13\">\n      <g>\n       <use style=\"stroke:#000000;stroke-width:0.8;\" x=\"50.14375\" xlink:href=\"#mc324a78ccc\" y=\"45.81331\"/>\n      </g>\n     </g>\n     <g id=\"text_14\">\n      <!-- 19.5 -->\n      <g transform=\"translate(20.878125 49.612529)scale(0.1 -0.1)\">\n       <use xlink:href=\"#DejaVuSans-49\"/>\n       <use x=\"63.623047\" xlink:href=\"#DejaVuSans-57\"/>\n       <use x=\"127.246094\" xlink:href=\"#DejaVuSans-46\"/>\n       <use x=\"159.033203\" xlink:href=\"#DejaVuSans-53\"/>\n      </g>\n     </g>\n    </g>\n    <g id=\"text_15\">\n     <!-- Valor Yahoo -->\n     <g transform=\"translate(14.798438 160.150312)rotate(-90)scale(0.1 -0.1)\">\n      <defs>\n       <path d=\"M 28.609375 0 \nL 0.78125 72.90625 \nL 11.078125 72.90625 \nL 34.1875 11.53125 \nL 57.328125 72.90625 \nL 67.578125 72.90625 \nL 39.796875 0 \nz\n\" id=\"DejaVuSans-86\"/>\n       <path d=\"M 34.28125 27.484375 \nQ 23.390625 27.484375 19.1875 25 \nQ 14.984375 22.515625 14.984375 16.5 \nQ 14.984375 11.71875 18.140625 8.90625 \nQ 21.296875 6.109375 26.703125 6.109375 \nQ 34.1875 6.109375 38.703125 11.40625 \nQ 43.21875 16.703125 43.21875 25.484375 \nL 43.21875 27.484375 \nz\nM 52.203125 31.203125 \nL 52.203125 0 \nL 43.21875 0 \nL 43.21875 8.296875 \nQ 40.140625 3.328125 35.546875 0.953125 \nQ 30.953125 -1.421875 24.3125 -1.421875 \nQ 15.921875 -1.421875 10.953125 3.296875 \nQ 6 8.015625 6 15.921875 \nQ 6 25.140625 12.171875 29.828125 \nQ 18.359375 34.515625 30.609375 34.515625 \nL 43.21875 34.515625 \nL 43.21875 35.40625 \nQ 43.21875 41.609375 39.140625 45 \nQ 35.0625 48.390625 27.6875 48.390625 \nQ 23 48.390625 18.546875 47.265625 \nQ 14.109375 46.140625 10.015625 43.890625 \nL 10.015625 52.203125 \nQ 14.9375 54.109375 19.578125 55.046875 \nQ 24.21875 56 28.609375 56 \nQ 40.484375 56 46.34375 49.84375 \nQ 52.203125 43.703125 52.203125 31.203125 \nz\n\" id=\"DejaVuSans-97\"/>\n       <path d=\"M 9.421875 75.984375 \nL 18.40625 75.984375 \nL 18.40625 0 \nL 9.421875 0 \nz\n\" id=\"DejaVuSans-108\"/>\n       <path d=\"M 41.109375 46.296875 \nQ 39.59375 47.171875 37.8125 47.578125 \nQ 36.03125 48 33.890625 48 \nQ 26.265625 48 22.1875 43.046875 \nQ 18.109375 38.09375 18.109375 28.8125 \nL 18.109375 0 \nL 9.078125 0 \nL 9.078125 54.6875 \nL 18.109375 54.6875 \nL 18.109375 46.1875 \nQ 20.953125 51.171875 25.484375 53.578125 \nQ 30.03125 56 36.53125 56 \nQ 37.453125 56 38.578125 55.875 \nQ 39.703125 55.765625 41.0625 55.515625 \nz\n\" id=\"DejaVuSans-114\"/>\n       <path id=\"DejaVuSans-32\"/>\n       <path d=\"M -0.203125 72.90625 \nL 10.40625 72.90625 \nL 30.609375 42.921875 \nL 50.6875 72.90625 \nL 61.28125 72.90625 \nL 35.5 34.71875 \nL 35.5 0 \nL 25.59375 0 \nL 25.59375 34.71875 \nz\n\" id=\"DejaVuSans-89\"/>\n       <path d=\"M 54.890625 33.015625 \nL 54.890625 0 \nL 45.90625 0 \nL 45.90625 32.71875 \nQ 45.90625 40.484375 42.875 44.328125 \nQ 39.84375 48.1875 33.796875 48.1875 \nQ 26.515625 48.1875 22.3125 43.546875 \nQ 18.109375 38.921875 18.109375 30.90625 \nL 18.109375 0 \nL 9.078125 0 \nL 9.078125 75.984375 \nL 18.109375 75.984375 \nL 18.109375 46.1875 \nQ 21.34375 51.125 25.703125 53.5625 \nQ 30.078125 56 35.796875 56 \nQ 45.21875 56 50.046875 50.171875 \nQ 54.890625 44.34375 54.890625 33.015625 \nz\n\" id=\"DejaVuSans-104\"/>\n      </defs>\n      <use xlink:href=\"#DejaVuSans-86\"/>\n      <use x=\"60.658203\" xlink:href=\"#DejaVuSans-97\"/>\n      <use x=\"121.9375\" xlink:href=\"#DejaVuSans-108\"/>\n      <use x=\"149.720703\" xlink:href=\"#DejaVuSans-111\"/>\n      <use x=\"210.902344\" xlink:href=\"#DejaVuSans-114\"/>\n      <use x=\"252.015625\" xlink:href=\"#DejaVuSans-32\"/>\n      <use x=\"283.802734\" xlink:href=\"#DejaVuSans-89\"/>\n      <use x=\"331.136719\" xlink:href=\"#DejaVuSans-97\"/>\n      <use x=\"392.416016\" xlink:href=\"#DejaVuSans-104\"/>\n      <use x=\"455.794922\" xlink:href=\"#DejaVuSans-111\"/>\n      <use x=\"516.976562\" xlink:href=\"#DejaVuSans-111\"/>\n     </g>\n    </g>\n   </g>\n   <g id=\"line2d_14\">\n    <path clip-path=\"url(#p4abcb3bd07)\" d=\"M 65.361932 210.175275 \nL 79.855438 195.278466 \nL 94.348945 180.878119 \nL 108.842451 184.850614 \nL 123.335958 182.864416 \nL 137.829464 168.464069 \nL 152.322971 173.926301 \nL 166.816477 175.912598 \nL 181.309984 167.967507 \nL 195.80349 154.063821 \nL 210.296997 152.574135 \nL 224.790503 124.270103 \nL 239.28401 102.917937 \nL 253.777516 104.904235 \nL 268.271023 107.386995 \nL 282.764529 100.435128 \nL 297.258036 99.442004 \nL 311.751542 53.758301 \nL 326.245049 39.854516 \nL 340.738555 37.371756 \nL 355.232062 32.406136 \nL 369.725568 33.895822 \n\" style=\"fill:none;stroke:#ff0000;stroke-linecap:square;stroke-width:1.5;\"/>\n   </g>\n   <g id=\"line2d_15\">\n    <path clip-path=\"url(#p4abcb3bd07)\" d=\"M 65.361932 230.078864 \nL 79.855438 227.626589 \nL 94.348945 217.154223 \nL 108.842451 202.488783 \nL 123.335958 199.549595 \nL 137.829464 200.019554 \nL 152.322971 190.712616 \nL 166.816477 188.171407 \nL 181.309984 190.72777 \nL 195.80349 187.230068 \nL 210.296997 175.366767 \nL 224.790503 169.128298 \nL 239.28401 150.87802 \nL 253.777516 128.060271 \nL 268.271023 122.143632 \nL 282.764529 125.261162 \nL 297.258036 121.902591 \nL 311.751542 117.885774 \nL 326.245049 86.766736 \nL 340.738555 63.801047 \nL 355.232062 59.37517 \nL 369.725568 57.353739 \n\" style=\"fill:none;stroke:#0000ff;stroke-linecap:square;stroke-width:1.5;\"/>\n   </g>\n   <g id=\"patch_3\">\n    <path d=\"M 50.14375 239.9625 \nL 50.14375 22.5225 \n\" style=\"fill:none;stroke:#000000;stroke-linecap:square;stroke-linejoin:miter;stroke-width:0.8;\"/>\n   </g>\n   <g id=\"patch_4\">\n    <path d=\"M 384.94375 239.9625 \nL 384.94375 22.5225 \n\" style=\"fill:none;stroke:#000000;stroke-linecap:square;stroke-linejoin:miter;stroke-width:0.8;\"/>\n   </g>\n   <g id=\"patch_5\">\n    <path d=\"M 50.14375 239.9625 \nL 384.94375 239.9625 \n\" style=\"fill:none;stroke:#000000;stroke-linecap:square;stroke-linejoin:miter;stroke-width:0.8;\"/>\n   </g>\n   <g id=\"patch_6\">\n    <path d=\"M 50.14375 22.5225 \nL 384.94375 22.5225 \n\" style=\"fill:none;stroke:#000000;stroke-linecap:square;stroke-linejoin:miter;stroke-width:0.8;\"/>\n   </g>\n   <g id=\"text_16\">\n    <!-- Previsão preço das ações -->\n    <g transform=\"translate(141.715938 16.5225)scale(0.12 -0.12)\">\n     <defs>\n      <path d=\"M 19.671875 64.796875 \nL 19.671875 37.40625 \nL 32.078125 37.40625 \nQ 38.96875 37.40625 42.71875 40.96875 \nQ 46.484375 44.53125 46.484375 51.125 \nQ 46.484375 57.671875 42.71875 61.234375 \nQ 38.96875 64.796875 32.078125 64.796875 \nz\nM 9.8125 72.90625 \nL 32.078125 72.90625 \nQ 44.34375 72.90625 50.609375 67.359375 \nQ 56.890625 61.8125 56.890625 51.125 \nQ 56.890625 40.328125 50.609375 34.8125 \nQ 44.34375 29.296875 32.078125 29.296875 \nL 19.671875 29.296875 \nL 19.671875 0 \nL 9.8125 0 \nz\n\" id=\"DejaVuSans-80\"/>\n      <path d=\"M 2.984375 54.6875 \nL 12.5 54.6875 \nL 29.59375 8.796875 \nL 46.6875 54.6875 \nL 56.203125 54.6875 \nL 35.6875 0 \nL 23.484375 0 \nz\n\" id=\"DejaVuSans-118\"/>\n      <path d=\"M 9.421875 54.6875 \nL 18.40625 54.6875 \nL 18.40625 0 \nL 9.421875 0 \nz\nM 9.421875 75.984375 \nL 18.40625 75.984375 \nL 18.40625 64.59375 \nL 9.421875 64.59375 \nz\n\" id=\"DejaVuSans-105\"/>\n      <path d=\"M 44.28125 53.078125 \nL 44.28125 44.578125 \nQ 40.484375 46.53125 36.375 47.5 \nQ 32.28125 48.484375 27.875 48.484375 \nQ 21.1875 48.484375 17.84375 46.4375 \nQ 14.5 44.390625 14.5 40.28125 \nQ 14.5 37.15625 16.890625 35.375 \nQ 19.28125 33.59375 26.515625 31.984375 \nL 29.59375 31.296875 \nQ 39.15625 29.25 43.1875 25.515625 \nQ 47.21875 21.78125 47.21875 15.09375 \nQ 47.21875 7.46875 41.1875 3.015625 \nQ 35.15625 -1.421875 24.609375 -1.421875 \nQ 20.21875 -1.421875 15.453125 -0.5625 \nQ 10.6875 0.296875 5.421875 2 \nL 5.421875 11.28125 \nQ 10.40625 8.6875 15.234375 7.390625 \nQ 20.0625 6.109375 24.8125 6.109375 \nQ 31.15625 6.109375 34.5625 8.28125 \nQ 37.984375 10.453125 37.984375 14.40625 \nQ 37.984375 18.0625 35.515625 20.015625 \nQ 33.0625 21.96875 24.703125 23.78125 \nL 21.578125 24.515625 \nQ 13.234375 26.265625 9.515625 29.90625 \nQ 5.8125 33.546875 5.8125 39.890625 \nQ 5.8125 47.609375 11.28125 51.796875 \nQ 16.75 56 26.8125 56 \nQ 31.78125 56 36.171875 55.265625 \nQ 40.578125 54.546875 44.28125 53.078125 \nz\n\" id=\"DejaVuSans-115\"/>\n      <path d=\"M 34.28125 27.484375 \nQ 23.390625 27.484375 19.1875 25 \nQ 14.984375 22.515625 14.984375 16.5 \nQ 14.984375 11.71875 18.140625 8.90625 \nQ 21.296875 6.109375 26.703125 6.109375 \nQ 34.1875 6.109375 38.703125 11.40625 \nQ 43.21875 16.703125 43.21875 25.484375 \nL 43.21875 27.484375 \nz\nM 52.203125 31.203125 \nL 52.203125 0 \nL 43.21875 0 \nL 43.21875 8.296875 \nQ 40.140625 3.328125 35.546875 0.953125 \nQ 30.953125 -1.421875 24.3125 -1.421875 \nQ 15.921875 -1.421875 10.953125 3.296875 \nQ 6 8.015625 6 15.921875 \nQ 6 25.140625 12.171875 29.828125 \nQ 18.359375 34.515625 30.609375 34.515625 \nL 43.21875 34.515625 \nL 43.21875 35.40625 \nQ 43.21875 41.609375 39.140625 45 \nQ 35.0625 48.390625 27.6875 48.390625 \nQ 23 48.390625 18.546875 47.265625 \nQ 14.109375 46.140625 10.015625 43.890625 \nL 10.015625 52.203125 \nQ 14.9375 54.109375 19.578125 55.046875 \nQ 24.21875 56 28.609375 56 \nQ 40.484375 56 46.34375 49.84375 \nQ 52.203125 43.703125 52.203125 31.203125 \nz\nM 28.8125 66.890625 \nL 26.015625 69.578125 \nQ 24.953125 70.5625 24.140625 71.015625 \nQ 23.34375 71.484375 22.703125 71.484375 \nQ 20.84375 71.484375 19.96875 69.703125 \nQ 19.09375 67.921875 18.984375 63.921875 \nL 12.890625 63.921875 \nQ 12.984375 70.515625 15.46875 74.09375 \nQ 17.96875 77.6875 22.40625 77.6875 \nQ 24.265625 77.6875 25.828125 77 \nQ 27.390625 76.3125 29.203125 74.703125 \nL 31.984375 72.015625 \nQ 33.046875 71.046875 33.859375 70.578125 \nQ 34.671875 70.125 35.296875 70.125 \nQ 37.15625 70.125 38.03125 71.90625 \nQ 38.90625 73.6875 39.015625 77.6875 \nL 45.109375 77.6875 \nQ 45.015625 71.09375 42.515625 67.5 \nQ 40.03125 63.921875 35.59375 63.921875 \nQ 33.734375 63.921875 32.171875 64.59375 \nQ 30.609375 65.28125 28.8125 66.890625 \nz\n\" id=\"DejaVuSans-227\"/>\n      <path d=\"M 48.78125 52.59375 \nL 48.78125 44.1875 \nQ 44.96875 46.296875 41.140625 47.34375 \nQ 37.3125 48.390625 33.40625 48.390625 \nQ 24.65625 48.390625 19.8125 42.84375 \nQ 14.984375 37.3125 14.984375 27.296875 \nQ 14.984375 17.28125 19.8125 11.734375 \nQ 24.65625 6.203125 33.40625 6.203125 \nQ 37.3125 6.203125 41.140625 7.25 \nQ 44.96875 8.296875 48.78125 10.40625 \nL 48.78125 2.09375 \nQ 45.015625 0.34375 40.984375 -0.53125 \nQ 36.96875 -1.421875 32.421875 -1.421875 \nQ 20.0625 -1.421875 12.78125 6.34375 \nQ 5.515625 14.109375 5.515625 27.296875 \nQ 5.515625 40.671875 12.859375 48.328125 \nQ 20.21875 56 33.015625 56 \nQ 37.15625 56 41.109375 55.140625 \nQ 45.0625 54.296875 48.78125 52.59375 \nz\nM 36.109375 0 \nQ 38.78125 -3.03125 40.09375 -5.59375 \nQ 41.421875 -8.15625 41.421875 -10.5 \nQ 41.421875 -14.84375 38.484375 -17.0625 \nQ 35.5625 -19.28125 29.796875 -19.28125 \nQ 27.5625 -19.28125 25.4375 -18.984375 \nQ 23.3125 -18.703125 21.203125 -18.109375 \nL 21.203125 -11.71875 \nQ 22.875 -12.546875 24.671875 -12.90625 \nQ 26.484375 -13.28125 28.78125 -13.28125 \nQ 31.65625 -13.28125 33.125 -12.109375 \nQ 34.59375 -10.9375 34.59375 -8.6875 \nQ 34.59375 -7.234375 33.53125 -5.109375 \nQ 32.484375 -2.984375 30.296875 0 \nz\n\" id=\"DejaVuSans-231\"/>\n      <path d=\"M 45.40625 46.390625 \nL 45.40625 75.984375 \nL 54.390625 75.984375 \nL 54.390625 0 \nL 45.40625 0 \nL 45.40625 8.203125 \nQ 42.578125 3.328125 38.25 0.953125 \nQ 33.9375 -1.421875 27.875 -1.421875 \nQ 17.96875 -1.421875 11.734375 6.484375 \nQ 5.515625 14.40625 5.515625 27.296875 \nQ 5.515625 40.1875 11.734375 48.09375 \nQ 17.96875 56 27.875 56 \nQ 33.9375 56 38.25 53.625 \nQ 42.578125 51.265625 45.40625 46.390625 \nz\nM 14.796875 27.296875 \nQ 14.796875 17.390625 18.875 11.75 \nQ 22.953125 6.109375 30.078125 6.109375 \nQ 37.203125 6.109375 41.296875 11.75 \nQ 45.40625 17.390625 45.40625 27.296875 \nQ 45.40625 37.203125 41.296875 42.84375 \nQ 37.203125 48.484375 30.078125 48.484375 \nQ 22.953125 48.484375 18.875 42.84375 \nQ 14.796875 37.203125 14.796875 27.296875 \nz\n\" id=\"DejaVuSans-100\"/>\n      <path d=\"M 30.609375 48.390625 \nQ 23.390625 48.390625 19.1875 42.75 \nQ 14.984375 37.109375 14.984375 27.296875 \nQ 14.984375 17.484375 19.15625 11.84375 \nQ 23.34375 6.203125 30.609375 6.203125 \nQ 37.796875 6.203125 41.984375 11.859375 \nQ 46.1875 17.53125 46.1875 27.296875 \nQ 46.1875 37.015625 41.984375 42.703125 \nQ 37.796875 48.390625 30.609375 48.390625 \nz\nM 30.609375 56 \nQ 42.328125 56 49.015625 48.375 \nQ 55.71875 40.765625 55.71875 27.296875 \nQ 55.71875 13.875 49.015625 6.21875 \nQ 42.328125 -1.421875 30.609375 -1.421875 \nQ 18.84375 -1.421875 12.171875 6.21875 \nQ 5.515625 13.875 5.515625 27.296875 \nQ 5.515625 40.765625 12.171875 48.375 \nQ 18.84375 56 30.609375 56 \nz\nM 30.4375 66.890625 \nL 27.640625 69.578125 \nQ 26.578125 70.5625 25.765625 71.015625 \nQ 24.96875 71.484375 24.328125 71.484375 \nQ 22.46875 71.484375 21.59375 69.703125 \nQ 20.71875 67.921875 20.609375 63.921875 \nL 14.515625 63.921875 \nQ 14.609375 70.515625 17.09375 74.09375 \nQ 19.59375 77.6875 24.03125 77.6875 \nQ 25.890625 77.6875 27.453125 77 \nQ 29.015625 76.3125 30.828125 74.703125 \nL 33.609375 72.015625 \nQ 34.671875 71.046875 35.484375 70.578125 \nQ 36.296875 70.125 36.921875 70.125 \nQ 38.78125 70.125 39.65625 71.90625 \nQ 40.53125 73.6875 40.640625 77.6875 \nL 46.734375 77.6875 \nQ 46.640625 71.09375 44.140625 67.5 \nQ 41.65625 63.921875 37.21875 63.921875 \nQ 35.359375 63.921875 33.796875 64.59375 \nQ 32.234375 65.28125 30.4375 66.890625 \nz\n\" id=\"DejaVuSans-245\"/>\n     </defs>\n     <use xlink:href=\"#DejaVuSans-80\"/>\n     <use x=\"58.552734\" xlink:href=\"#DejaVuSans-114\"/>\n     <use x=\"97.416016\" xlink:href=\"#DejaVuSans-101\"/>\n     <use x=\"158.939453\" xlink:href=\"#DejaVuSans-118\"/>\n     <use x=\"218.119141\" xlink:href=\"#DejaVuSans-105\"/>\n     <use x=\"245.902344\" xlink:href=\"#DejaVuSans-115\"/>\n     <use x=\"298.001953\" xlink:href=\"#DejaVuSans-227\"/>\n     <use x=\"359.28125\" xlink:href=\"#DejaVuSans-111\"/>\n     <use x=\"420.462891\" xlink:href=\"#DejaVuSans-32\"/>\n     <use x=\"452.25\" xlink:href=\"#DejaVuSans-112\"/>\n     <use x=\"515.726562\" xlink:href=\"#DejaVuSans-114\"/>\n     <use x=\"554.589844\" xlink:href=\"#DejaVuSans-101\"/>\n     <use x=\"616.113281\" xlink:href=\"#DejaVuSans-231\"/>\n     <use x=\"671.09375\" xlink:href=\"#DejaVuSans-111\"/>\n     <use x=\"732.275391\" xlink:href=\"#DejaVuSans-32\"/>\n     <use x=\"764.0625\" xlink:href=\"#DejaVuSans-100\"/>\n     <use x=\"827.539062\" xlink:href=\"#DejaVuSans-97\"/>\n     <use x=\"888.818359\" xlink:href=\"#DejaVuSans-115\"/>\n     <use x=\"940.917969\" xlink:href=\"#DejaVuSans-32\"/>\n     <use x=\"972.705078\" xlink:href=\"#DejaVuSans-97\"/>\n     <use x=\"1033.984375\" xlink:href=\"#DejaVuSans-231\"/>\n     <use x=\"1088.964844\" xlink:href=\"#DejaVuSans-245\"/>\n     <use x=\"1150.146484\" xlink:href=\"#DejaVuSans-101\"/>\n     <use x=\"1211.669922\" xlink:href=\"#DejaVuSans-115\"/>\n    </g>\n   </g>\n   <g id=\"legend_1\">\n    <g id=\"patch_7\">\n     <path d=\"M 57.14375 59.87875 \nL 138.778125 59.87875 \nQ 140.778125 59.87875 140.778125 57.87875 \nL 140.778125 29.5225 \nQ 140.778125 27.5225 138.778125 27.5225 \nL 57.14375 27.5225 \nQ 55.14375 27.5225 55.14375 29.5225 \nL 55.14375 57.87875 \nQ 55.14375 59.87875 57.14375 59.87875 \nz\n\" style=\"fill:#ffffff;opacity:0.8;stroke:#cccccc;stroke-linejoin:miter;\"/>\n    </g>\n    <g id=\"line2d_16\">\n     <path d=\"M 59.14375 35.620937 \nL 79.14375 35.620937 \n\" style=\"fill:none;stroke:#ff0000;stroke-linecap:square;stroke-width:1.5;\"/>\n    </g>\n    <g id=\"line2d_17\"/>\n    <g id=\"text_17\">\n     <!-- Preço real -->\n     <g transform=\"translate(87.14375 39.120937)scale(0.1 -0.1)\">\n      <use xlink:href=\"#DejaVuSans-80\"/>\n      <use x=\"58.552734\" xlink:href=\"#DejaVuSans-114\"/>\n      <use x=\"97.416016\" xlink:href=\"#DejaVuSans-101\"/>\n      <use x=\"158.939453\" xlink:href=\"#DejaVuSans-231\"/>\n      <use x=\"213.919922\" xlink:href=\"#DejaVuSans-111\"/>\n      <use x=\"275.101562\" xlink:href=\"#DejaVuSans-32\"/>\n      <use x=\"306.888672\" xlink:href=\"#DejaVuSans-114\"/>\n      <use x=\"345.751953\" xlink:href=\"#DejaVuSans-101\"/>\n      <use x=\"407.275391\" xlink:href=\"#DejaVuSans-97\"/>\n      <use x=\"468.554688\" xlink:href=\"#DejaVuSans-108\"/>\n     </g>\n    </g>\n    <g id=\"line2d_18\">\n     <path d=\"M 59.14375 50.299062 \nL 79.14375 50.299062 \n\" style=\"fill:none;stroke:#0000ff;stroke-linecap:square;stroke-width:1.5;\"/>\n    </g>\n    <g id=\"line2d_19\"/>\n    <g id=\"text_18\">\n     <!-- Previsões -->\n     <g transform=\"translate(87.14375 53.799062)scale(0.1 -0.1)\">\n      <use xlink:href=\"#DejaVuSans-80\"/>\n      <use x=\"58.552734\" xlink:href=\"#DejaVuSans-114\"/>\n      <use x=\"97.416016\" xlink:href=\"#DejaVuSans-101\"/>\n      <use x=\"158.939453\" xlink:href=\"#DejaVuSans-118\"/>\n      <use x=\"218.119141\" xlink:href=\"#DejaVuSans-105\"/>\n      <use x=\"245.902344\" xlink:href=\"#DejaVuSans-115\"/>\n      <use x=\"298.001953\" xlink:href=\"#DejaVuSans-245\"/>\n      <use x=\"359.183594\" xlink:href=\"#DejaVuSans-101\"/>\n      <use x=\"420.707031\" xlink:href=\"#DejaVuSans-115\"/>\n     </g>\n    </g>\n   </g>\n  </g>\n </g>\n <defs>\n  <clipPath id=\"p4abcb3bd07\">\n   <rect height=\"217.44\" width=\"334.8\" x=\"50.14375\" y=\"22.5225\"/>\n  </clipPath>\n </defs>\n</svg>\n",
      "text/plain": [
       "<Figure size 432x288 with 1 Axes>"
      ]
     },
     "metadata": {
      "needs_background": "light"
     },
     "output_type": "display_data"
    }
   ],
   "source": [
    "# Plot de previsões e preço real\n",
    "plt.plot(preco_real_teste, color = 'red', label = 'Preço real')\n",
    "plt.plot(previsoes, color = 'blue', label = 'Previsões')\n",
    "plt.title('Previsão preço das ações')\n",
    "plt.xlabel('Tempo')\n",
    "plt.ylabel('Valor Yahoo')\n",
    "plt.legend()\n",
    "plt.show()"
   ]
  },
  {
   "cell_type": "markdown",
   "metadata": {},
   "source": [
    "# Rede Neural - Recorentes\n",
    "## Múltiplos Previsores"
   ]
  },
  {
   "cell_type": "code",
   "execution_count": 13,
   "metadata": {},
   "outputs": [
    {
     "data": {
      "text/html": [
       "<div>\n",
       "<style scoped>\n",
       "    .dataframe tbody tr th:only-of-type {\n",
       "        vertical-align: middle;\n",
       "    }\n",
       "\n",
       "    .dataframe tbody tr th {\n",
       "        vertical-align: top;\n",
       "    }\n",
       "\n",
       "    .dataframe thead th {\n",
       "        text-align: right;\n",
       "    }\n",
       "</style>\n",
       "<table border=\"1\" class=\"dataframe\">\n",
       "  <thead>\n",
       "    <tr style=\"text-align: right;\">\n",
       "      <th></th>\n",
       "      <th>Date</th>\n",
       "      <th>Open</th>\n",
       "      <th>High</th>\n",
       "      <th>Low</th>\n",
       "      <th>Close</th>\n",
       "      <th>Adj Close</th>\n",
       "      <th>Volume</th>\n",
       "    </tr>\n",
       "  </thead>\n",
       "  <tbody>\n",
       "    <tr>\n",
       "      <th>0</th>\n",
       "      <td>2013-01-02</td>\n",
       "      <td>19.990000</td>\n",
       "      <td>20.209999</td>\n",
       "      <td>19.690001</td>\n",
       "      <td>19.690001</td>\n",
       "      <td>18.086271</td>\n",
       "      <td>30182600.0</td>\n",
       "    </tr>\n",
       "    <tr>\n",
       "      <th>1</th>\n",
       "      <td>2013-01-03</td>\n",
       "      <td>19.809999</td>\n",
       "      <td>20.400000</td>\n",
       "      <td>19.700001</td>\n",
       "      <td>20.400000</td>\n",
       "      <td>18.738441</td>\n",
       "      <td>30552600.0</td>\n",
       "    </tr>\n",
       "    <tr>\n",
       "      <th>2</th>\n",
       "      <td>2013-01-04</td>\n",
       "      <td>20.330000</td>\n",
       "      <td>20.620001</td>\n",
       "      <td>20.170000</td>\n",
       "      <td>20.430000</td>\n",
       "      <td>18.766001</td>\n",
       "      <td>36141000.0</td>\n",
       "    </tr>\n",
       "    <tr>\n",
       "      <th>3</th>\n",
       "      <td>2013-01-07</td>\n",
       "      <td>20.480000</td>\n",
       "      <td>20.670000</td>\n",
       "      <td>19.950001</td>\n",
       "      <td>20.080000</td>\n",
       "      <td>18.444506</td>\n",
       "      <td>28069600.0</td>\n",
       "    </tr>\n",
       "    <tr>\n",
       "      <th>4</th>\n",
       "      <td>2013-01-08</td>\n",
       "      <td>20.110001</td>\n",
       "      <td>20.230000</td>\n",
       "      <td>19.459999</td>\n",
       "      <td>19.500000</td>\n",
       "      <td>17.911745</td>\n",
       "      <td>29091300.0</td>\n",
       "    </tr>\n",
       "  </tbody>\n",
       "</table>\n",
       "</div>"
      ],
      "text/plain": [
       "         Date       Open       High        Low      Close  Adj Close  \\\n",
       "0  2013-01-02  19.990000  20.209999  19.690001  19.690001  18.086271   \n",
       "1  2013-01-03  19.809999  20.400000  19.700001  20.400000  18.738441   \n",
       "2  2013-01-04  20.330000  20.620001  20.170000  20.430000  18.766001   \n",
       "3  2013-01-07  20.480000  20.670000  19.950001  20.080000  18.444506   \n",
       "4  2013-01-08  20.110001  20.230000  19.459999  19.500000  17.911745   \n",
       "\n",
       "       Volume  \n",
       "0  30182600.0  \n",
       "1  30552600.0  \n",
       "2  36141000.0  \n",
       "3  28069600.0  \n",
       "4  29091300.0  "
      ]
     },
     "execution_count": 13,
     "metadata": {},
     "output_type": "execute_result"
    }
   ],
   "source": [
    "# Importando bade de dados\n",
    "base = pd.read_csv('../dados/petr4_treinamento.csv')\n",
    "# Removendo valores null\n",
    "base = base.dropna()\n",
    "base.head()"
   ]
  },
  {
   "cell_type": "code",
   "execution_count": 14,
   "metadata": {},
   "outputs": [],
   "source": [
    "# Pegando valores previsores\n",
    "base_treinamento = base.iloc[:, 1:7].values"
   ]
  },
  {
   "cell_type": "code",
   "execution_count": 15,
   "metadata": {},
   "outputs": [],
   "source": [
    "# Normalizando dados de treinamento\n",
    "normalizador = MinMaxScaler(feature_range = (0,1))\n",
    "base_treinamento_normalizada = normalizador.fit_transform(base_treinamento)"
   ]
  },
  {
   "cell_type": "code",
   "execution_count": 16,
   "metadata": {},
   "outputs": [],
   "source": [
    "# Selecionando previsores\n",
    "previsores = []\n",
    "preco_real = []\n",
    "\n",
    "for i in range(90, 1242):\n",
    "    previsores.append(base_treinamento_normalizada[i - 90:i, 0:6])\n",
    "    preco_real.append(base_treinamento_normalizada[i, 0])\n",
    "\n",
    "previsores, preco_real = np.array(previsores), np.array(preco_real)"
   ]
  },
  {
   "cell_type": "code",
   "execution_count": 17,
   "metadata": {},
   "outputs": [
    {
     "name": "stdout",
     "output_type": "stream",
     "text": [
      "Epoch 1/100\n",
      "36/36 [==============================] - 12s 151ms/step - loss: 0.0239 - mean_absolute_error: 0.1172\n",
      "\n",
      "Epoch 00001: loss improved from inf to 0.01505, saving model to pesos.h5\n",
      "Epoch 2/100\n",
      "36/36 [==============================] - 5s 131ms/step - loss: 0.0059 - mean_absolute_error: 0.0614\n",
      "\n",
      "Epoch 00002: loss improved from 0.01505 to 0.00535, saving model to pesos.h5\n",
      "Epoch 3/100\n",
      "36/36 [==============================] - 5s 131ms/step - loss: 0.0039 - mean_absolute_error: 0.0480\n",
      "\n",
      "Epoch 00003: loss improved from 0.00535 to 0.00410, saving model to pesos.h5\n",
      "Epoch 4/100\n",
      "36/36 [==============================] - 5s 130ms/step - loss: 0.0041 - mean_absolute_error: 0.0502\n",
      "\n",
      "Epoch 00004: loss improved from 0.00410 to 0.00386, saving model to pesos.h5\n",
      "Epoch 5/100\n",
      "36/36 [==============================] - 5s 131ms/step - loss: 0.0036 - mean_absolute_error: 0.0471\n",
      "\n",
      "Epoch 00005: loss improved from 0.00386 to 0.00348, saving model to pesos.h5\n",
      "Epoch 6/100\n",
      "36/36 [==============================] - 6s 158ms/step - loss: 0.0035 - mean_absolute_error: 0.0455\n",
      "\n",
      "Epoch 00006: loss improved from 0.00348 to 0.00316, saving model to pesos.h5\n",
      "Epoch 7/100\n",
      "36/36 [==============================] - 5s 137ms/step - loss: 0.0031 - mean_absolute_error: 0.0425\n",
      "\n",
      "Epoch 00007: loss did not improve from 0.00316\n",
      "Epoch 8/100\n",
      "36/36 [==============================] - 5s 138ms/step - loss: 0.0030 - mean_absolute_error: 0.0426\n",
      "\n",
      "Epoch 00008: loss improved from 0.00316 to 0.00304, saving model to pesos.h5\n",
      "Epoch 9/100\n",
      "36/36 [==============================] - 5s 147ms/step - loss: 0.0033 - mean_absolute_error: 0.0432\n",
      "\n",
      "Epoch 00009: loss did not improve from 0.00304\n",
      "Epoch 10/100\n",
      "36/36 [==============================] - 5s 135ms/step - loss: 0.0031 - mean_absolute_error: 0.0435\n",
      "\n",
      "Epoch 00010: loss improved from 0.00304 to 0.00295, saving model to pesos.h5\n",
      "Epoch 11/100\n",
      "36/36 [==============================] - 5s 151ms/step - loss: 0.0026 - mean_absolute_error: 0.0393\n",
      "\n",
      "Epoch 00011: loss improved from 0.00295 to 0.00264, saving model to pesos.h5\n",
      "Epoch 12/100\n",
      "36/36 [==============================] - 6s 156ms/step - loss: 0.0023 - mean_absolute_error: 0.0377\n",
      "\n",
      "Epoch 00012: loss improved from 0.00264 to 0.00228, saving model to pesos.h5\n",
      "Epoch 13/100\n",
      "36/36 [==============================] - 5s 134ms/step - loss: 0.0024 - mean_absolute_error: 0.0375\n",
      "\n",
      "Epoch 00013: loss did not improve from 0.00228\n",
      "Epoch 14/100\n",
      "36/36 [==============================] - 5s 144ms/step - loss: 0.0023 - mean_absolute_error: 0.0367\n",
      "\n",
      "Epoch 00014: loss did not improve from 0.00228\n",
      "Epoch 15/100\n",
      "36/36 [==============================] - 5s 146ms/step - loss: 0.0022 - mean_absolute_error: 0.0361\n",
      "\n",
      "Epoch 00015: loss improved from 0.00228 to 0.00225, saving model to pesos.h5\n",
      "Epoch 16/100\n",
      "36/36 [==============================] - 5s 132ms/step - loss: 0.0023 - mean_absolute_error: 0.0358\n",
      "\n",
      "Epoch 00016: loss improved from 0.00225 to 0.00207, saving model to pesos.h5\n",
      "Epoch 17/100\n",
      "36/36 [==============================] - 5s 132ms/step - loss: 0.0020 - mean_absolute_error: 0.0344\n",
      "\n",
      "Epoch 00017: loss improved from 0.00207 to 0.00188, saving model to pesos.h5\n",
      "Epoch 18/100\n",
      "36/36 [==============================] - 4s 125ms/step - loss: 0.0020 - mean_absolute_error: 0.0346\n",
      "\n",
      "Epoch 00018: loss did not improve from 0.00188\n",
      "Epoch 19/100\n",
      "36/36 [==============================] - 5s 131ms/step - loss: 0.0019 - mean_absolute_error: 0.0327\n",
      "\n",
      "Epoch 00019: loss did not improve from 0.00188\n",
      "Epoch 20/100\n",
      "36/36 [==============================] - 5s 132ms/step - loss: 0.0018 - mean_absolute_error: 0.0335\n",
      "\n",
      "Epoch 00020: loss improved from 0.00188 to 0.00173, saving model to pesos.h5\n",
      "Epoch 21/100\n",
      "36/36 [==============================] - 5s 130ms/step - loss: 0.0017 - mean_absolute_error: 0.0301\n",
      "\n",
      "Epoch 00021: loss improved from 0.00173 to 0.00162, saving model to pesos.h5\n",
      "Epoch 22/100\n",
      "36/36 [==============================] - 5s 130ms/step - loss: 0.0017 - mean_absolute_error: 0.0318\n",
      "\n",
      "Epoch 00022: loss did not improve from 0.00162\n",
      "Epoch 23/100\n",
      "36/36 [==============================] - 6s 167ms/step - loss: 0.0017 - mean_absolute_error: 0.0309\n",
      "\n",
      "Epoch 00023: loss did not improve from 0.00162\n",
      "Epoch 24/100\n",
      "36/36 [==============================] - 6s 166ms/step - loss: 0.0016 - mean_absolute_error: 0.0307\n",
      "\n",
      "Epoch 00024: loss did not improve from 0.00162\n",
      "Epoch 25/100\n",
      "36/36 [==============================] - 7s 200ms/step - loss: 0.0015 - mean_absolute_error: 0.0299\n",
      "\n",
      "Epoch 00025: loss improved from 0.00162 to 0.00158, saving model to pesos.h5\n",
      "Epoch 26/100\n",
      "36/36 [==============================] - 6s 168ms/step - loss: 0.0015 - mean_absolute_error: 0.0301\n",
      "\n",
      "Epoch 00026: ReduceLROnPlateau reducing learning rate to 0.00020000000949949026.\n",
      "\n",
      "Epoch 00026: loss improved from 0.00158 to 0.00157, saving model to pesos.h5\n",
      "Epoch 27/100\n",
      "36/36 [==============================] - 5s 144ms/step - loss: 0.0017 - mean_absolute_error: 0.0307\n",
      "\n",
      "Epoch 00027: loss improved from 0.00157 to 0.00152, saving model to pesos.h5\n",
      "Epoch 28/100\n",
      "36/36 [==============================] - 5s 138ms/step - loss: 0.0013 - mean_absolute_error: 0.0278\n",
      "\n",
      "Epoch 00028: loss improved from 0.00152 to 0.00130, saving model to pesos.h5\n",
      "Epoch 29/100\n",
      "36/36 [==============================] - 5s 140ms/step - loss: 0.0013 - mean_absolute_error: 0.0281\n",
      "\n",
      "Epoch 00029: loss did not improve from 0.00130\n",
      "Epoch 30/100\n",
      "36/36 [==============================] - 5s 129ms/step - loss: 0.0012 - mean_absolute_error: 0.0266\n",
      "\n",
      "Epoch 00030: loss improved from 0.00130 to 0.00129, saving model to pesos.h5\n",
      "Epoch 31/100\n",
      "36/36 [==============================] - 5s 127ms/step - loss: 0.0014 - mean_absolute_error: 0.0279\n",
      "\n",
      "Epoch 00031: loss did not improve from 0.00129\n",
      "Epoch 32/100\n",
      "36/36 [==============================] - 5s 141ms/step - loss: 0.0013 - mean_absolute_error: 0.0263\n",
      "\n",
      "Epoch 00032: loss improved from 0.00129 to 0.00120, saving model to pesos.h5\n",
      "Epoch 33/100\n",
      "36/36 [==============================] - 5s 137ms/step - loss: 0.0013 - mean_absolute_error: 0.0276\n",
      "\n",
      "Epoch 00033: loss did not improve from 0.00120\n",
      "Epoch 34/100\n",
      "36/36 [==============================] - 5s 147ms/step - loss: 0.0012 - mean_absolute_error: 0.0262\n",
      "\n",
      "Epoch 00034: loss did not improve from 0.00120\n",
      "Epoch 35/100\n",
      "36/36 [==============================] - 5s 145ms/step - loss: 0.0013 - mean_absolute_error: 0.0258\n",
      "\n",
      "Epoch 00035: loss did not improve from 0.00120\n",
      "Epoch 36/100\n",
      "36/36 [==============================] - 5s 149ms/step - loss: 0.0015 - mean_absolute_error: 0.0294\n",
      "\n",
      "Epoch 00036: loss did not improve from 0.00120\n",
      "Epoch 37/100\n",
      "36/36 [==============================] - 5s 148ms/step - loss: 0.0012 - mean_absolute_error: 0.0267\n",
      "\n",
      "Epoch 00037: ReduceLROnPlateau reducing learning rate to 4.0000001899898055e-05.\n",
      "\n",
      "Epoch 00037: loss did not improve from 0.00120\n",
      "Epoch 38/100\n",
      "36/36 [==============================] - 5s 137ms/step - loss: 0.0012 - mean_absolute_error: 0.0261\n",
      "\n",
      "Epoch 00038: loss did not improve from 0.00120\n",
      "Epoch 39/100\n",
      "36/36 [==============================] - 5s 140ms/step - loss: 0.0012 - mean_absolute_error: 0.0260\n",
      "\n",
      "Epoch 00039: loss did not improve from 0.00120\n",
      "Epoch 40/100\n",
      "36/36 [==============================] - 5s 140ms/step - loss: 0.0012 - mean_absolute_error: 0.0267\n",
      "\n",
      "Epoch 00040: loss did not improve from 0.00120\n",
      "Epoch 41/100\n",
      "36/36 [==============================] - 5s 147ms/step - loss: 0.0013 - mean_absolute_error: 0.0266\n",
      "\n",
      "Epoch 00041: loss did not improve from 0.00120\n",
      "Epoch 42/100\n",
      "36/36 [==============================] - 5s 149ms/step - loss: 0.0013 - mean_absolute_error: 0.0262\n",
      "\n",
      "Epoch 00042: ReduceLROnPlateau reducing learning rate to 8.000000525498762e-06.\n",
      "\n",
      "Epoch 00042: loss did not improve from 0.00120\n",
      "Epoch 00042: early stopping\n"
     ]
    },
    {
     "data": {
      "text/plain": [
       "<tensorflow.python.keras.callbacks.History at 0x1637ea070>"
      ]
     },
     "execution_count": 17,
     "metadata": {},
     "output_type": "execute_result"
    }
   ],
   "source": [
    "# Criando estrutura da rede neural\n",
    "regressor = Sequential()\n",
    "regressor.add(LSTM(units = 100, return_sequences = True, input_shape = (previsores.shape[1], 6)))\n",
    "regressor.add(Dropout(0.3))\n",
    "regressor.add(LSTM(units = 50, return_sequences = True))\n",
    "regressor.add(Dropout(0.3))\n",
    "regressor.add(LSTM(units = 50, return_sequences = True))\n",
    "regressor.add(Dropout(0.3))\n",
    "regressor.add(LSTM(units = 50))\n",
    "regressor.add(Dropout(0.3))\n",
    "regressor.add(Dense(units = 1, activation = 'sigmoid'))\n",
    "# Compilando rede neural\n",
    "regressor.compile(optimizer = 'adam', loss = 'mean_squared_error', metrics = ['mean_absolute_error'])\n",
    "\n",
    "# Definindo funções de callbacks\n",
    "es = EarlyStopping(monitor = 'loss', min_delta = 1e-10, patience = 10, verbose = 1)\n",
    "rlr = ReduceLROnPlateau(monitor = 'loss', factor = 0.2, patience = 5, verbose = 1)\n",
    "mcp = ModelCheckpoint(filepath = 'pesos.h5', monitor = 'loss', save_best_only = True, verbose = 1)\n",
    "\n",
    "# Treinamento do modelo\n",
    "regressor.fit(previsores, preco_real, epochs = 100, batch_size = 32, callbacks = [es, rlr, mcp])"
   ]
  },
  {
   "cell_type": "markdown",
   "metadata": {},
   "source": [
    "## Realisando Previsões - Múltiplos Previsores"
   ]
  },
  {
   "cell_type": "code",
   "execution_count": 18,
   "metadata": {},
   "outputs": [],
   "source": [
    "# Importando bade de dados\n",
    "base_teste = pd.read_csv('../dados/petr4_teste.csv')\n",
    "# Pegando valores previsores\n",
    "preco_real_teste = base_teste.iloc[:, 1:2].values\n",
    "# Concatenando as bases\n",
    "frames = [base, base_teste]\n",
    "base_completa = pd.concat(frames)\n",
    "# Apagando feature Date\n",
    "base_completa = base_completa.drop('Date', axis = 1)"
   ]
  },
  {
   "cell_type": "code",
   "execution_count": 19,
   "metadata": {},
   "outputs": [],
   "source": [
    "# Selecionando entradas\n",
    "entradas = base_completa[len(base_completa) - len(base_teste) - 90:].values\n",
    "# Normalizando dados de previsão\n",
    "entradas = normalizador.transform(entradas)"
   ]
  },
  {
   "cell_type": "code",
   "execution_count": 20,
   "metadata": {},
   "outputs": [],
   "source": [
    "# Selecionando previsores\n",
    "X_teste = []\n",
    "\n",
    "for i in range(90, 112):\n",
    "    X_teste.append(entradas[i-90:i, 0:6])\n",
    "\n",
    "X_teste = np.array(X_teste)"
   ]
  },
  {
   "cell_type": "code",
   "execution_count": 21,
   "metadata": {},
   "outputs": [],
   "source": [
    "# Realisando previsão\n",
    "previsoes = regressor.predict(X_teste)\n",
    "\n",
    "# Desnormalizando valores de saida\n",
    "normalizador_previsao = MinMaxScaler(feature_range=(0, 1))\n",
    "normalizador_previsao.fit_transform(base_treinamento[:, 0:1])\n",
    "previsoes = normalizador_previsao.inverse_transform(previsoes)"
   ]
  },
  {
   "cell_type": "code",
   "execution_count": 22,
   "metadata": {},
   "outputs": [
    {
     "data": {
      "text/plain": [
       "(17.733429, 17.87454563636364)"
      ]
     },
     "execution_count": 22,
     "metadata": {},
     "output_type": "execute_result"
    }
   ],
   "source": [
    "# Médias de previsão e preço real\n",
    "previsoes.mean(), preco_real_teste.mean()"
   ]
  },
  {
   "cell_type": "code",
   "execution_count": 23,
   "metadata": {},
   "outputs": [
    {
     "data": {
      "image/png": "[encoded data removed]",
      "image/svg+xml": "<?xml version=\"1.0\" encoding=\"utf-8\" standalone=\"no\"?>\n<!DOCTYPE svg PUBLIC \"-//W3C//DTD SVG 1.1//EN\"\n  \"http://www.w3.org/Graphics/SVG/1.1/DTD/svg11.dtd\">\n<!-- Created with matplotlib (https://matplotlib.org/) -->\n<svg height=\"277.51875pt\" version=\"1.1\" viewBox=\"0 0 392.14375 277.51875\" width=\"392.14375pt\" xmlns=\"http://www.w3.org/2000/svg\" xmlns:xlink=\"http://www.w3.org/1999/xlink\">\n <metadata>\n  <rdf:RDF xmlns:cc=\"http://creativecommons.org/ns#\" xmlns:dc=\"http://purl.org/dc/elements/1.1/\" xmlns:rdf=\"http://www.w3.org/1999/02/22-rdf-syntax-ns#\">\n   <cc:Work>\n    <dc:type rdf:resource=\"http://purl.org/dc/dcmitype/StillImage\"/>\n    <dc:date>2021-04-14T00:22:06.587555</dc:date>\n    <dc:format>image/svg+xml</dc:format>\n    <dc:creator>\n     <cc:Agent>\n      <dc:title>Matplotlib v3.3.4, https://matplotlib.org/</dc:title>\n     </cc:Agent>\n    </dc:creator>\n   </cc:Work>\n  </rdf:RDF>\n </metadata>\n <defs>\n  <style type=\"text/css\">*{stroke-linecap:butt;stroke-linejoin:round;}</style>\n </defs>\n <g id=\"figure_1\">\n  <g id=\"patch_1\">\n   <path d=\"M 0 277.51875 \nL 392.14375 277.51875 \nL 392.14375 0 \nL 0 0 \nz\n\" style=\"fill:none;\"/>\n  </g>\n  <g id=\"axes_1\">\n   <g id=\"patch_2\">\n    <path d=\"M 50.14375 239.9625 \nL 384.94375 239.9625 \nL 384.94375 22.5225 \nL 50.14375 22.5225 \nz\n\" style=\"fill:#ffffff;\"/>\n   </g>\n   <g id=\"matplotlib.axis_1\">\n    <g id=\"xtick_1\">\n     <g id=\"line2d_1\">\n      <defs>\n       <path d=\"M 0 0 \nL 0 3.5 \n\" id=\"m05b2aafd9a\" style=\"stroke:#000000;stroke-width:0.8;\"/>\n      </defs>\n      <g>\n       <use style=\"stroke:#000000;stroke-width:0.8;\" x=\"65.361932\" xlink:href=\"#m05b2aafd9a\" y=\"239.9625\"/>\n      </g>\n     </g>\n     <g id=\"text_1\">\n      <!-- 0 -->\n      <g transform=\"translate(62.180682 254.560937)scale(0.1 -0.1)\">\n       <defs>\n        <path d=\"M 31.78125 66.40625 \nQ 24.171875 66.40625 20.328125 58.90625 \nQ 16.5 51.421875 16.5 36.375 \nQ 16.5 21.390625 20.328125 13.890625 \nQ 24.171875 6.390625 31.78125 6.390625 \nQ 39.453125 6.390625 43.28125 13.890625 \nQ 47.125 21.390625 47.125 36.375 \nQ 47.125 51.421875 43.28125 58.90625 \nQ 39.453125 66.40625 31.78125 66.40625 \nz\nM 31.78125 74.21875 \nQ 44.046875 74.21875 50.515625 64.515625 \nQ 56.984375 54.828125 56.984375 36.375 \nQ 56.984375 17.96875 50.515625 8.265625 \nQ 44.046875 -1.421875 31.78125 -1.421875 \nQ 19.53125 -1.421875 13.0625 8.265625 \nQ 6.59375 17.96875 6.59375 36.375 \nQ 6.59375 54.828125 13.0625 64.515625 \nQ 19.53125 74.21875 31.78125 74.21875 \nz\n\" id=\"DejaVuSans-48\"/>\n       </defs>\n       <use xlink:href=\"#DejaVuSans-48\"/>\n      </g>\n     </g>\n    </g>\n    <g id=\"xtick_2\">\n     <g id=\"line2d_2\">\n      <g>\n       <use style=\"stroke:#000000;stroke-width:0.8;\" x=\"137.829464\" xlink:href=\"#m05b2aafd9a\" y=\"239.9625\"/>\n      </g>\n     </g>\n     <g id=\"text_2\">\n      <!-- 5 -->\n      <g transform=\"translate(134.648214 254.560937)scale(0.1 -0.1)\">\n       <defs>\n        <path d=\"M 10.796875 72.90625 \nL 49.515625 72.90625 \nL 49.515625 64.59375 \nL 19.828125 64.59375 \nL 19.828125 46.734375 \nQ 21.96875 47.46875 24.109375 47.828125 \nQ 26.265625 48.1875 28.421875 48.1875 \nQ 40.625 48.1875 47.75 41.5 \nQ 54.890625 34.8125 54.890625 23.390625 \nQ 54.890625 11.625 47.5625 5.09375 \nQ 40.234375 -1.421875 26.90625 -1.421875 \nQ 22.3125 -1.421875 17.546875 -0.640625 \nQ 12.796875 0.140625 7.71875 1.703125 \nL 7.71875 11.625 \nQ 12.109375 9.234375 16.796875 8.0625 \nQ 21.484375 6.890625 26.703125 6.890625 \nQ 35.15625 6.890625 40.078125 11.328125 \nQ 45.015625 15.765625 45.015625 23.390625 \nQ 45.015625 31 40.078125 35.4375 \nQ 35.15625 39.890625 26.703125 39.890625 \nQ 22.75 39.890625 18.8125 39.015625 \nQ 14.890625 38.140625 10.796875 36.28125 \nz\n\" id=\"DejaVuSans-53\"/>\n       </defs>\n       <use xlink:href=\"#DejaVuSans-53\"/>\n      </g>\n     </g>\n    </g>\n    <g id=\"xtick_3\">\n     <g id=\"line2d_3\">\n      <g>\n       <use style=\"stroke:#000000;stroke-width:0.8;\" x=\"210.296997\" xlink:href=\"#m05b2aafd9a\" y=\"239.9625\"/>\n      </g>\n     </g>\n     <g id=\"text_3\">\n      <!-- 10 -->\n      <g transform=\"translate(203.934497 254.560937)scale(0.1 -0.1)\">\n       <defs>\n        <path d=\"M 12.40625 8.296875 \nL 28.515625 8.296875 \nL 28.515625 63.921875 \nL 10.984375 60.40625 \nL 10.984375 69.390625 \nL 28.421875 72.90625 \nL 38.28125 72.90625 \nL 38.28125 8.296875 \nL 54.390625 8.296875 \nL 54.390625 0 \nL 12.40625 0 \nz\n\" id=\"DejaVuSans-49\"/>\n       </defs>\n       <use xlink:href=\"#DejaVuSans-49\"/>\n       <use x=\"63.623047\" xlink:href=\"#DejaVuSans-48\"/>\n      </g>\n     </g>\n    </g>\n    <g id=\"xtick_4\">\n     <g id=\"line2d_4\">\n      <g>\n       <use style=\"stroke:#000000;stroke-width:0.8;\" x=\"282.764529\" xlink:href=\"#m05b2aafd9a\" y=\"239.9625\"/>\n      </g>\n     </g>\n     <g id=\"text_4\">\n      <!-- 15 -->\n      <g transform=\"translate(276.402029 254.560937)scale(0.1 -0.1)\">\n       <use xlink:href=\"#DejaVuSans-49\"/>\n       <use x=\"63.623047\" xlink:href=\"#DejaVuSans-53\"/>\n      </g>\n     </g>\n    </g>\n    <g id=\"xtick_5\">\n     <g id=\"line2d_5\">\n      <g>\n       <use style=\"stroke:#000000;stroke-width:0.8;\" x=\"355.232062\" xlink:href=\"#m05b2aafd9a\" y=\"239.9625\"/>\n      </g>\n     </g>\n     <g id=\"text_5\">\n      <!-- 20 -->\n      <g transform=\"translate(348.869562 254.560937)scale(0.1 -0.1)\">\n       <defs>\n        <path d=\"M 19.1875 8.296875 \nL 53.609375 8.296875 \nL 53.609375 0 \nL 7.328125 0 \nL 7.328125 8.296875 \nQ 12.9375 14.109375 22.625 23.890625 \nQ 32.328125 33.6875 34.8125 36.53125 \nQ 39.546875 41.84375 41.421875 45.53125 \nQ 43.3125 49.21875 43.3125 52.78125 \nQ 43.3125 58.59375 39.234375 62.25 \nQ 35.15625 65.921875 28.609375 65.921875 \nQ 23.96875 65.921875 18.8125 64.3125 \nQ 13.671875 62.703125 7.8125 59.421875 \nL 7.8125 69.390625 \nQ 13.765625 71.78125 18.9375 73 \nQ 24.125 74.21875 28.421875 74.21875 \nQ 39.75 74.21875 46.484375 68.546875 \nQ 53.21875 62.890625 53.21875 53.421875 \nQ 53.21875 48.921875 51.53125 44.890625 \nQ 49.859375 40.875 45.40625 35.40625 \nQ 44.1875 33.984375 37.640625 27.21875 \nQ 31.109375 20.453125 19.1875 8.296875 \nz\n\" id=\"DejaVuSans-50\"/>\n       </defs>\n       <use xlink:href=\"#DejaVuSans-50\"/>\n       <use x=\"63.623047\" xlink:href=\"#DejaVuSans-48\"/>\n      </g>\n     </g>\n    </g>\n    <g id=\"text_6\">\n     <!-- Tempo -->\n     <g transform=\"translate(201.159375 268.239062)scale(0.1 -0.1)\">\n      <defs>\n       <path d=\"M -0.296875 72.90625 \nL 61.375 72.90625 \nL 61.375 64.59375 \nL 35.5 64.59375 \nL 35.5 0 \nL 25.59375 0 \nL 25.59375 64.59375 \nL -0.296875 64.59375 \nz\n\" id=\"DejaVuSans-84\"/>\n       <path d=\"M 56.203125 29.59375 \nL 56.203125 25.203125 \nL 14.890625 25.203125 \nQ 15.484375 15.921875 20.484375 11.0625 \nQ 25.484375 6.203125 34.421875 6.203125 \nQ 39.59375 6.203125 44.453125 7.46875 \nQ 49.3125 8.734375 54.109375 11.28125 \nL 54.109375 2.78125 \nQ 49.265625 0.734375 44.1875 -0.34375 \nQ 39.109375 -1.421875 33.890625 -1.421875 \nQ 20.796875 -1.421875 13.15625 6.1875 \nQ 5.515625 13.8125 5.515625 26.8125 \nQ 5.515625 40.234375 12.765625 48.109375 \nQ 20.015625 56 32.328125 56 \nQ 43.359375 56 49.78125 48.890625 \nQ 56.203125 41.796875 56.203125 29.59375 \nz\nM 47.21875 32.234375 \nQ 47.125 39.59375 43.09375 43.984375 \nQ 39.0625 48.390625 32.421875 48.390625 \nQ 24.90625 48.390625 20.390625 44.140625 \nQ 15.875 39.890625 15.1875 32.171875 \nz\n\" id=\"DejaVuSans-101\"/>\n       <path d=\"M 52 44.1875 \nQ 55.375 50.25 60.0625 53.125 \nQ 64.75 56 71.09375 56 \nQ 79.640625 56 84.28125 50.015625 \nQ 88.921875 44.046875 88.921875 33.015625 \nL 88.921875 0 \nL 79.890625 0 \nL 79.890625 32.71875 \nQ 79.890625 40.578125 77.09375 44.375 \nQ 74.3125 48.1875 68.609375 48.1875 \nQ 61.625 48.1875 57.5625 43.546875 \nQ 53.515625 38.921875 53.515625 30.90625 \nL 53.515625 0 \nL 44.484375 0 \nL 44.484375 32.71875 \nQ 44.484375 40.625 41.703125 44.40625 \nQ 38.921875 48.1875 33.109375 48.1875 \nQ 26.21875 48.1875 22.15625 43.53125 \nQ 18.109375 38.875 18.109375 30.90625 \nL 18.109375 0 \nL 9.078125 0 \nL 9.078125 54.6875 \nL 18.109375 54.6875 \nL 18.109375 46.1875 \nQ 21.1875 51.21875 25.484375 53.609375 \nQ 29.78125 56 35.6875 56 \nQ 41.65625 56 45.828125 52.96875 \nQ 50 49.953125 52 44.1875 \nz\n\" id=\"DejaVuSans-109\"/>\n       <path d=\"M 18.109375 8.203125 \nL 18.109375 -20.796875 \nL 9.078125 -20.796875 \nL 9.078125 54.6875 \nL 18.109375 54.6875 \nL 18.109375 46.390625 \nQ 20.953125 51.265625 25.265625 53.625 \nQ 29.59375 56 35.59375 56 \nQ 45.5625 56 51.78125 48.09375 \nQ 58.015625 40.1875 58.015625 27.296875 \nQ 58.015625 14.40625 51.78125 6.484375 \nQ 45.5625 -1.421875 35.59375 -1.421875 \nQ 29.59375 -1.421875 25.265625 0.953125 \nQ 20.953125 3.328125 18.109375 8.203125 \nz\nM 48.6875 27.296875 \nQ 48.6875 37.203125 44.609375 42.84375 \nQ 40.53125 48.484375 33.40625 48.484375 \nQ 26.265625 48.484375 22.1875 42.84375 \nQ 18.109375 37.203125 18.109375 27.296875 \nQ 18.109375 17.390625 22.1875 11.75 \nQ 26.265625 6.109375 33.40625 6.109375 \nQ 40.53125 6.109375 44.609375 11.75 \nQ 48.6875 17.390625 48.6875 27.296875 \nz\n\" id=\"DejaVuSans-112\"/>\n       <path d=\"M 30.609375 48.390625 \nQ 23.390625 48.390625 19.1875 42.75 \nQ 14.984375 37.109375 14.984375 27.296875 \nQ 14.984375 17.484375 19.15625 11.84375 \nQ 23.34375 6.203125 30.609375 6.203125 \nQ 37.796875 6.203125 41.984375 11.859375 \nQ 46.1875 17.53125 46.1875 27.296875 \nQ 46.1875 37.015625 41.984375 42.703125 \nQ 37.796875 48.390625 30.609375 48.390625 \nz\nM 30.609375 56 \nQ 42.328125 56 49.015625 48.375 \nQ 55.71875 40.765625 55.71875 27.296875 \nQ 55.71875 13.875 49.015625 6.21875 \nQ 42.328125 -1.421875 30.609375 -1.421875 \nQ 18.84375 -1.421875 12.171875 6.21875 \nQ 5.515625 13.875 5.515625 27.296875 \nQ 5.515625 40.765625 12.171875 48.375 \nQ 18.84375 56 30.609375 56 \nz\n\" id=\"DejaVuSans-111\"/>\n      </defs>\n      <use xlink:href=\"#DejaVuSans-84\"/>\n      <use x=\"44.083984\" xlink:href=\"#DejaVuSans-101\"/>\n      <use x=\"105.607422\" xlink:href=\"#DejaVuSans-109\"/>\n      <use x=\"203.019531\" xlink:href=\"#DejaVuSans-112\"/>\n      <use x=\"266.496094\" xlink:href=\"#DejaVuSans-111\"/>\n     </g>\n    </g>\n   </g>\n   <g id=\"matplotlib.axis_2\">\n    <g id=\"ytick_1\">\n     <g id=\"line2d_6\">\n      <defs>\n       <path d=\"M 0 0 \nL -3.5 0 \n\" id=\"m93d3aa4d5e\" style=\"stroke:#000000;stroke-width:0.8;\"/>\n      </defs>\n      <g>\n       <use style=\"stroke:#000000;stroke-width:0.8;\" x=\"50.14375\" xlink:href=\"#m93d3aa4d5e\" y=\"213.007326\"/>\n      </g>\n     </g>\n     <g id=\"text_7\">\n      <!-- 16.5 -->\n      <g transform=\"translate(20.878125 216.806545)scale(0.1 -0.1)\">\n       <defs>\n        <path d=\"M 33.015625 40.375 \nQ 26.375 40.375 22.484375 35.828125 \nQ 18.609375 31.296875 18.609375 23.390625 \nQ 18.609375 15.53125 22.484375 10.953125 \nQ 26.375 6.390625 33.015625 6.390625 \nQ 39.65625 6.390625 43.53125 10.953125 \nQ 47.40625 15.53125 47.40625 23.390625 \nQ 47.40625 31.296875 43.53125 35.828125 \nQ 39.65625 40.375 33.015625 40.375 \nz\nM 52.59375 71.296875 \nL 52.59375 62.3125 \nQ 48.875 64.0625 45.09375 64.984375 \nQ 41.3125 65.921875 37.59375 65.921875 \nQ 27.828125 65.921875 22.671875 59.328125 \nQ 17.53125 52.734375 16.796875 39.40625 \nQ 19.671875 43.65625 24.015625 45.921875 \nQ 28.375 48.1875 33.59375 48.1875 \nQ 44.578125 48.1875 50.953125 41.515625 \nQ 57.328125 34.859375 57.328125 23.390625 \nQ 57.328125 12.15625 50.6875 5.359375 \nQ 44.046875 -1.421875 33.015625 -1.421875 \nQ 20.359375 -1.421875 13.671875 8.265625 \nQ 6.984375 17.96875 6.984375 36.375 \nQ 6.984375 53.65625 15.1875 63.9375 \nQ 23.390625 74.21875 37.203125 74.21875 \nQ 40.921875 74.21875 44.703125 73.484375 \nQ 48.484375 72.75 52.59375 71.296875 \nz\n\" id=\"DejaVuSans-54\"/>\n        <path d=\"M 10.6875 12.40625 \nL 21 12.40625 \nL 21 0 \nL 10.6875 0 \nz\n\" id=\"DejaVuSans-46\"/>\n       </defs>\n       <use xlink:href=\"#DejaVuSans-49\"/>\n       <use x=\"63.623047\" xlink:href=\"#DejaVuSans-54\"/>\n       <use x=\"127.246094\" xlink:href=\"#DejaVuSans-46\"/>\n       <use x=\"159.033203\" xlink:href=\"#DejaVuSans-53\"/>\n      </g>\n     </g>\n    </g>\n    <g id=\"ytick_2\">\n     <g id=\"line2d_7\">\n      <g>\n       <use style=\"stroke:#000000;stroke-width:0.8;\" x=\"50.14375\" xlink:href=\"#m93d3aa4d5e\" y=\"185.4725\"/>\n      </g>\n     </g>\n     <g id=\"text_8\">\n      <!-- 17.0 -->\n      <g transform=\"translate(20.878125 189.271719)scale(0.1 -0.1)\">\n       <defs>\n        <path d=\"M 8.203125 72.90625 \nL 55.078125 72.90625 \nL 55.078125 68.703125 \nL 28.609375 0 \nL 18.3125 0 \nL 43.21875 64.59375 \nL 8.203125 64.59375 \nz\n\" id=\"DejaVuSans-55\"/>\n       </defs>\n       <use xlink:href=\"#DejaVuSans-49\"/>\n       <use x=\"63.623047\" xlink:href=\"#DejaVuSans-55\"/>\n       <use x=\"127.246094\" xlink:href=\"#DejaVuSans-46\"/>\n       <use x=\"159.033203\" xlink:href=\"#DejaVuSans-48\"/>\n      </g>\n     </g>\n    </g>\n    <g id=\"ytick_3\">\n     <g id=\"line2d_8\">\n      <g>\n       <use style=\"stroke:#000000;stroke-width:0.8;\" x=\"50.14375\" xlink:href=\"#m93d3aa4d5e\" y=\"157.937673\"/>\n      </g>\n     </g>\n     <g id=\"text_9\">\n      <!-- 17.5 -->\n      <g transform=\"translate(20.878125 161.736892)scale(0.1 -0.1)\">\n       <use xlink:href=\"#DejaVuSans-49\"/>\n       <use x=\"63.623047\" xlink:href=\"#DejaVuSans-55\"/>\n       <use x=\"127.246094\" xlink:href=\"#DejaVuSans-46\"/>\n       <use x=\"159.033203\" xlink:href=\"#DejaVuSans-53\"/>\n      </g>\n     </g>\n    </g>\n    <g id=\"ytick_4\">\n     <g id=\"line2d_9\">\n      <g>\n       <use style=\"stroke:#000000;stroke-width:0.8;\" x=\"50.14375\" xlink:href=\"#m93d3aa4d5e\" y=\"130.402847\"/>\n      </g>\n     </g>\n     <g id=\"text_10\">\n      <!-- 18.0 -->\n      <g transform=\"translate(20.878125 134.202066)scale(0.1 -0.1)\">\n       <defs>\n        <path d=\"M 31.78125 34.625 \nQ 24.75 34.625 20.71875 30.859375 \nQ 16.703125 27.09375 16.703125 20.515625 \nQ 16.703125 13.921875 20.71875 10.15625 \nQ 24.75 6.390625 31.78125 6.390625 \nQ 38.8125 6.390625 42.859375 10.171875 \nQ 46.921875 13.96875 46.921875 20.515625 \nQ 46.921875 27.09375 42.890625 30.859375 \nQ 38.875 34.625 31.78125 34.625 \nz\nM 21.921875 38.8125 \nQ 15.578125 40.375 12.03125 44.71875 \nQ 8.5 49.078125 8.5 55.328125 \nQ 8.5 64.0625 14.71875 69.140625 \nQ 20.953125 74.21875 31.78125 74.21875 \nQ 42.671875 74.21875 48.875 69.140625 \nQ 55.078125 64.0625 55.078125 55.328125 \nQ 55.078125 49.078125 51.53125 44.71875 \nQ 48 40.375 41.703125 38.8125 \nQ 48.828125 37.15625 52.796875 32.3125 \nQ 56.78125 27.484375 56.78125 20.515625 \nQ 56.78125 9.90625 50.3125 4.234375 \nQ 43.84375 -1.421875 31.78125 -1.421875 \nQ 19.734375 -1.421875 13.25 4.234375 \nQ 6.78125 9.90625 6.78125 20.515625 \nQ 6.78125 27.484375 10.78125 32.3125 \nQ 14.796875 37.15625 21.921875 38.8125 \nz\nM 18.3125 54.390625 \nQ 18.3125 48.734375 21.84375 45.5625 \nQ 25.390625 42.390625 31.78125 42.390625 \nQ 38.140625 42.390625 41.71875 45.5625 \nQ 45.3125 48.734375 45.3125 54.390625 \nQ 45.3125 60.0625 41.71875 63.234375 \nQ 38.140625 66.40625 31.78125 66.40625 \nQ 25.390625 66.40625 21.84375 63.234375 \nQ 18.3125 60.0625 18.3125 54.390625 \nz\n\" id=\"DejaVuSans-56\"/>\n       </defs>\n       <use xlink:href=\"#DejaVuSans-49\"/>\n       <use x=\"63.623047\" xlink:href=\"#DejaVuSans-56\"/>\n       <use x=\"127.246094\" xlink:href=\"#DejaVuSans-46\"/>\n       <use x=\"159.033203\" xlink:href=\"#DejaVuSans-48\"/>\n      </g>\n     </g>\n    </g>\n    <g id=\"ytick_5\">\n     <g id=\"line2d_10\">\n      <g>\n       <use style=\"stroke:#000000;stroke-width:0.8;\" x=\"50.14375\" xlink:href=\"#m93d3aa4d5e\" y=\"102.86802\"/>\n      </g>\n     </g>\n     <g id=\"text_11\">\n      <!-- 18.5 -->\n      <g transform=\"translate(20.878125 106.667239)scale(0.1 -0.1)\">\n       <use xlink:href=\"#DejaVuSans-49\"/>\n       <use x=\"63.623047\" xlink:href=\"#DejaVuSans-56\"/>\n       <use x=\"127.246094\" xlink:href=\"#DejaVuSans-46\"/>\n       <use x=\"159.033203\" xlink:href=\"#DejaVuSans-53\"/>\n      </g>\n     </g>\n    </g>\n    <g id=\"ytick_6\">\n     <g id=\"line2d_11\">\n      <g>\n       <use style=\"stroke:#000000;stroke-width:0.8;\" x=\"50.14375\" xlink:href=\"#m93d3aa4d5e\" y=\"75.333194\"/>\n      </g>\n     </g>\n     <g id=\"text_12\">\n      <!-- 19.0 -->\n      <g transform=\"translate(20.878125 79.132413)scale(0.1 -0.1)\">\n       <defs>\n        <path d=\"M 10.984375 1.515625 \nL 10.984375 10.5 \nQ 14.703125 8.734375 18.5 7.8125 \nQ 22.3125 6.890625 25.984375 6.890625 \nQ 35.75 6.890625 40.890625 13.453125 \nQ 46.046875 20.015625 46.78125 33.40625 \nQ 43.953125 29.203125 39.59375 26.953125 \nQ 35.25 24.703125 29.984375 24.703125 \nQ 19.046875 24.703125 12.671875 31.3125 \nQ 6.296875 37.9375 6.296875 49.421875 \nQ 6.296875 60.640625 12.9375 67.421875 \nQ 19.578125 74.21875 30.609375 74.21875 \nQ 43.265625 74.21875 49.921875 64.515625 \nQ 56.59375 54.828125 56.59375 36.375 \nQ 56.59375 19.140625 48.40625 8.859375 \nQ 40.234375 -1.421875 26.421875 -1.421875 \nQ 22.703125 -1.421875 18.890625 -0.6875 \nQ 15.09375 0.046875 10.984375 1.515625 \nz\nM 30.609375 32.421875 \nQ 37.25 32.421875 41.125 36.953125 \nQ 45.015625 41.5 45.015625 49.421875 \nQ 45.015625 57.28125 41.125 61.84375 \nQ 37.25 66.40625 30.609375 66.40625 \nQ 23.96875 66.40625 20.09375 61.84375 \nQ 16.21875 57.28125 16.21875 49.421875 \nQ 16.21875 41.5 20.09375 36.953125 \nQ 23.96875 32.421875 30.609375 32.421875 \nz\n\" id=\"DejaVuSans-57\"/>\n       </defs>\n       <use xlink:href=\"#DejaVuSans-49\"/>\n       <use x=\"63.623047\" xlink:href=\"#DejaVuSans-57\"/>\n       <use x=\"127.246094\" xlink:href=\"#DejaVuSans-46\"/>\n       <use x=\"159.033203\" xlink:href=\"#DejaVuSans-48\"/>\n      </g>\n     </g>\n    </g>\n    <g id=\"ytick_7\">\n     <g id=\"line2d_12\">\n      <g>\n       <use style=\"stroke:#000000;stroke-width:0.8;\" x=\"50.14375\" xlink:href=\"#m93d3aa4d5e\" y=\"47.798367\"/>\n      </g>\n     </g>\n     <g id=\"text_13\">\n      <!-- 19.5 -->\n      <g transform=\"translate(20.878125 51.597586)scale(0.1 -0.1)\">\n       <use xlink:href=\"#DejaVuSans-49\"/>\n       <use x=\"63.623047\" xlink:href=\"#DejaVuSans-57\"/>\n       <use x=\"127.246094\" xlink:href=\"#DejaVuSans-46\"/>\n       <use x=\"159.033203\" xlink:href=\"#DejaVuSans-53\"/>\n      </g>\n     </g>\n    </g>\n    <g id=\"text_14\">\n     <!-- Valor Yahoo -->\n     <g transform=\"translate(14.798438 160.150312)rotate(-90)scale(0.1 -0.1)\">\n      <defs>\n       <path d=\"M 28.609375 0 \nL 0.78125 72.90625 \nL 11.078125 72.90625 \nL 34.1875 11.53125 \nL 57.328125 72.90625 \nL 67.578125 72.90625 \nL 39.796875 0 \nz\n\" id=\"DejaVuSans-86\"/>\n       <path d=\"M 34.28125 27.484375 \nQ 23.390625 27.484375 19.1875 25 \nQ 14.984375 22.515625 14.984375 16.5 \nQ 14.984375 11.71875 18.140625 8.90625 \nQ 21.296875 6.109375 26.703125 6.109375 \nQ 34.1875 6.109375 38.703125 11.40625 \nQ 43.21875 16.703125 43.21875 25.484375 \nL 43.21875 27.484375 \nz\nM 52.203125 31.203125 \nL 52.203125 0 \nL 43.21875 0 \nL 43.21875 8.296875 \nQ 40.140625 3.328125 35.546875 0.953125 \nQ 30.953125 -1.421875 24.3125 -1.421875 \nQ 15.921875 -1.421875 10.953125 3.296875 \nQ 6 8.015625 6 15.921875 \nQ 6 25.140625 12.171875 29.828125 \nQ 18.359375 34.515625 30.609375 34.515625 \nL 43.21875 34.515625 \nL 43.21875 35.40625 \nQ 43.21875 41.609375 39.140625 45 \nQ 35.0625 48.390625 27.6875 48.390625 \nQ 23 48.390625 18.546875 47.265625 \nQ 14.109375 46.140625 10.015625 43.890625 \nL 10.015625 52.203125 \nQ 14.9375 54.109375 19.578125 55.046875 \nQ 24.21875 56 28.609375 56 \nQ 40.484375 56 46.34375 49.84375 \nQ 52.203125 43.703125 52.203125 31.203125 \nz\n\" id=\"DejaVuSans-97\"/>\n       <path d=\"M 9.421875 75.984375 \nL 18.40625 75.984375 \nL 18.40625 0 \nL 9.421875 0 \nz\n\" id=\"DejaVuSans-108\"/>\n       <path d=\"M 41.109375 46.296875 \nQ 39.59375 47.171875 37.8125 47.578125 \nQ 36.03125 48 33.890625 48 \nQ 26.265625 48 22.1875 43.046875 \nQ 18.109375 38.09375 18.109375 28.8125 \nL 18.109375 0 \nL 9.078125 0 \nL 9.078125 54.6875 \nL 18.109375 54.6875 \nL 18.109375 46.1875 \nQ 20.953125 51.171875 25.484375 53.578125 \nQ 30.03125 56 36.53125 56 \nQ 37.453125 56 38.578125 55.875 \nQ 39.703125 55.765625 41.0625 55.515625 \nz\n\" id=\"DejaVuSans-114\"/>\n       <path id=\"DejaVuSans-32\"/>\n       <path d=\"M -0.203125 72.90625 \nL 10.40625 72.90625 \nL 30.609375 42.921875 \nL 50.6875 72.90625 \nL 61.28125 72.90625 \nL 35.5 34.71875 \nL 35.5 0 \nL 25.59375 0 \nL 25.59375 34.71875 \nz\n\" id=\"DejaVuSans-89\"/>\n       <path d=\"M 54.890625 33.015625 \nL 54.890625 0 \nL 45.90625 0 \nL 45.90625 32.71875 \nQ 45.90625 40.484375 42.875 44.328125 \nQ 39.84375 48.1875 33.796875 48.1875 \nQ 26.515625 48.1875 22.3125 43.546875 \nQ 18.109375 38.921875 18.109375 30.90625 \nL 18.109375 0 \nL 9.078125 0 \nL 9.078125 75.984375 \nL 18.109375 75.984375 \nL 18.109375 46.1875 \nQ 21.34375 51.125 25.703125 53.5625 \nQ 30.078125 56 35.796875 56 \nQ 45.21875 56 50.046875 50.171875 \nQ 54.890625 44.34375 54.890625 33.015625 \nz\n\" id=\"DejaVuSans-104\"/>\n      </defs>\n      <use xlink:href=\"#DejaVuSans-86\"/>\n      <use x=\"60.658203\" xlink:href=\"#DejaVuSans-97\"/>\n      <use x=\"121.9375\" xlink:href=\"#DejaVuSans-108\"/>\n      <use x=\"149.720703\" xlink:href=\"#DejaVuSans-111\"/>\n      <use x=\"210.902344\" xlink:href=\"#DejaVuSans-114\"/>\n      <use x=\"252.015625\" xlink:href=\"#DejaVuSans-32\"/>\n      <use x=\"283.802734\" xlink:href=\"#DejaVuSans-89\"/>\n      <use x=\"331.136719\" xlink:href=\"#DejaVuSans-97\"/>\n      <use x=\"392.416016\" xlink:href=\"#DejaVuSans-104\"/>\n      <use x=\"455.794922\" xlink:href=\"#DejaVuSans-111\"/>\n      <use x=\"516.976562\" xlink:href=\"#DejaVuSans-111\"/>\n     </g>\n    </g>\n   </g>\n   <g id=\"line2d_13\">\n    <path clip-path=\"url(#p4f2601da49)\" d=\"M 65.361932 230.078864 \nL 79.855438 213.558023 \nL 94.348945 197.587768 \nL 108.842451 201.993341 \nL 123.335958 199.79061 \nL 137.829464 183.820355 \nL 152.322971 189.878072 \nL 166.816477 192.080913 \nL 181.309984 183.269659 \nL 195.80349 167.850211 \nL 210.296997 166.198121 \nL 224.790503 134.808419 \nL 239.28401 111.128468 \nL 253.777516 113.331309 \nL 268.271023 116.084737 \nL 282.764529 108.374986 \nL 297.258036 107.273593 \nL 311.751542 56.609512 \nL 326.245049 41.189954 \nL 340.738555 38.436526 \nL 355.232062 32.929561 \nL 369.725568 34.581651 \n\" style=\"fill:none;stroke:#ff0000;stroke-linecap:square;stroke-width:1.5;\"/>\n   </g>\n   <g id=\"line2d_14\">\n    <path clip-path=\"url(#p4f2601da49)\" d=\"M 65.361932 225.041734 \nL 79.855438 220.32158 \nL 94.348945 213.567804 \nL 108.842451 204.241671 \nL 123.335958 194.611667 \nL 137.829464 186.215007 \nL 152.322971 179.334346 \nL 166.816477 175.794493 \nL 181.309984 174.101926 \nL 195.80349 172.043096 \nL 210.296997 168.550089 \nL 224.790503 161.970675 \nL 239.28401 148.79399 \nL 253.777516 130.874043 \nL 268.271023 114.107928 \nL 282.764529 102.570135 \nL 297.258036 98.296494 \nL 311.751542 93.101783 \nL 326.245049 83.23807 \nL 340.738555 66.256734 \nL 355.232062 46.381628 \nL 369.725568 32.406136 \n\" style=\"fill:none;stroke:#0000ff;stroke-linecap:square;stroke-width:1.5;\"/>\n   </g>\n   <g id=\"patch_3\">\n    <path d=\"M 50.14375 239.9625 \nL 50.14375 22.5225 \n\" style=\"fill:none;stroke:#000000;stroke-linecap:square;stroke-linejoin:miter;stroke-width:0.8;\"/>\n   </g>\n   <g id=\"patch_4\">\n    <path d=\"M 384.94375 239.9625 \nL 384.94375 22.5225 \n\" style=\"fill:none;stroke:#000000;stroke-linecap:square;stroke-linejoin:miter;stroke-width:0.8;\"/>\n   </g>\n   <g id=\"patch_5\">\n    <path d=\"M 50.14375 239.9625 \nL 384.94375 239.9625 \n\" style=\"fill:none;stroke:#000000;stroke-linecap:square;stroke-linejoin:miter;stroke-width:0.8;\"/>\n   </g>\n   <g id=\"patch_6\">\n    <path d=\"M 50.14375 22.5225 \nL 384.94375 22.5225 \n\" style=\"fill:none;stroke:#000000;stroke-linecap:square;stroke-linejoin:miter;stroke-width:0.8;\"/>\n   </g>\n   <g id=\"text_15\">\n    <!-- Previsão preço das ações -->\n    <g transform=\"translate(141.715938 16.5225)scale(0.12 -0.12)\">\n     <defs>\n      <path d=\"M 19.671875 64.796875 \nL 19.671875 37.40625 \nL 32.078125 37.40625 \nQ 38.96875 37.40625 42.71875 40.96875 \nQ 46.484375 44.53125 46.484375 51.125 \nQ 46.484375 57.671875 42.71875 61.234375 \nQ 38.96875 64.796875 32.078125 64.796875 \nz\nM 9.8125 72.90625 \nL 32.078125 72.90625 \nQ 44.34375 72.90625 50.609375 67.359375 \nQ 56.890625 61.8125 56.890625 51.125 \nQ 56.890625 40.328125 50.609375 34.8125 \nQ 44.34375 29.296875 32.078125 29.296875 \nL 19.671875 29.296875 \nL 19.671875 0 \nL 9.8125 0 \nz\n\" id=\"DejaVuSans-80\"/>\n      <path d=\"M 2.984375 54.6875 \nL 12.5 54.6875 \nL 29.59375 8.796875 \nL 46.6875 54.6875 \nL 56.203125 54.6875 \nL 35.6875 0 \nL 23.484375 0 \nz\n\" id=\"DejaVuSans-118\"/>\n      <path d=\"M 9.421875 54.6875 \nL 18.40625 54.6875 \nL 18.40625 0 \nL 9.421875 0 \nz\nM 9.421875 75.984375 \nL 18.40625 75.984375 \nL 18.40625 64.59375 \nL 9.421875 64.59375 \nz\n\" id=\"DejaVuSans-105\"/>\n      <path d=\"M 44.28125 53.078125 \nL 44.28125 44.578125 \nQ 40.484375 46.53125 36.375 47.5 \nQ 32.28125 48.484375 27.875 48.484375 \nQ 21.1875 48.484375 17.84375 46.4375 \nQ 14.5 44.390625 14.5 40.28125 \nQ 14.5 37.15625 16.890625 35.375 \nQ 19.28125 33.59375 26.515625 31.984375 \nL 29.59375 31.296875 \nQ 39.15625 29.25 43.1875 25.515625 \nQ 47.21875 21.78125 47.21875 15.09375 \nQ 47.21875 7.46875 41.1875 3.015625 \nQ 35.15625 -1.421875 24.609375 -1.421875 \nQ 20.21875 -1.421875 15.453125 -0.5625 \nQ 10.6875 0.296875 5.421875 2 \nL 5.421875 11.28125 \nQ 10.40625 8.6875 15.234375 7.390625 \nQ 20.0625 6.109375 24.8125 6.109375 \nQ 31.15625 6.109375 34.5625 8.28125 \nQ 37.984375 10.453125 37.984375 14.40625 \nQ 37.984375 18.0625 35.515625 20.015625 \nQ 33.0625 21.96875 24.703125 23.78125 \nL 21.578125 24.515625 \nQ 13.234375 26.265625 9.515625 29.90625 \nQ 5.8125 33.546875 5.8125 39.890625 \nQ 5.8125 47.609375 11.28125 51.796875 \nQ 16.75 56 26.8125 56 \nQ 31.78125 56 36.171875 55.265625 \nQ 40.578125 54.546875 44.28125 53.078125 \nz\n\" id=\"DejaVuSans-115\"/>\n      <path d=\"M 34.28125 27.484375 \nQ 23.390625 27.484375 19.1875 25 \nQ 14.984375 22.515625 14.984375 16.5 \nQ 14.984375 11.71875 18.140625 8.90625 \nQ 21.296875 6.109375 26.703125 6.109375 \nQ 34.1875 6.109375 38.703125 11.40625 \nQ 43.21875 16.703125 43.21875 25.484375 \nL 43.21875 27.484375 \nz\nM 52.203125 31.203125 \nL 52.203125 0 \nL 43.21875 0 \nL 43.21875 8.296875 \nQ 40.140625 3.328125 35.546875 0.953125 \nQ 30.953125 -1.421875 24.3125 -1.421875 \nQ 15.921875 -1.421875 10.953125 3.296875 \nQ 6 8.015625 6 15.921875 \nQ 6 25.140625 12.171875 29.828125 \nQ 18.359375 34.515625 30.609375 34.515625 \nL 43.21875 34.515625 \nL 43.21875 35.40625 \nQ 43.21875 41.609375 39.140625 45 \nQ 35.0625 48.390625 27.6875 48.390625 \nQ 23 48.390625 18.546875 47.265625 \nQ 14.109375 46.140625 10.015625 43.890625 \nL 10.015625 52.203125 \nQ 14.9375 54.109375 19.578125 55.046875 \nQ 24.21875 56 28.609375 56 \nQ 40.484375 56 46.34375 49.84375 \nQ 52.203125 43.703125 52.203125 31.203125 \nz\nM 28.8125 66.890625 \nL 26.015625 69.578125 \nQ 24.953125 70.5625 24.140625 71.015625 \nQ 23.34375 71.484375 22.703125 71.484375 \nQ 20.84375 71.484375 19.96875 69.703125 \nQ 19.09375 67.921875 18.984375 63.921875 \nL 12.890625 63.921875 \nQ 12.984375 70.515625 15.46875 74.09375 \nQ 17.96875 77.6875 22.40625 77.6875 \nQ 24.265625 77.6875 25.828125 77 \nQ 27.390625 76.3125 29.203125 74.703125 \nL 31.984375 72.015625 \nQ 33.046875 71.046875 33.859375 70.578125 \nQ 34.671875 70.125 35.296875 70.125 \nQ 37.15625 70.125 38.03125 71.90625 \nQ 38.90625 73.6875 39.015625 77.6875 \nL 45.109375 77.6875 \nQ 45.015625 71.09375 42.515625 67.5 \nQ 40.03125 63.921875 35.59375 63.921875 \nQ 33.734375 63.921875 32.171875 64.59375 \nQ 30.609375 65.28125 28.8125 66.890625 \nz\n\" id=\"DejaVuSans-227\"/>\n      <path d=\"M 48.78125 52.59375 \nL 48.78125 44.1875 \nQ 44.96875 46.296875 41.140625 47.34375 \nQ 37.3125 48.390625 33.40625 48.390625 \nQ 24.65625 48.390625 19.8125 42.84375 \nQ 14.984375 37.3125 14.984375 27.296875 \nQ 14.984375 17.28125 19.8125 11.734375 \nQ 24.65625 6.203125 33.40625 6.203125 \nQ 37.3125 6.203125 41.140625 7.25 \nQ 44.96875 8.296875 48.78125 10.40625 \nL 48.78125 2.09375 \nQ 45.015625 0.34375 40.984375 -0.53125 \nQ 36.96875 -1.421875 32.421875 -1.421875 \nQ 20.0625 -1.421875 12.78125 6.34375 \nQ 5.515625 14.109375 5.515625 27.296875 \nQ 5.515625 40.671875 12.859375 48.328125 \nQ 20.21875 56 33.015625 56 \nQ 37.15625 56 41.109375 55.140625 \nQ 45.0625 54.296875 48.78125 52.59375 \nz\nM 36.109375 0 \nQ 38.78125 -3.03125 40.09375 -5.59375 \nQ 41.421875 -8.15625 41.421875 -10.5 \nQ 41.421875 -14.84375 38.484375 -17.0625 \nQ 35.5625 -19.28125 29.796875 -19.28125 \nQ 27.5625 -19.28125 25.4375 -18.984375 \nQ 23.3125 -18.703125 21.203125 -18.109375 \nL 21.203125 -11.71875 \nQ 22.875 -12.546875 24.671875 -12.90625 \nQ 26.484375 -13.28125 28.78125 -13.28125 \nQ 31.65625 -13.28125 33.125 -12.109375 \nQ 34.59375 -10.9375 34.59375 -8.6875 \nQ 34.59375 -7.234375 33.53125 -5.109375 \nQ 32.484375 -2.984375 30.296875 0 \nz\n\" id=\"DejaVuSans-231\"/>\n      <path d=\"M 45.40625 46.390625 \nL 45.40625 75.984375 \nL 54.390625 75.984375 \nL 54.390625 0 \nL 45.40625 0 \nL 45.40625 8.203125 \nQ 42.578125 3.328125 38.25 0.953125 \nQ 33.9375 -1.421875 27.875 -1.421875 \nQ 17.96875 -1.421875 11.734375 6.484375 \nQ 5.515625 14.40625 5.515625 27.296875 \nQ 5.515625 40.1875 11.734375 48.09375 \nQ 17.96875 56 27.875 56 \nQ 33.9375 56 38.25 53.625 \nQ 42.578125 51.265625 45.40625 46.390625 \nz\nM 14.796875 27.296875 \nQ 14.796875 17.390625 18.875 11.75 \nQ 22.953125 6.109375 30.078125 6.109375 \nQ 37.203125 6.109375 41.296875 11.75 \nQ 45.40625 17.390625 45.40625 27.296875 \nQ 45.40625 37.203125 41.296875 42.84375 \nQ 37.203125 48.484375 30.078125 48.484375 \nQ 22.953125 48.484375 18.875 42.84375 \nQ 14.796875 37.203125 14.796875 27.296875 \nz\n\" id=\"DejaVuSans-100\"/>\n      <path d=\"M 30.609375 48.390625 \nQ 23.390625 48.390625 19.1875 42.75 \nQ 14.984375 37.109375 14.984375 27.296875 \nQ 14.984375 17.484375 19.15625 11.84375 \nQ 23.34375 6.203125 30.609375 6.203125 \nQ 37.796875 6.203125 41.984375 11.859375 \nQ 46.1875 17.53125 46.1875 27.296875 \nQ 46.1875 37.015625 41.984375 42.703125 \nQ 37.796875 48.390625 30.609375 48.390625 \nz\nM 30.609375 56 \nQ 42.328125 56 49.015625 48.375 \nQ 55.71875 40.765625 55.71875 27.296875 \nQ 55.71875 13.875 49.015625 6.21875 \nQ 42.328125 -1.421875 30.609375 -1.421875 \nQ 18.84375 -1.421875 12.171875 6.21875 \nQ 5.515625 13.875 5.515625 27.296875 \nQ 5.515625 40.765625 12.171875 48.375 \nQ 18.84375 56 30.609375 56 \nz\nM 30.4375 66.890625 \nL 27.640625 69.578125 \nQ 26.578125 70.5625 25.765625 71.015625 \nQ 24.96875 71.484375 24.328125 71.484375 \nQ 22.46875 71.484375 21.59375 69.703125 \nQ 20.71875 67.921875 20.609375 63.921875 \nL 14.515625 63.921875 \nQ 14.609375 70.515625 17.09375 74.09375 \nQ 19.59375 77.6875 24.03125 77.6875 \nQ 25.890625 77.6875 27.453125 77 \nQ 29.015625 76.3125 30.828125 74.703125 \nL 33.609375 72.015625 \nQ 34.671875 71.046875 35.484375 70.578125 \nQ 36.296875 70.125 36.921875 70.125 \nQ 38.78125 70.125 39.65625 71.90625 \nQ 40.53125 73.6875 40.640625 77.6875 \nL 46.734375 77.6875 \nQ 46.640625 71.09375 44.140625 67.5 \nQ 41.65625 63.921875 37.21875 63.921875 \nQ 35.359375 63.921875 33.796875 64.59375 \nQ 32.234375 65.28125 30.4375 66.890625 \nz\n\" id=\"DejaVuSans-245\"/>\n     </defs>\n     <use xlink:href=\"#DejaVuSans-80\"/>\n     <use x=\"58.552734\" xlink:href=\"#DejaVuSans-114\"/>\n     <use x=\"97.416016\" xlink:href=\"#DejaVuSans-101\"/>\n     <use x=\"158.939453\" xlink:href=\"#DejaVuSans-118\"/>\n     <use x=\"218.119141\" xlink:href=\"#DejaVuSans-105\"/>\n     <use x=\"245.902344\" xlink:href=\"#DejaVuSans-115\"/>\n     <use x=\"298.001953\" xlink:href=\"#DejaVuSans-227\"/>\n     <use x=\"359.28125\" xlink:href=\"#DejaVuSans-111\"/>\n     <use x=\"420.462891\" xlink:href=\"#DejaVuSans-32\"/>\n     <use x=\"452.25\" xlink:href=\"#DejaVuSans-112\"/>\n     <use x=\"515.726562\" xlink:href=\"#DejaVuSans-114\"/>\n     <use x=\"554.589844\" xlink:href=\"#DejaVuSans-101\"/>\n     <use x=\"616.113281\" xlink:href=\"#DejaVuSans-231\"/>\n     <use x=\"671.09375\" xlink:href=\"#DejaVuSans-111\"/>\n     <use x=\"732.275391\" xlink:href=\"#DejaVuSans-32\"/>\n     <use x=\"764.0625\" xlink:href=\"#DejaVuSans-100\"/>\n     <use x=\"827.539062\" xlink:href=\"#DejaVuSans-97\"/>\n     <use x=\"888.818359\" xlink:href=\"#DejaVuSans-115\"/>\n     <use x=\"940.917969\" xlink:href=\"#DejaVuSans-32\"/>\n     <use x=\"972.705078\" xlink:href=\"#DejaVuSans-97\"/>\n     <use x=\"1033.984375\" xlink:href=\"#DejaVuSans-231\"/>\n     <use x=\"1088.964844\" xlink:href=\"#DejaVuSans-245\"/>\n     <use x=\"1150.146484\" xlink:href=\"#DejaVuSans-101\"/>\n     <use x=\"1211.669922\" xlink:href=\"#DejaVuSans-115\"/>\n    </g>\n   </g>\n   <g id=\"legend_1\">\n    <g id=\"patch_7\">\n     <path d=\"M 57.14375 59.87875 \nL 138.778125 59.87875 \nQ 140.778125 59.87875 140.778125 57.87875 \nL 140.778125 29.5225 \nQ 140.778125 27.5225 138.778125 27.5225 \nL 57.14375 27.5225 \nQ 55.14375 27.5225 55.14375 29.5225 \nL 55.14375 57.87875 \nQ 55.14375 59.87875 57.14375 59.87875 \nz\n\" style=\"fill:#ffffff;opacity:0.8;stroke:#cccccc;stroke-linejoin:miter;\"/>\n    </g>\n    <g id=\"line2d_15\">\n     <path d=\"M 59.14375 35.620937 \nL 79.14375 35.620937 \n\" style=\"fill:none;stroke:#ff0000;stroke-linecap:square;stroke-width:1.5;\"/>\n    </g>\n    <g id=\"line2d_16\"/>\n    <g id=\"text_16\">\n     <!-- Preço real -->\n     <g transform=\"translate(87.14375 39.120937)scale(0.1 -0.1)\">\n      <use xlink:href=\"#DejaVuSans-80\"/>\n      <use x=\"58.552734\" xlink:href=\"#DejaVuSans-114\"/>\n      <use x=\"97.416016\" xlink:href=\"#DejaVuSans-101\"/>\n      <use x=\"158.939453\" xlink:href=\"#DejaVuSans-231\"/>\n      <use x=\"213.919922\" xlink:href=\"#DejaVuSans-111\"/>\n      <use x=\"275.101562\" xlink:href=\"#DejaVuSans-32\"/>\n      <use x=\"306.888672\" xlink:href=\"#DejaVuSans-114\"/>\n      <use x=\"345.751953\" xlink:href=\"#DejaVuSans-101\"/>\n      <use x=\"407.275391\" xlink:href=\"#DejaVuSans-97\"/>\n      <use x=\"468.554688\" xlink:href=\"#DejaVuSans-108\"/>\n     </g>\n    </g>\n    <g id=\"line2d_17\">\n     <path d=\"M 59.14375 50.299062 \nL 79.14375 50.299062 \n\" style=\"fill:none;stroke:#0000ff;stroke-linecap:square;stroke-width:1.5;\"/>\n    </g>\n    <g id=\"line2d_18\"/>\n    <g id=\"text_17\">\n     <!-- Previsões -->\n     <g transform=\"translate(87.14375 53.799062)scale(0.1 -0.1)\">\n      <use xlink:href=\"#DejaVuSans-80\"/>\n      <use x=\"58.552734\" xlink:href=\"#DejaVuSans-114\"/>\n      <use x=\"97.416016\" xlink:href=\"#DejaVuSans-101\"/>\n      <use x=\"158.939453\" xlink:href=\"#DejaVuSans-118\"/>\n      <use x=\"218.119141\" xlink:href=\"#DejaVuSans-105\"/>\n      <use x=\"245.902344\" xlink:href=\"#DejaVuSans-115\"/>\n      <use x=\"298.001953\" xlink:href=\"#DejaVuSans-245\"/>\n      <use x=\"359.183594\" xlink:href=\"#DejaVuSans-101\"/>\n      <use x=\"420.707031\" xlink:href=\"#DejaVuSans-115\"/>\n     </g>\n    </g>\n   </g>\n  </g>\n </g>\n <defs>\n  <clipPath id=\"p4f2601da49\">\n   <rect height=\"217.44\" width=\"334.8\" x=\"50.14375\" y=\"22.5225\"/>\n  </clipPath>\n </defs>\n</svg>\n",
      "text/plain": [
       "<Figure size 432x288 with 1 Axes>"
      ]
     },
     "metadata": {
      "needs_background": "light"
     },
     "output_type": "display_data"
    }
   ],
   "source": [
    "# Plot de previsões e preço real\n",
    "plt.plot(preco_real_teste, color = 'red', label = 'Preço real')\n",
    "plt.plot(previsoes, color = 'blue', label = 'Previsões')\n",
    "plt.title('Previsão preço das ações')\n",
    "plt.xlabel('Tempo')\n",
    "plt.ylabel('Valor Yahoo')\n",
    "plt.legend()\n",
    "plt.show()"
   ]
  },
  {
   "cell_type": "markdown",
   "metadata": {},
   "source": [
    "# Rede Neural - Recorentes\n",
    "## Múltiplas Saídas"
   ]
  },
  {
   "cell_type": "code",
   "execution_count": 3,
   "metadata": {},
   "outputs": [
    {
     "data": {
      "text/plain": [
       "(1242, 7)"
      ]
     },
     "execution_count": 3,
     "metadata": {},
     "output_type": "execute_result"
    }
   ],
   "source": [
    "# Importando bade de dados\n",
    "base = pd.read_csv('../dados/petr4_treinamento.csv')\n",
    "# Removendo valores null\n",
    "base = base.dropna()\n",
    "base.shape"
   ]
  },
  {
   "cell_type": "code",
   "execution_count": 4,
   "metadata": {},
   "outputs": [],
   "source": [
    "# Pegando valores previsores\n",
    "base_treinamento = base.iloc[:, 1:2].values\n",
    "base_valor_maximo = base.iloc[:, 2:3].values"
   ]
  },
  {
   "cell_type": "code",
   "execution_count": 5,
   "metadata": {},
   "outputs": [],
   "source": [
    "# Normalizando dados de treinamento\n",
    "normalizador = MinMaxScaler(feature_range = (0, 1))\n",
    "base_treinamento_normalizada = normalizador.fit_transform(base_treinamento)\n",
    "base_valor_maximo_normalizada = normalizador.fit_transform(base_valor_maximo)"
   ]
  },
  {
   "cell_type": "code",
   "execution_count": 6,
   "metadata": {},
   "outputs": [],
   "source": [
    "# Selecionando previsores\n",
    "previsores = []\n",
    "preco_real1 = []\n",
    "preco_real2 = []\n",
    "\n",
    "for i in range(90, 1242):\n",
    "    previsores.append(base_treinamento_normalizada[i - 90:i, 0])\n",
    "    preco_real1.append(base_treinamento_normalizada[i, 0])\n",
    "    preco_real2.append(base_valor_maximo_normalizada[i, 0])\n",
    "\n",
    "previsores, preco_real1, preco_real2 = np.array(previsores), np.array(preco_real1), np.array(preco_real2)\n",
    "previsores = np.reshape(previsores, (previsores.shape[0], previsores.shape[1], 1))"
   ]
  },
  {
   "cell_type": "code",
   "execution_count": 8,
   "metadata": {},
   "outputs": [
    {
     "data": {
      "text/plain": [
       "array([[0.76114341, 0.76490543],\n",
       "       [0.76114341, 0.7746001 ],\n",
       "       [0.77470935, 0.78090155],\n",
       "       ...,\n",
       "       [0.57122093, 0.57537562],\n",
       "       [0.57655039, 0.57489089],\n",
       "       [0.57655039, 0.57343674]])"
      ]
     },
     "execution_count": 8,
     "metadata": {},
     "output_type": "execute_result"
    }
   ],
   "source": [
    "preco_real = np.column_stack((preco_real1, preco_real2))\n",
    "preco_real"
   ]
  },
  {
   "cell_type": "code",
   "execution_count": 10,
   "metadata": {},
   "outputs": [
    {
     "name": "stdout",
     "output_type": "stream",
     "text": [
      "Epoch 1/100\n",
      "36/36 [==============================] - 13s 181ms/step - loss: 0.0612 - mean_absolute_error: 0.1868\n",
      "Epoch 2/100\n",
      "36/36 [==============================] - 6s 167ms/step - loss: 0.0193 - mean_absolute_error: 0.1071\n",
      "Epoch 3/100\n",
      "36/36 [==============================] - 6s 165ms/step - loss: 0.0140 - mean_absolute_error: 0.0906\n",
      "Epoch 4/100\n",
      "36/36 [==============================] - 6s 168ms/step - loss: 0.0136 - mean_absolute_error: 0.0895\n",
      "Epoch 5/100\n",
      "36/36 [==============================] - 6s 154ms/step - loss: 0.0133 - mean_absolute_error: 0.0894\n",
      "Epoch 6/100\n",
      "36/36 [==============================] - 7s 191ms/step - loss: 0.0100 - mean_absolute_error: 0.0777\n",
      "Epoch 7/100\n",
      "36/36 [==============================] - 6s 170ms/step - loss: 0.0079 - mean_absolute_error: 0.0683\n",
      "Epoch 8/100\n",
      "36/36 [==============================] - 6s 170ms/step - loss: 0.0089 - mean_absolute_error: 0.0716\n",
      "Epoch 9/100\n",
      "36/36 [==============================] - 6s 178ms/step - loss: 0.0084 - mean_absolute_error: 0.0686\n",
      "Epoch 10/100\n",
      "36/36 [==============================] - 6s 170ms/step - loss: 0.0071 - mean_absolute_error: 0.0634\n",
      "Epoch 11/100\n",
      "36/36 [==============================] - 7s 190ms/step - loss: 0.0074 - mean_absolute_error: 0.0650\n",
      "Epoch 12/100\n",
      "36/36 [==============================] - 7s 182ms/step - loss: 0.0063 - mean_absolute_error: 0.0600\n",
      "Epoch 13/100\n",
      "36/36 [==============================] - 6s 163ms/step - loss: 0.0058 - mean_absolute_error: 0.0582\n",
      "Epoch 14/100\n",
      "36/36 [==============================] - 5s 145ms/step - loss: 0.0061 - mean_absolute_error: 0.0581\n",
      "Epoch 15/100\n",
      "36/36 [==============================] - 6s 161ms/step - loss: 0.0049 - mean_absolute_error: 0.0522\n",
      "Epoch 16/100\n",
      "36/36 [==============================] - 6s 177ms/step - loss: 0.0049 - mean_absolute_error: 0.0545\n",
      "Epoch 17/100\n",
      "36/36 [==============================] - 6s 153ms/step - loss: 0.0051 - mean_absolute_error: 0.0540\n",
      "Epoch 18/100\n",
      "36/36 [==============================] - 6s 172ms/step - loss: 0.0044 - mean_absolute_error: 0.0507\n",
      "Epoch 19/100\n",
      "36/36 [==============================] - 6s 157ms/step - loss: 0.0045 - mean_absolute_error: 0.0508\n",
      "Epoch 20/100\n",
      "36/36 [==============================] - 5s 152ms/step - loss: 0.0044 - mean_absolute_error: 0.0490\n",
      "Epoch 21/100\n",
      "36/36 [==============================] - 5s 144ms/step - loss: 0.0039 - mean_absolute_error: 0.0481\n",
      "Epoch 22/100\n",
      "36/36 [==============================] - 5s 145ms/step - loss: 0.0033 - mean_absolute_error: 0.0439\n",
      "Epoch 23/100\n",
      "36/36 [==============================] - 6s 159ms/step - loss: 0.0034 - mean_absolute_error: 0.0451\n",
      "Epoch 24/100\n",
      "36/36 [==============================] - 6s 161ms/step - loss: 0.0038 - mean_absolute_error: 0.0465\n",
      "Epoch 25/100\n",
      "36/36 [==============================] - 6s 152ms/step - loss: 0.0039 - mean_absolute_error: 0.0472\n",
      "Epoch 26/100\n",
      "36/36 [==============================] - 5s 146ms/step - loss: 0.0036 - mean_absolute_error: 0.0467\n",
      "Epoch 27/100\n",
      "36/36 [==============================] - 6s 165ms/step - loss: 0.0033 - mean_absolute_error: 0.0434\n",
      "Epoch 28/100\n",
      "36/36 [==============================] - 6s 154ms/step - loss: 0.0032 - mean_absolute_error: 0.0424\n",
      "Epoch 29/100\n",
      "36/36 [==============================] - 5s 141ms/step - loss: 0.0039 - mean_absolute_error: 0.0470\n",
      "Epoch 30/100\n",
      "36/36 [==============================] - 5s 145ms/step - loss: 0.0034 - mean_absolute_error: 0.0444\n",
      "Epoch 31/100\n",
      "36/36 [==============================] - 6s 170ms/step - loss: 0.0031 - mean_absolute_error: 0.0420\n",
      "Epoch 32/100\n",
      "36/36 [==============================] - 7s 185ms/step - loss: 0.0029 - mean_absolute_error: 0.0411\n",
      "Epoch 33/100\n",
      "36/36 [==============================] - 6s 166ms/step - loss: 0.0029 - mean_absolute_error: 0.0402\n",
      "Epoch 34/100\n",
      "36/36 [==============================] - 6s 160ms/step - loss: 0.0033 - mean_absolute_error: 0.0434\n",
      "Epoch 35/100\n",
      "36/36 [==============================] - 6s 156ms/step - loss: 0.0029 - mean_absolute_error: 0.0410\n",
      "Epoch 36/100\n",
      "36/36 [==============================] - 6s 161ms/step - loss: 0.0032 - mean_absolute_error: 0.0423\n",
      "Epoch 37/100\n",
      "36/36 [==============================] - 5s 149ms/step - loss: 0.0031 - mean_absolute_error: 0.0410\n",
      "Epoch 38/100\n",
      "36/36 [==============================] - 6s 164ms/step - loss: 0.0028 - mean_absolute_error: 0.0413\n",
      "Epoch 39/100\n",
      "36/36 [==============================] - 6s 156ms/step - loss: 0.0029 - mean_absolute_error: 0.0416\n",
      "Epoch 40/100\n",
      "36/36 [==============================] - 6s 159ms/step - loss: 0.0026 - mean_absolute_error: 0.0386\n",
      "Epoch 41/100\n",
      "36/36 [==============================] - 6s 154ms/step - loss: 0.0024 - mean_absolute_error: 0.0369\n",
      "Epoch 42/100\n",
      "36/36 [==============================] - 5s 144ms/step - loss: 0.0028 - mean_absolute_error: 0.0407\n",
      "Epoch 43/100\n",
      "36/36 [==============================] - 5s 148ms/step - loss: 0.0023 - mean_absolute_error: 0.0370\n",
      "Epoch 44/100\n",
      "36/36 [==============================] - 5s 152ms/step - loss: 0.0024 - mean_absolute_error: 0.0380\n",
      "Epoch 45/100\n",
      "36/36 [==============================] - 6s 153ms/step - loss: 0.0028 - mean_absolute_error: 0.0412\n",
      "Epoch 46/100\n",
      "36/36 [==============================] - 6s 171ms/step - loss: 0.0023 - mean_absolute_error: 0.0351\n",
      "Epoch 47/100\n",
      "36/36 [==============================] - 6s 155ms/step - loss: 0.0024 - mean_absolute_error: 0.0380\n",
      "Epoch 48/100\n",
      "36/36 [==============================] - 5s 150ms/step - loss: 0.0023 - mean_absolute_error: 0.0361\n",
      "Epoch 49/100\n",
      "36/36 [==============================] - 6s 153ms/step - loss: 0.0023 - mean_absolute_error: 0.0366\n",
      "Epoch 50/100\n",
      "36/36 [==============================] - 6s 161ms/step - loss: 0.0023 - mean_absolute_error: 0.0353\n",
      "Epoch 51/100\n",
      "36/36 [==============================] - 6s 157ms/step - loss: 0.0020 - mean_absolute_error: 0.0345\n",
      "Epoch 52/100\n",
      "36/36 [==============================] - 6s 158ms/step - loss: 0.0023 - mean_absolute_error: 0.0361\n",
      "Epoch 53/100\n",
      "36/36 [==============================] - 6s 168ms/step - loss: 0.0022 - mean_absolute_error: 0.0366\n",
      "Epoch 54/100\n",
      "36/36 [==============================] - 6s 170ms/step - loss: 0.0020 - mean_absolute_error: 0.0339\n",
      "Epoch 55/100\n",
      "36/36 [==============================] - 6s 161ms/step - loss: 0.0019 - mean_absolute_error: 0.0326\n",
      "Epoch 56/100\n",
      "36/36 [==============================] - 6s 153ms/step - loss: 0.0019 - mean_absolute_error: 0.0325\n",
      "Epoch 57/100\n",
      "36/36 [==============================] - 6s 154ms/step - loss: 0.0021 - mean_absolute_error: 0.0344\n",
      "Epoch 58/100\n",
      "36/36 [==============================] - 6s 158ms/step - loss: 0.0021 - mean_absolute_error: 0.0349\n",
      "Epoch 59/100\n",
      "36/36 [==============================] - 7s 191ms/step - loss: 0.0019 - mean_absolute_error: 0.0332\n",
      "Epoch 60/100\n",
      "36/36 [==============================] - 7s 185ms/step - loss: 0.0020 - mean_absolute_error: 0.0343\n",
      "Epoch 61/100\n",
      "36/36 [==============================] - 7s 193ms/step - loss: 0.0020 - mean_absolute_error: 0.0338\n",
      "Epoch 62/100\n",
      "36/36 [==============================] - 6s 174ms/step - loss: 0.0017 - mean_absolute_error: 0.0307\n",
      "Epoch 63/100\n",
      "36/36 [==============================] - 6s 164ms/step - loss: 0.0018 - mean_absolute_error: 0.0323\n",
      "Epoch 64/100\n",
      "36/36 [==============================] - 6s 173ms/step - loss: 0.0019 - mean_absolute_error: 0.0335\n",
      "Epoch 65/100\n",
      "36/36 [==============================] - 6s 174ms/step - loss: 0.0017 - mean_absolute_error: 0.0318\n",
      "Epoch 66/100\n",
      "36/36 [==============================] - 6s 154ms/step - loss: 0.0018 - mean_absolute_error: 0.0314\n",
      "Epoch 67/100\n",
      "36/36 [==============================] - 6s 164ms/step - loss: 0.0017 - mean_absolute_error: 0.0307\n",
      "Epoch 68/100\n",
      "36/36 [==============================] - 6s 171ms/step - loss: 0.0022 - mean_absolute_error: 0.0356\n",
      "Epoch 69/100\n",
      "36/36 [==============================] - 6s 170ms/step - loss: 0.0018 - mean_absolute_error: 0.0319\n",
      "Epoch 70/100\n",
      "36/36 [==============================] - 6s 173ms/step - loss: 0.0017 - mean_absolute_error: 0.0316\n",
      "Epoch 71/100\n",
      "36/36 [==============================] - 5s 152ms/step - loss: 0.0018 - mean_absolute_error: 0.0319\n",
      "Epoch 72/100\n",
      "36/36 [==============================] - 5s 148ms/step - loss: 0.0018 - mean_absolute_error: 0.0331\n",
      "Epoch 73/100\n",
      "36/36 [==============================] - 6s 155ms/step - loss: 0.0018 - mean_absolute_error: 0.0312\n",
      "Epoch 74/100\n",
      "36/36 [==============================] - 6s 161ms/step - loss: 0.0019 - mean_absolute_error: 0.0330\n",
      "Epoch 75/100\n",
      "36/36 [==============================] - 7s 194ms/step - loss: 0.0018 - mean_absolute_error: 0.0312\n",
      "Epoch 76/100\n",
      "36/36 [==============================] - 6s 169ms/step - loss: 0.0015 - mean_absolute_error: 0.0292\n",
      "Epoch 77/100\n",
      "36/36 [==============================] - 7s 181ms/step - loss: 0.0017 - mean_absolute_error: 0.0309\n",
      "Epoch 78/100\n",
      "36/36 [==============================] - 6s 171ms/step - loss: 0.0017 - mean_absolute_error: 0.0299\n",
      "Epoch 79/100\n",
      "36/36 [==============================] - 6s 174ms/step - loss: 0.0019 - mean_absolute_error: 0.0319\n",
      "Epoch 80/100\n",
      "36/36 [==============================] - 6s 171ms/step - loss: 0.0016 - mean_absolute_error: 0.0301\n",
      "Epoch 81/100\n",
      "36/36 [==============================] - 7s 186ms/step - loss: 0.0014 - mean_absolute_error: 0.0283\n",
      "Epoch 82/100\n",
      "36/36 [==============================] - 7s 199ms/step - loss: 0.0018 - mean_absolute_error: 0.0319\n",
      "Epoch 83/100\n",
      "36/36 [==============================] - 7s 189ms/step - loss: 0.0017 - mean_absolute_error: 0.0307\n",
      "Epoch 84/100\n",
      "36/36 [==============================] - 7s 188ms/step - loss: 0.0016 - mean_absolute_error: 0.0300\n",
      "Epoch 85/100\n",
      "36/36 [==============================] - 6s 168ms/step - loss: 0.0017 - mean_absolute_error: 0.0309\n",
      "Epoch 86/100\n",
      "36/36 [==============================] - 7s 184ms/step - loss: 0.0018 - mean_absolute_error: 0.0307\n",
      "Epoch 87/100\n",
      "36/36 [==============================] - 7s 183ms/step - loss: 0.0015 - mean_absolute_error: 0.0300\n",
      "Epoch 88/100\n",
      "36/36 [==============================] - 6s 174ms/step - loss: 0.0017 - mean_absolute_error: 0.0308\n",
      "Epoch 89/100\n",
      "36/36 [==============================] - 6s 178ms/step - loss: 0.0019 - mean_absolute_error: 0.0330\n",
      "Epoch 90/100\n",
      "36/36 [==============================] - 7s 187ms/step - loss: 0.0016 - mean_absolute_error: 0.0302\n",
      "Epoch 91/100\n",
      "36/36 [==============================] - 6s 171ms/step - loss: 0.0016 - mean_absolute_error: 0.0303\n",
      "Epoch 92/100\n",
      "36/36 [==============================] - 7s 204ms/step - loss: 0.0017 - mean_absolute_error: 0.0309\n",
      "Epoch 93/100\n",
      "36/36 [==============================] - 6s 176ms/step - loss: 0.0017 - mean_absolute_error: 0.0311\n",
      "Epoch 94/100\n",
      "36/36 [==============================] - 6s 178ms/step - loss: 0.0015 - mean_absolute_error: 0.0287\n",
      "Epoch 95/100\n",
      "36/36 [==============================] - 6s 170ms/step - loss: 0.0018 - mean_absolute_error: 0.0313\n",
      "Epoch 96/100\n",
      "36/36 [==============================] - 6s 170ms/step - loss: 0.0015 - mean_absolute_error: 0.0299\n",
      "Epoch 97/100\n",
      "36/36 [==============================] - 7s 189ms/step - loss: 0.0016 - mean_absolute_error: 0.0297\n",
      "Epoch 98/100\n",
      "36/36 [==============================] - 6s 174ms/step - loss: 0.0017 - mean_absolute_error: 0.0310\n",
      "Epoch 99/100\n",
      "36/36 [==============================] - 6s 168ms/step - loss: 0.0017 - mean_absolute_error: 0.0305\n",
      "Epoch 100/100\n",
      "36/36 [==============================] - 7s 191ms/step - loss: 0.0014 - mean_absolute_error: 0.0275\n"
     ]
    },
    {
     "data": {
      "text/plain": [
       "<tensorflow.python.keras.callbacks.History at 0x1676a3340>"
      ]
     },
     "execution_count": 10,
     "metadata": {},
     "output_type": "execute_result"
    }
   ],
   "source": [
    "# Criando estrutura da rede neural\n",
    "regressor = Sequential()\n",
    "regressor.add(LSTM(units = 100, return_sequences = True, input_shape = (previsores.shape[1], 1)))\n",
    "regressor.add(Dropout(0.3))\n",
    "regressor.add(LSTM(units = 50, return_sequences = True))\n",
    "regressor.add(Dropout(0.3))\n",
    "regressor.add(LSTM(units = 50, return_sequences = True))\n",
    "regressor.add(Dropout(0.3))\n",
    "regressor.add(LSTM(units = 50))\n",
    "regressor.add(Dropout(0.3))\n",
    "regressor.add(Dense(units = 2, activation = 'linear'))\n",
    "# Compilando rede neural\n",
    "regressor.compile(optimizer = 'rmsprop', loss = 'mean_squared_error', metrics = ['mean_absolute_error'])\n",
    "# Treinamento do modelo\n",
    "regressor.fit(previsores, preco_real, epochs = 100, batch_size = 32)"
   ]
  },
  {
   "cell_type": "markdown",
   "metadata": {},
   "source": [
    "## Realisando Previsões - Múltiplas Saídas"
   ]
  },
  {
   "cell_type": "code",
   "execution_count": 17,
   "metadata": {},
   "outputs": [],
   "source": [
    "# Importando bade de dados\n",
    "base_teste = pd.read_csv('../dados/petr4_teste.csv')\n",
    "\n",
    "# Pegando valores previsores\n",
    "#preco_real_teste = base_teste.iloc[:, 1:2].values\n",
    "preco_real_open = base_teste.iloc[:, 1:2].values\n",
    "preco_real_high = base_teste.iloc[:, 2:3].values"
   ]
  },
  {
   "cell_type": "code",
   "execution_count": 18,
   "metadata": {},
   "outputs": [],
   "source": [
    "# Concatenado bases\n",
    "base_completa = pd.concat((base['Open'], base_teste['Open']), axis = 0)\n",
    "entradas = base_completa[len(base_completa) - len(base_teste) - 90:].values\n",
    "entradas = entradas.reshape(-1, 1)\n",
    "\n",
    "# Normalizando dados de previsão\n",
    "entradas = normalizador.transform(entradas)"
   ]
  },
  {
   "cell_type": "code",
   "execution_count": 19,
   "metadata": {},
   "outputs": [],
   "source": [
    "# Selecionando previsores\n",
    "X_teste = []\n",
    "\n",
    "for i in range(90, 112):\n",
    "    X_teste.append(entradas[i - 90:i, 0])\n",
    "\n",
    "X_teste = np.array(X_teste)\n",
    "X_teste = np.reshape(X_teste, (X_teste.shape[0], X_teste.shape[1], 1))"
   ]
  },
  {
   "cell_type": "code",
   "execution_count": 20,
   "metadata": {},
   "outputs": [],
   "source": [
    "# Realisando previsão\n",
    "previsoes = regressor.predict(X_teste)\n",
    "\n",
    "# Desnormalizando valores de saida\n",
    "previsoes = normalizador.inverse_transform(previsoes)"
   ]
  },
  {
   "cell_type": "code",
   "execution_count": 21,
   "metadata": {},
   "outputs": [
    {
     "data": {
      "image/png": "[encoded data removed]",
      "image/svg+xml": "<?xml version=\"1.0\" encoding=\"utf-8\" standalone=\"no\"?>\n<!DOCTYPE svg PUBLIC \"-//W3C//DTD SVG 1.1//EN\"\n  \"http://www.w3.org/Graphics/SVG/1.1/DTD/svg11.dtd\">\n<!-- Created with matplotlib (https://matplotlib.org/) -->\n<svg height=\"277.51875pt\" version=\"1.1\" viewBox=\"0 0 382.603125 277.51875\" width=\"382.603125pt\" xmlns=\"http://www.w3.org/2000/svg\" xmlns:xlink=\"http://www.w3.org/1999/xlink\">\n <metadata>\n  <rdf:RDF xmlns:cc=\"http://creativecommons.org/ns#\" xmlns:dc=\"http://purl.org/dc/elements/1.1/\" xmlns:rdf=\"http://www.w3.org/1999/02/22-rdf-syntax-ns#\">\n   <cc:Work>\n    <dc:type rdf:resource=\"http://purl.org/dc/dcmitype/StillImage\"/>\n    <dc:date>2021-04-14T09:17:13.681891</dc:date>\n    <dc:format>image/svg+xml</dc:format>\n    <dc:creator>\n     <cc:Agent>\n      <dc:title>Matplotlib v3.3.4, https://matplotlib.org/</dc:title>\n     </cc:Agent>\n    </dc:creator>\n   </cc:Work>\n  </rdf:RDF>\n </metadata>\n <defs>\n  <style type=\"text/css\">*{stroke-linecap:butt;stroke-linejoin:round;}</style>\n </defs>\n <g id=\"figure_1\">\n  <g id=\"patch_1\">\n   <path d=\"M 0 277.51875 \nL 382.603125 277.51875 \nL 382.603125 0 \nL 0 0 \nz\n\" style=\"fill:none;\"/>\n  </g>\n  <g id=\"axes_1\">\n   <g id=\"patch_2\">\n    <path d=\"M 40.603125 239.9625 \nL 375.403125 239.9625 \nL 375.403125 22.5225 \nL 40.603125 22.5225 \nz\n\" style=\"fill:#ffffff;\"/>\n   </g>\n   <g id=\"matplotlib.axis_1\">\n    <g id=\"xtick_1\">\n     <g id=\"line2d_1\">\n      <defs>\n       <path d=\"M 0 0 \nL 0 3.5 \n\" id=\"mb9d9a71743\" style=\"stroke:#000000;stroke-width:0.8;\"/>\n      </defs>\n      <g>\n       <use style=\"stroke:#000000;stroke-width:0.8;\" x=\"55.821307\" xlink:href=\"#mb9d9a71743\" y=\"239.9625\"/>\n      </g>\n     </g>\n     <g id=\"text_1\">\n      <!-- 0 -->\n      <g transform=\"translate(52.640057 254.560937)scale(0.1 -0.1)\">\n       <defs>\n        <path d=\"M 31.78125 66.40625 \nQ 24.171875 66.40625 20.328125 58.90625 \nQ 16.5 51.421875 16.5 36.375 \nQ 16.5 21.390625 20.328125 13.890625 \nQ 24.171875 6.390625 31.78125 6.390625 \nQ 39.453125 6.390625 43.28125 13.890625 \nQ 47.125 21.390625 47.125 36.375 \nQ 47.125 51.421875 43.28125 58.90625 \nQ 39.453125 66.40625 31.78125 66.40625 \nz\nM 31.78125 74.21875 \nQ 44.046875 74.21875 50.515625 64.515625 \nQ 56.984375 54.828125 56.984375 36.375 \nQ 56.984375 17.96875 50.515625 8.265625 \nQ 44.046875 -1.421875 31.78125 -1.421875 \nQ 19.53125 -1.421875 13.0625 8.265625 \nQ 6.59375 17.96875 6.59375 36.375 \nQ 6.59375 54.828125 13.0625 64.515625 \nQ 19.53125 74.21875 31.78125 74.21875 \nz\n\" id=\"DejaVuSans-48\"/>\n       </defs>\n       <use xlink:href=\"#DejaVuSans-48\"/>\n      </g>\n     </g>\n    </g>\n    <g id=\"xtick_2\">\n     <g id=\"line2d_2\">\n      <g>\n       <use style=\"stroke:#000000;stroke-width:0.8;\" x=\"128.288839\" xlink:href=\"#mb9d9a71743\" y=\"239.9625\"/>\n      </g>\n     </g>\n     <g id=\"text_2\">\n      <!-- 5 -->\n      <g transform=\"translate(125.107589 254.560937)scale(0.1 -0.1)\">\n       <defs>\n        <path d=\"M 10.796875 72.90625 \nL 49.515625 72.90625 \nL 49.515625 64.59375 \nL 19.828125 64.59375 \nL 19.828125 46.734375 \nQ 21.96875 47.46875 24.109375 47.828125 \nQ 26.265625 48.1875 28.421875 48.1875 \nQ 40.625 48.1875 47.75 41.5 \nQ 54.890625 34.8125 54.890625 23.390625 \nQ 54.890625 11.625 47.5625 5.09375 \nQ 40.234375 -1.421875 26.90625 -1.421875 \nQ 22.3125 -1.421875 17.546875 -0.640625 \nQ 12.796875 0.140625 7.71875 1.703125 \nL 7.71875 11.625 \nQ 12.109375 9.234375 16.796875 8.0625 \nQ 21.484375 6.890625 26.703125 6.890625 \nQ 35.15625 6.890625 40.078125 11.328125 \nQ 45.015625 15.765625 45.015625 23.390625 \nQ 45.015625 31 40.078125 35.4375 \nQ 35.15625 39.890625 26.703125 39.890625 \nQ 22.75 39.890625 18.8125 39.015625 \nQ 14.890625 38.140625 10.796875 36.28125 \nz\n\" id=\"DejaVuSans-53\"/>\n       </defs>\n       <use xlink:href=\"#DejaVuSans-53\"/>\n      </g>\n     </g>\n    </g>\n    <g id=\"xtick_3\">\n     <g id=\"line2d_3\">\n      <g>\n       <use style=\"stroke:#000000;stroke-width:0.8;\" x=\"200.756372\" xlink:href=\"#mb9d9a71743\" y=\"239.9625\"/>\n      </g>\n     </g>\n     <g id=\"text_3\">\n      <!-- 10 -->\n      <g transform=\"translate(194.393872 254.560937)scale(0.1 -0.1)\">\n       <defs>\n        <path d=\"M 12.40625 8.296875 \nL 28.515625 8.296875 \nL 28.515625 63.921875 \nL 10.984375 60.40625 \nL 10.984375 69.390625 \nL 28.421875 72.90625 \nL 38.28125 72.90625 \nL 38.28125 8.296875 \nL 54.390625 8.296875 \nL 54.390625 0 \nL 12.40625 0 \nz\n\" id=\"DejaVuSans-49\"/>\n       </defs>\n       <use xlink:href=\"#DejaVuSans-49\"/>\n       <use x=\"63.623047\" xlink:href=\"#DejaVuSans-48\"/>\n      </g>\n     </g>\n    </g>\n    <g id=\"xtick_4\">\n     <g id=\"line2d_4\">\n      <g>\n       <use style=\"stroke:#000000;stroke-width:0.8;\" x=\"273.223904\" xlink:href=\"#mb9d9a71743\" y=\"239.9625\"/>\n      </g>\n     </g>\n     <g id=\"text_4\">\n      <!-- 15 -->\n      <g transform=\"translate(266.861404 254.560937)scale(0.1 -0.1)\">\n       <use xlink:href=\"#DejaVuSans-49\"/>\n       <use x=\"63.623047\" xlink:href=\"#DejaVuSans-53\"/>\n      </g>\n     </g>\n    </g>\n    <g id=\"xtick_5\">\n     <g id=\"line2d_5\">\n      <g>\n       <use style=\"stroke:#000000;stroke-width:0.8;\" x=\"345.691437\" xlink:href=\"#mb9d9a71743\" y=\"239.9625\"/>\n      </g>\n     </g>\n     <g id=\"text_5\">\n      <!-- 20 -->\n      <g transform=\"translate(339.328937 254.560937)scale(0.1 -0.1)\">\n       <defs>\n        <path d=\"M 19.1875 8.296875 \nL 53.609375 8.296875 \nL 53.609375 0 \nL 7.328125 0 \nL 7.328125 8.296875 \nQ 12.9375 14.109375 22.625 23.890625 \nQ 32.328125 33.6875 34.8125 36.53125 \nQ 39.546875 41.84375 41.421875 45.53125 \nQ 43.3125 49.21875 43.3125 52.78125 \nQ 43.3125 58.59375 39.234375 62.25 \nQ 35.15625 65.921875 28.609375 65.921875 \nQ 23.96875 65.921875 18.8125 64.3125 \nQ 13.671875 62.703125 7.8125 59.421875 \nL 7.8125 69.390625 \nQ 13.765625 71.78125 18.9375 73 \nQ 24.125 74.21875 28.421875 74.21875 \nQ 39.75 74.21875 46.484375 68.546875 \nQ 53.21875 62.890625 53.21875 53.421875 \nQ 53.21875 48.921875 51.53125 44.890625 \nQ 49.859375 40.875 45.40625 35.40625 \nQ 44.1875 33.984375 37.640625 27.21875 \nQ 31.109375 20.453125 19.1875 8.296875 \nz\n\" id=\"DejaVuSans-50\"/>\n       </defs>\n       <use xlink:href=\"#DejaVuSans-50\"/>\n       <use x=\"63.623047\" xlink:href=\"#DejaVuSans-48\"/>\n      </g>\n     </g>\n    </g>\n    <g id=\"text_6\">\n     <!-- Tempo -->\n     <g transform=\"translate(191.61875 268.239062)scale(0.1 -0.1)\">\n      <defs>\n       <path d=\"M -0.296875 72.90625 \nL 61.375 72.90625 \nL 61.375 64.59375 \nL 35.5 64.59375 \nL 35.5 0 \nL 25.59375 0 \nL 25.59375 64.59375 \nL -0.296875 64.59375 \nz\n\" id=\"DejaVuSans-84\"/>\n       <path d=\"M 56.203125 29.59375 \nL 56.203125 25.203125 \nL 14.890625 25.203125 \nQ 15.484375 15.921875 20.484375 11.0625 \nQ 25.484375 6.203125 34.421875 6.203125 \nQ 39.59375 6.203125 44.453125 7.46875 \nQ 49.3125 8.734375 54.109375 11.28125 \nL 54.109375 2.78125 \nQ 49.265625 0.734375 44.1875 -0.34375 \nQ 39.109375 -1.421875 33.890625 -1.421875 \nQ 20.796875 -1.421875 13.15625 6.1875 \nQ 5.515625 13.8125 5.515625 26.8125 \nQ 5.515625 40.234375 12.765625 48.109375 \nQ 20.015625 56 32.328125 56 \nQ 43.359375 56 49.78125 48.890625 \nQ 56.203125 41.796875 56.203125 29.59375 \nz\nM 47.21875 32.234375 \nQ 47.125 39.59375 43.09375 43.984375 \nQ 39.0625 48.390625 32.421875 48.390625 \nQ 24.90625 48.390625 20.390625 44.140625 \nQ 15.875 39.890625 15.1875 32.171875 \nz\n\" id=\"DejaVuSans-101\"/>\n       <path d=\"M 52 44.1875 \nQ 55.375 50.25 60.0625 53.125 \nQ 64.75 56 71.09375 56 \nQ 79.640625 56 84.28125 50.015625 \nQ 88.921875 44.046875 88.921875 33.015625 \nL 88.921875 0 \nL 79.890625 0 \nL 79.890625 32.71875 \nQ 79.890625 40.578125 77.09375 44.375 \nQ 74.3125 48.1875 68.609375 48.1875 \nQ 61.625 48.1875 57.5625 43.546875 \nQ 53.515625 38.921875 53.515625 30.90625 \nL 53.515625 0 \nL 44.484375 0 \nL 44.484375 32.71875 \nQ 44.484375 40.625 41.703125 44.40625 \nQ 38.921875 48.1875 33.109375 48.1875 \nQ 26.21875 48.1875 22.15625 43.53125 \nQ 18.109375 38.875 18.109375 30.90625 \nL 18.109375 0 \nL 9.078125 0 \nL 9.078125 54.6875 \nL 18.109375 54.6875 \nL 18.109375 46.1875 \nQ 21.1875 51.21875 25.484375 53.609375 \nQ 29.78125 56 35.6875 56 \nQ 41.65625 56 45.828125 52.96875 \nQ 50 49.953125 52 44.1875 \nz\n\" id=\"DejaVuSans-109\"/>\n       <path d=\"M 18.109375 8.203125 \nL 18.109375 -20.796875 \nL 9.078125 -20.796875 \nL 9.078125 54.6875 \nL 18.109375 54.6875 \nL 18.109375 46.390625 \nQ 20.953125 51.265625 25.265625 53.625 \nQ 29.59375 56 35.59375 56 \nQ 45.5625 56 51.78125 48.09375 \nQ 58.015625 40.1875 58.015625 27.296875 \nQ 58.015625 14.40625 51.78125 6.484375 \nQ 45.5625 -1.421875 35.59375 -1.421875 \nQ 29.59375 -1.421875 25.265625 0.953125 \nQ 20.953125 3.328125 18.109375 8.203125 \nz\nM 48.6875 27.296875 \nQ 48.6875 37.203125 44.609375 42.84375 \nQ 40.53125 48.484375 33.40625 48.484375 \nQ 26.265625 48.484375 22.1875 42.84375 \nQ 18.109375 37.203125 18.109375 27.296875 \nQ 18.109375 17.390625 22.1875 11.75 \nQ 26.265625 6.109375 33.40625 6.109375 \nQ 40.53125 6.109375 44.609375 11.75 \nQ 48.6875 17.390625 48.6875 27.296875 \nz\n\" id=\"DejaVuSans-112\"/>\n       <path d=\"M 30.609375 48.390625 \nQ 23.390625 48.390625 19.1875 42.75 \nQ 14.984375 37.109375 14.984375 27.296875 \nQ 14.984375 17.484375 19.15625 11.84375 \nQ 23.34375 6.203125 30.609375 6.203125 \nQ 37.796875 6.203125 41.984375 11.859375 \nQ 46.1875 17.53125 46.1875 27.296875 \nQ 46.1875 37.015625 41.984375 42.703125 \nQ 37.796875 48.390625 30.609375 48.390625 \nz\nM 30.609375 56 \nQ 42.328125 56 49.015625 48.375 \nQ 55.71875 40.765625 55.71875 27.296875 \nQ 55.71875 13.875 49.015625 6.21875 \nQ 42.328125 -1.421875 30.609375 -1.421875 \nQ 18.84375 -1.421875 12.171875 6.21875 \nQ 5.515625 13.875 5.515625 27.296875 \nQ 5.515625 40.765625 12.171875 48.375 \nQ 18.84375 56 30.609375 56 \nz\n\" id=\"DejaVuSans-111\"/>\n      </defs>\n      <use xlink:href=\"#DejaVuSans-84\"/>\n      <use x=\"44.083984\" xlink:href=\"#DejaVuSans-101\"/>\n      <use x=\"105.607422\" xlink:href=\"#DejaVuSans-109\"/>\n      <use x=\"203.019531\" xlink:href=\"#DejaVuSans-112\"/>\n      <use x=\"266.496094\" xlink:href=\"#DejaVuSans-111\"/>\n     </g>\n    </g>\n   </g>\n   <g id=\"matplotlib.axis_2\">\n    <g id=\"ytick_1\">\n     <g id=\"line2d_6\">\n      <defs>\n       <path d=\"M 0 0 \nL -3.5 0 \n\" id=\"m844c97c5f0\" style=\"stroke:#000000;stroke-width:0.8;\"/>\n      </defs>\n      <g>\n       <use style=\"stroke:#000000;stroke-width:0.8;\" x=\"40.603125\" xlink:href=\"#m844c97c5f0\" y=\"238.90179\"/>\n      </g>\n     </g>\n     <g id=\"text_7\">\n      <!-- 16 -->\n      <g transform=\"translate(20.878125 242.701009)scale(0.1 -0.1)\">\n       <defs>\n        <path d=\"M 33.015625 40.375 \nQ 26.375 40.375 22.484375 35.828125 \nQ 18.609375 31.296875 18.609375 23.390625 \nQ 18.609375 15.53125 22.484375 10.953125 \nQ 26.375 6.390625 33.015625 6.390625 \nQ 39.65625 6.390625 43.53125 10.953125 \nQ 47.40625 15.53125 47.40625 23.390625 \nQ 47.40625 31.296875 43.53125 35.828125 \nQ 39.65625 40.375 33.015625 40.375 \nz\nM 52.59375 71.296875 \nL 52.59375 62.3125 \nQ 48.875 64.0625 45.09375 64.984375 \nQ 41.3125 65.921875 37.59375 65.921875 \nQ 27.828125 65.921875 22.671875 59.328125 \nQ 17.53125 52.734375 16.796875 39.40625 \nQ 19.671875 43.65625 24.015625 45.921875 \nQ 28.375 48.1875 33.59375 48.1875 \nQ 44.578125 48.1875 50.953125 41.515625 \nQ 57.328125 34.859375 57.328125 23.390625 \nQ 57.328125 12.15625 50.6875 5.359375 \nQ 44.046875 -1.421875 33.015625 -1.421875 \nQ 20.359375 -1.421875 13.671875 8.265625 \nQ 6.984375 17.96875 6.984375 36.375 \nQ 6.984375 53.65625 15.1875 63.9375 \nQ 23.390625 74.21875 37.203125 74.21875 \nQ 40.921875 74.21875 44.703125 73.484375 \nQ 48.484375 72.75 52.59375 71.296875 \nz\n\" id=\"DejaVuSans-54\"/>\n       </defs>\n       <use xlink:href=\"#DejaVuSans-49\"/>\n       <use x=\"63.623047\" xlink:href=\"#DejaVuSans-54\"/>\n      </g>\n     </g>\n    </g>\n    <g id=\"ytick_2\">\n     <g id=\"line2d_7\">\n      <g>\n       <use style=\"stroke:#000000;stroke-width:0.8;\" x=\"40.603125\" xlink:href=\"#m844c97c5f0\" y=\"192.465579\"/>\n      </g>\n     </g>\n     <g id=\"text_8\">\n      <!-- 17 -->\n      <g transform=\"translate(20.878125 196.264798)scale(0.1 -0.1)\">\n       <defs>\n        <path d=\"M 8.203125 72.90625 \nL 55.078125 72.90625 \nL 55.078125 68.703125 \nL 28.609375 0 \nL 18.3125 0 \nL 43.21875 64.59375 \nL 8.203125 64.59375 \nz\n\" id=\"DejaVuSans-55\"/>\n       </defs>\n       <use xlink:href=\"#DejaVuSans-49\"/>\n       <use x=\"63.623047\" xlink:href=\"#DejaVuSans-55\"/>\n      </g>\n     </g>\n    </g>\n    <g id=\"ytick_3\">\n     <g id=\"line2d_8\">\n      <g>\n       <use style=\"stroke:#000000;stroke-width:0.8;\" x=\"40.603125\" xlink:href=\"#m844c97c5f0\" y=\"146.029368\"/>\n      </g>\n     </g>\n     <g id=\"text_9\">\n      <!-- 18 -->\n      <g transform=\"translate(20.878125 149.828587)scale(0.1 -0.1)\">\n       <defs>\n        <path d=\"M 31.78125 34.625 \nQ 24.75 34.625 20.71875 30.859375 \nQ 16.703125 27.09375 16.703125 20.515625 \nQ 16.703125 13.921875 20.71875 10.15625 \nQ 24.75 6.390625 31.78125 6.390625 \nQ 38.8125 6.390625 42.859375 10.171875 \nQ 46.921875 13.96875 46.921875 20.515625 \nQ 46.921875 27.09375 42.890625 30.859375 \nQ 38.875 34.625 31.78125 34.625 \nz\nM 21.921875 38.8125 \nQ 15.578125 40.375 12.03125 44.71875 \nQ 8.5 49.078125 8.5 55.328125 \nQ 8.5 64.0625 14.71875 69.140625 \nQ 20.953125 74.21875 31.78125 74.21875 \nQ 42.671875 74.21875 48.875 69.140625 \nQ 55.078125 64.0625 55.078125 55.328125 \nQ 55.078125 49.078125 51.53125 44.71875 \nQ 48 40.375 41.703125 38.8125 \nQ 48.828125 37.15625 52.796875 32.3125 \nQ 56.78125 27.484375 56.78125 20.515625 \nQ 56.78125 9.90625 50.3125 4.234375 \nQ 43.84375 -1.421875 31.78125 -1.421875 \nQ 19.734375 -1.421875 13.25 4.234375 \nQ 6.78125 9.90625 6.78125 20.515625 \nQ 6.78125 27.484375 10.78125 32.3125 \nQ 14.796875 37.15625 21.921875 38.8125 \nz\nM 18.3125 54.390625 \nQ 18.3125 48.734375 21.84375 45.5625 \nQ 25.390625 42.390625 31.78125 42.390625 \nQ 38.140625 42.390625 41.71875 45.5625 \nQ 45.3125 48.734375 45.3125 54.390625 \nQ 45.3125 60.0625 41.71875 63.234375 \nQ 38.140625 66.40625 31.78125 66.40625 \nQ 25.390625 66.40625 21.84375 63.234375 \nQ 18.3125 60.0625 18.3125 54.390625 \nz\n\" id=\"DejaVuSans-56\"/>\n       </defs>\n       <use xlink:href=\"#DejaVuSans-49\"/>\n       <use x=\"63.623047\" xlink:href=\"#DejaVuSans-56\"/>\n      </g>\n     </g>\n    </g>\n    <g id=\"ytick_4\">\n     <g id=\"line2d_9\">\n      <g>\n       <use style=\"stroke:#000000;stroke-width:0.8;\" x=\"40.603125\" xlink:href=\"#m844c97c5f0\" y=\"99.593157\"/>\n      </g>\n     </g>\n     <g id=\"text_10\">\n      <!-- 19 -->\n      <g transform=\"translate(20.878125 103.392376)scale(0.1 -0.1)\">\n       <defs>\n        <path d=\"M 10.984375 1.515625 \nL 10.984375 10.5 \nQ 14.703125 8.734375 18.5 7.8125 \nQ 22.3125 6.890625 25.984375 6.890625 \nQ 35.75 6.890625 40.890625 13.453125 \nQ 46.046875 20.015625 46.78125 33.40625 \nQ 43.953125 29.203125 39.59375 26.953125 \nQ 35.25 24.703125 29.984375 24.703125 \nQ 19.046875 24.703125 12.671875 31.3125 \nQ 6.296875 37.9375 6.296875 49.421875 \nQ 6.296875 60.640625 12.9375 67.421875 \nQ 19.578125 74.21875 30.609375 74.21875 \nQ 43.265625 74.21875 49.921875 64.515625 \nQ 56.59375 54.828125 56.59375 36.375 \nQ 56.59375 19.140625 48.40625 8.859375 \nQ 40.234375 -1.421875 26.421875 -1.421875 \nQ 22.703125 -1.421875 18.890625 -0.6875 \nQ 15.09375 0.046875 10.984375 1.515625 \nz\nM 30.609375 32.421875 \nQ 37.25 32.421875 41.125 36.953125 \nQ 45.015625 41.5 45.015625 49.421875 \nQ 45.015625 57.28125 41.125 61.84375 \nQ 37.25 66.40625 30.609375 66.40625 \nQ 23.96875 66.40625 20.09375 61.84375 \nQ 16.21875 57.28125 16.21875 49.421875 \nQ 16.21875 41.5 20.09375 36.953125 \nQ 23.96875 32.421875 30.609375 32.421875 \nz\n\" id=\"DejaVuSans-57\"/>\n       </defs>\n       <use xlink:href=\"#DejaVuSans-49\"/>\n       <use x=\"63.623047\" xlink:href=\"#DejaVuSans-57\"/>\n      </g>\n     </g>\n    </g>\n    <g id=\"ytick_5\">\n     <g id=\"line2d_10\">\n      <g>\n       <use style=\"stroke:#000000;stroke-width:0.8;\" x=\"40.603125\" xlink:href=\"#m844c97c5f0\" y=\"53.156946\"/>\n      </g>\n     </g>\n     <g id=\"text_11\">\n      <!-- 20 -->\n      <g transform=\"translate(20.878125 56.956165)scale(0.1 -0.1)\">\n       <use xlink:href=\"#DejaVuSans-50\"/>\n       <use x=\"63.623047\" xlink:href=\"#DejaVuSans-48\"/>\n      </g>\n     </g>\n    </g>\n    <g id=\"text_12\">\n     <!-- Valor Yahoo -->\n     <g transform=\"translate(14.798438 160.150312)rotate(-90)scale(0.1 -0.1)\">\n      <defs>\n       <path d=\"M 28.609375 0 \nL 0.78125 72.90625 \nL 11.078125 72.90625 \nL 34.1875 11.53125 \nL 57.328125 72.90625 \nL 67.578125 72.90625 \nL 39.796875 0 \nz\n\" id=\"DejaVuSans-86\"/>\n       <path d=\"M 34.28125 27.484375 \nQ 23.390625 27.484375 19.1875 25 \nQ 14.984375 22.515625 14.984375 16.5 \nQ 14.984375 11.71875 18.140625 8.90625 \nQ 21.296875 6.109375 26.703125 6.109375 \nQ 34.1875 6.109375 38.703125 11.40625 \nQ 43.21875 16.703125 43.21875 25.484375 \nL 43.21875 27.484375 \nz\nM 52.203125 31.203125 \nL 52.203125 0 \nL 43.21875 0 \nL 43.21875 8.296875 \nQ 40.140625 3.328125 35.546875 0.953125 \nQ 30.953125 -1.421875 24.3125 -1.421875 \nQ 15.921875 -1.421875 10.953125 3.296875 \nQ 6 8.015625 6 15.921875 \nQ 6 25.140625 12.171875 29.828125 \nQ 18.359375 34.515625 30.609375 34.515625 \nL 43.21875 34.515625 \nL 43.21875 35.40625 \nQ 43.21875 41.609375 39.140625 45 \nQ 35.0625 48.390625 27.6875 48.390625 \nQ 23 48.390625 18.546875 47.265625 \nQ 14.109375 46.140625 10.015625 43.890625 \nL 10.015625 52.203125 \nQ 14.9375 54.109375 19.578125 55.046875 \nQ 24.21875 56 28.609375 56 \nQ 40.484375 56 46.34375 49.84375 \nQ 52.203125 43.703125 52.203125 31.203125 \nz\n\" id=\"DejaVuSans-97\"/>\n       <path d=\"M 9.421875 75.984375 \nL 18.40625 75.984375 \nL 18.40625 0 \nL 9.421875 0 \nz\n\" id=\"DejaVuSans-108\"/>\n       <path d=\"M 41.109375 46.296875 \nQ 39.59375 47.171875 37.8125 47.578125 \nQ 36.03125 48 33.890625 48 \nQ 26.265625 48 22.1875 43.046875 \nQ 18.109375 38.09375 18.109375 28.8125 \nL 18.109375 0 \nL 9.078125 0 \nL 9.078125 54.6875 \nL 18.109375 54.6875 \nL 18.109375 46.1875 \nQ 20.953125 51.171875 25.484375 53.578125 \nQ 30.03125 56 36.53125 56 \nQ 37.453125 56 38.578125 55.875 \nQ 39.703125 55.765625 41.0625 55.515625 \nz\n\" id=\"DejaVuSans-114\"/>\n       <path id=\"DejaVuSans-32\"/>\n       <path d=\"M -0.203125 72.90625 \nL 10.40625 72.90625 \nL 30.609375 42.921875 \nL 50.6875 72.90625 \nL 61.28125 72.90625 \nL 35.5 34.71875 \nL 35.5 0 \nL 25.59375 0 \nL 25.59375 34.71875 \nz\n\" id=\"DejaVuSans-89\"/>\n       <path d=\"M 54.890625 33.015625 \nL 54.890625 0 \nL 45.90625 0 \nL 45.90625 32.71875 \nQ 45.90625 40.484375 42.875 44.328125 \nQ 39.84375 48.1875 33.796875 48.1875 \nQ 26.515625 48.1875 22.3125 43.546875 \nQ 18.109375 38.921875 18.109375 30.90625 \nL 18.109375 0 \nL 9.078125 0 \nL 9.078125 75.984375 \nL 18.109375 75.984375 \nL 18.109375 46.1875 \nQ 21.34375 51.125 25.703125 53.5625 \nQ 30.078125 56 35.796875 56 \nQ 45.21875 56 50.046875 50.171875 \nQ 54.890625 44.34375 54.890625 33.015625 \nz\n\" id=\"DejaVuSans-104\"/>\n      </defs>\n      <use xlink:href=\"#DejaVuSans-86\"/>\n      <use x=\"60.658203\" xlink:href=\"#DejaVuSans-97\"/>\n      <use x=\"121.9375\" xlink:href=\"#DejaVuSans-108\"/>\n      <use x=\"149.720703\" xlink:href=\"#DejaVuSans-111\"/>\n      <use x=\"210.902344\" xlink:href=\"#DejaVuSans-114\"/>\n      <use x=\"252.015625\" xlink:href=\"#DejaVuSans-32\"/>\n      <use x=\"283.802734\" xlink:href=\"#DejaVuSans-89\"/>\n      <use x=\"331.136719\" xlink:href=\"#DejaVuSans-97\"/>\n      <use x=\"392.416016\" xlink:href=\"#DejaVuSans-104\"/>\n      <use x=\"455.794922\" xlink:href=\"#DejaVuSans-111\"/>\n      <use x=\"516.976562\" xlink:href=\"#DejaVuSans-111\"/>\n     </g>\n    </g>\n   </g>\n   <g id=\"line2d_11\">\n    <path clip-path=\"url(#p7e4405f838)\" d=\"M 55.821307 230.078864 \nL 70.314813 216.148047 \nL 84.80832 202.681499 \nL 99.301826 206.396396 \nL 113.795333 204.538994 \nL 128.288839 191.072446 \nL 142.782346 196.180476 \nL 157.275852 198.037971 \nL 171.769359 190.608084 \nL 186.262865 177.605992 \nL 200.756372 176.212905 \nL 215.249878 149.744265 \nL 229.743385 129.776694 \nL 244.236891 131.634189 \nL 258.730398 133.955953 \nL 273.223904 127.454884 \nL 287.717411 126.52616 \nL 302.210917 83.804845 \nL 316.704424 70.80266 \nL 331.19793 68.480896 \nL 345.691437 63.837275 \nL 360.184943 65.230361 \n\" style=\"fill:none;stroke:#ff0000;stroke-linecap:square;stroke-width:1.5;\"/>\n   </g>\n   <g id=\"line2d_12\">\n    <path clip-path=\"url(#p7e4405f838)\" d=\"M 55.821307 213.361921 \nL 70.314813 205.467765 \nL 84.80832 194.323074 \nL 99.301826 198.966602 \nL 113.795333 191.072446 \nL 128.288839 185.035785 \nL 142.782346 190.143815 \nL 157.275852 178.534762 \nL 171.769359 173.426733 \nL 186.262865 172.0336 \nL 200.756372 153.459162 \nL 215.249878 129.312286 \nL 229.743385 121.41813 \nL 244.236891 126.52616 \nL 258.730398 124.204395 \nL 273.223904 124.668758 \nL 287.717411 70.338391 \nL 302.210917 83.804845 \nL 316.704424 54.08567 \nL 331.19793 50.835182 \nL 345.691437 63.837275 \nL 360.184943 56.407481 \n\" style=\"fill:none;stroke:#000000;stroke-linecap:square;stroke-width:1.5;\"/>\n   </g>\n   <g id=\"line2d_13\">\n    <path clip-path=\"url(#p7e4405f838)\" d=\"M 55.821307 223.680762 \nL 70.314813 220.957234 \nL 84.80832 210.331131 \nL 99.301826 195.748162 \nL 113.795333 192.748295 \nL 128.288839 192.732264 \nL 142.782346 183.191941 \nL 157.275852 180.986547 \nL 171.769359 183.45712 \nL 186.262865 179.727347 \nL 200.756372 167.972154 \nL 215.249878 161.908383 \nL 229.743385 143.097877 \nL 244.236891 119.887388 \nL 258.730398 113.68102 \nL 273.223904 116.04522 \nL 287.717411 112.204557 \nL 302.210917 108.482224 \nL 316.704424 76.844207 \nL 331.19793 53.762145 \nL 345.691437 48.560338 \nL 360.184943 45.487489 \n\" style=\"fill:none;stroke:#0000ff;stroke-linecap:square;stroke-width:1.5;\"/>\n   </g>\n   <g id=\"line2d_14\">\n    <path clip-path=\"url(#p7e4405f838)\" d=\"M 55.821307 214.651755 \nL 70.314813 211.852853 \nL 84.80832 201.06635 \nL 99.301826 186.272319 \nL 113.795333 183.175202 \nL 128.288839 183.091769 \nL 142.782346 173.376255 \nL 157.275852 171.074762 \nL 171.769359 173.509464 \nL 186.262865 169.680227 \nL 200.756372 157.735759 \nL 215.249878 151.545422 \nL 229.743385 132.450252 \nL 244.236891 108.866175 \nL 258.730398 102.467964 \nL 273.223904 104.749351 \nL 287.717411 100.746959 \nL 302.210917 96.865554 \nL 316.704424 64.69222 \nL 331.19793 41.130729 \nL 345.691437 35.685265 \nL 360.184943 32.406136 \n\" style=\"fill:none;stroke:#ffa500;stroke-linecap:square;stroke-width:1.5;\"/>\n   </g>\n   <g id=\"patch_3\">\n    <path d=\"M 40.603125 239.9625 \nL 40.603125 22.5225 \n\" style=\"fill:none;stroke:#000000;stroke-linecap:square;stroke-linejoin:miter;stroke-width:0.8;\"/>\n   </g>\n   <g id=\"patch_4\">\n    <path d=\"M 375.403125 239.9625 \nL 375.403125 22.5225 \n\" style=\"fill:none;stroke:#000000;stroke-linecap:square;stroke-linejoin:miter;stroke-width:0.8;\"/>\n   </g>\n   <g id=\"patch_5\">\n    <path d=\"M 40.603125 239.9625 \nL 375.403125 239.9625 \n\" style=\"fill:none;stroke:#000000;stroke-linecap:square;stroke-linejoin:miter;stroke-width:0.8;\"/>\n   </g>\n   <g id=\"patch_6\">\n    <path d=\"M 40.603125 22.5225 \nL 375.403125 22.5225 \n\" style=\"fill:none;stroke:#000000;stroke-linecap:square;stroke-linejoin:miter;stroke-width:0.8;\"/>\n   </g>\n   <g id=\"text_13\">\n    <!-- Previsão preço das ações -->\n    <g transform=\"translate(132.175312 16.5225)scale(0.12 -0.12)\">\n     <defs>\n      <path d=\"M 19.671875 64.796875 \nL 19.671875 37.40625 \nL 32.078125 37.40625 \nQ 38.96875 37.40625 42.71875 40.96875 \nQ 46.484375 44.53125 46.484375 51.125 \nQ 46.484375 57.671875 42.71875 61.234375 \nQ 38.96875 64.796875 32.078125 64.796875 \nz\nM 9.8125 72.90625 \nL 32.078125 72.90625 \nQ 44.34375 72.90625 50.609375 67.359375 \nQ 56.890625 61.8125 56.890625 51.125 \nQ 56.890625 40.328125 50.609375 34.8125 \nQ 44.34375 29.296875 32.078125 29.296875 \nL 19.671875 29.296875 \nL 19.671875 0 \nL 9.8125 0 \nz\n\" id=\"DejaVuSans-80\"/>\n      <path d=\"M 2.984375 54.6875 \nL 12.5 54.6875 \nL 29.59375 8.796875 \nL 46.6875 54.6875 \nL 56.203125 54.6875 \nL 35.6875 0 \nL 23.484375 0 \nz\n\" id=\"DejaVuSans-118\"/>\n      <path d=\"M 9.421875 54.6875 \nL 18.40625 54.6875 \nL 18.40625 0 \nL 9.421875 0 \nz\nM 9.421875 75.984375 \nL 18.40625 75.984375 \nL 18.40625 64.59375 \nL 9.421875 64.59375 \nz\n\" id=\"DejaVuSans-105\"/>\n      <path d=\"M 44.28125 53.078125 \nL 44.28125 44.578125 \nQ 40.484375 46.53125 36.375 47.5 \nQ 32.28125 48.484375 27.875 48.484375 \nQ 21.1875 48.484375 17.84375 46.4375 \nQ 14.5 44.390625 14.5 40.28125 \nQ 14.5 37.15625 16.890625 35.375 \nQ 19.28125 33.59375 26.515625 31.984375 \nL 29.59375 31.296875 \nQ 39.15625 29.25 43.1875 25.515625 \nQ 47.21875 21.78125 47.21875 15.09375 \nQ 47.21875 7.46875 41.1875 3.015625 \nQ 35.15625 -1.421875 24.609375 -1.421875 \nQ 20.21875 -1.421875 15.453125 -0.5625 \nQ 10.6875 0.296875 5.421875 2 \nL 5.421875 11.28125 \nQ 10.40625 8.6875 15.234375 7.390625 \nQ 20.0625 6.109375 24.8125 6.109375 \nQ 31.15625 6.109375 34.5625 8.28125 \nQ 37.984375 10.453125 37.984375 14.40625 \nQ 37.984375 18.0625 35.515625 20.015625 \nQ 33.0625 21.96875 24.703125 23.78125 \nL 21.578125 24.515625 \nQ 13.234375 26.265625 9.515625 29.90625 \nQ 5.8125 33.546875 5.8125 39.890625 \nQ 5.8125 47.609375 11.28125 51.796875 \nQ 16.75 56 26.8125 56 \nQ 31.78125 56 36.171875 55.265625 \nQ 40.578125 54.546875 44.28125 53.078125 \nz\n\" id=\"DejaVuSans-115\"/>\n      <path d=\"M 34.28125 27.484375 \nQ 23.390625 27.484375 19.1875 25 \nQ 14.984375 22.515625 14.984375 16.5 \nQ 14.984375 11.71875 18.140625 8.90625 \nQ 21.296875 6.109375 26.703125 6.109375 \nQ 34.1875 6.109375 38.703125 11.40625 \nQ 43.21875 16.703125 43.21875 25.484375 \nL 43.21875 27.484375 \nz\nM 52.203125 31.203125 \nL 52.203125 0 \nL 43.21875 0 \nL 43.21875 8.296875 \nQ 40.140625 3.328125 35.546875 0.953125 \nQ 30.953125 -1.421875 24.3125 -1.421875 \nQ 15.921875 -1.421875 10.953125 3.296875 \nQ 6 8.015625 6 15.921875 \nQ 6 25.140625 12.171875 29.828125 \nQ 18.359375 34.515625 30.609375 34.515625 \nL 43.21875 34.515625 \nL 43.21875 35.40625 \nQ 43.21875 41.609375 39.140625 45 \nQ 35.0625 48.390625 27.6875 48.390625 \nQ 23 48.390625 18.546875 47.265625 \nQ 14.109375 46.140625 10.015625 43.890625 \nL 10.015625 52.203125 \nQ 14.9375 54.109375 19.578125 55.046875 \nQ 24.21875 56 28.609375 56 \nQ 40.484375 56 46.34375 49.84375 \nQ 52.203125 43.703125 52.203125 31.203125 \nz\nM 28.8125 66.890625 \nL 26.015625 69.578125 \nQ 24.953125 70.5625 24.140625 71.015625 \nQ 23.34375 71.484375 22.703125 71.484375 \nQ 20.84375 71.484375 19.96875 69.703125 \nQ 19.09375 67.921875 18.984375 63.921875 \nL 12.890625 63.921875 \nQ 12.984375 70.515625 15.46875 74.09375 \nQ 17.96875 77.6875 22.40625 77.6875 \nQ 24.265625 77.6875 25.828125 77 \nQ 27.390625 76.3125 29.203125 74.703125 \nL 31.984375 72.015625 \nQ 33.046875 71.046875 33.859375 70.578125 \nQ 34.671875 70.125 35.296875 70.125 \nQ 37.15625 70.125 38.03125 71.90625 \nQ 38.90625 73.6875 39.015625 77.6875 \nL 45.109375 77.6875 \nQ 45.015625 71.09375 42.515625 67.5 \nQ 40.03125 63.921875 35.59375 63.921875 \nQ 33.734375 63.921875 32.171875 64.59375 \nQ 30.609375 65.28125 28.8125 66.890625 \nz\n\" id=\"DejaVuSans-227\"/>\n      <path d=\"M 48.78125 52.59375 \nL 48.78125 44.1875 \nQ 44.96875 46.296875 41.140625 47.34375 \nQ 37.3125 48.390625 33.40625 48.390625 \nQ 24.65625 48.390625 19.8125 42.84375 \nQ 14.984375 37.3125 14.984375 27.296875 \nQ 14.984375 17.28125 19.8125 11.734375 \nQ 24.65625 6.203125 33.40625 6.203125 \nQ 37.3125 6.203125 41.140625 7.25 \nQ 44.96875 8.296875 48.78125 10.40625 \nL 48.78125 2.09375 \nQ 45.015625 0.34375 40.984375 -0.53125 \nQ 36.96875 -1.421875 32.421875 -1.421875 \nQ 20.0625 -1.421875 12.78125 6.34375 \nQ 5.515625 14.109375 5.515625 27.296875 \nQ 5.515625 40.671875 12.859375 48.328125 \nQ 20.21875 56 33.015625 56 \nQ 37.15625 56 41.109375 55.140625 \nQ 45.0625 54.296875 48.78125 52.59375 \nz\nM 36.109375 0 \nQ 38.78125 -3.03125 40.09375 -5.59375 \nQ 41.421875 -8.15625 41.421875 -10.5 \nQ 41.421875 -14.84375 38.484375 -17.0625 \nQ 35.5625 -19.28125 29.796875 -19.28125 \nQ 27.5625 -19.28125 25.4375 -18.984375 \nQ 23.3125 -18.703125 21.203125 -18.109375 \nL 21.203125 -11.71875 \nQ 22.875 -12.546875 24.671875 -12.90625 \nQ 26.484375 -13.28125 28.78125 -13.28125 \nQ 31.65625 -13.28125 33.125 -12.109375 \nQ 34.59375 -10.9375 34.59375 -8.6875 \nQ 34.59375 -7.234375 33.53125 -5.109375 \nQ 32.484375 -2.984375 30.296875 0 \nz\n\" id=\"DejaVuSans-231\"/>\n      <path d=\"M 45.40625 46.390625 \nL 45.40625 75.984375 \nL 54.390625 75.984375 \nL 54.390625 0 \nL 45.40625 0 \nL 45.40625 8.203125 \nQ 42.578125 3.328125 38.25 0.953125 \nQ 33.9375 -1.421875 27.875 -1.421875 \nQ 17.96875 -1.421875 11.734375 6.484375 \nQ 5.515625 14.40625 5.515625 27.296875 \nQ 5.515625 40.1875 11.734375 48.09375 \nQ 17.96875 56 27.875 56 \nQ 33.9375 56 38.25 53.625 \nQ 42.578125 51.265625 45.40625 46.390625 \nz\nM 14.796875 27.296875 \nQ 14.796875 17.390625 18.875 11.75 \nQ 22.953125 6.109375 30.078125 6.109375 \nQ 37.203125 6.109375 41.296875 11.75 \nQ 45.40625 17.390625 45.40625 27.296875 \nQ 45.40625 37.203125 41.296875 42.84375 \nQ 37.203125 48.484375 30.078125 48.484375 \nQ 22.953125 48.484375 18.875 42.84375 \nQ 14.796875 37.203125 14.796875 27.296875 \nz\n\" id=\"DejaVuSans-100\"/>\n      <path d=\"M 30.609375 48.390625 \nQ 23.390625 48.390625 19.1875 42.75 \nQ 14.984375 37.109375 14.984375 27.296875 \nQ 14.984375 17.484375 19.15625 11.84375 \nQ 23.34375 6.203125 30.609375 6.203125 \nQ 37.796875 6.203125 41.984375 11.859375 \nQ 46.1875 17.53125 46.1875 27.296875 \nQ 46.1875 37.015625 41.984375 42.703125 \nQ 37.796875 48.390625 30.609375 48.390625 \nz\nM 30.609375 56 \nQ 42.328125 56 49.015625 48.375 \nQ 55.71875 40.765625 55.71875 27.296875 \nQ 55.71875 13.875 49.015625 6.21875 \nQ 42.328125 -1.421875 30.609375 -1.421875 \nQ 18.84375 -1.421875 12.171875 6.21875 \nQ 5.515625 13.875 5.515625 27.296875 \nQ 5.515625 40.765625 12.171875 48.375 \nQ 18.84375 56 30.609375 56 \nz\nM 30.4375 66.890625 \nL 27.640625 69.578125 \nQ 26.578125 70.5625 25.765625 71.015625 \nQ 24.96875 71.484375 24.328125 71.484375 \nQ 22.46875 71.484375 21.59375 69.703125 \nQ 20.71875 67.921875 20.609375 63.921875 \nL 14.515625 63.921875 \nQ 14.609375 70.515625 17.09375 74.09375 \nQ 19.59375 77.6875 24.03125 77.6875 \nQ 25.890625 77.6875 27.453125 77 \nQ 29.015625 76.3125 30.828125 74.703125 \nL 33.609375 72.015625 \nQ 34.671875 71.046875 35.484375 70.578125 \nQ 36.296875 70.125 36.921875 70.125 \nQ 38.78125 70.125 39.65625 71.90625 \nQ 40.53125 73.6875 40.640625 77.6875 \nL 46.734375 77.6875 \nQ 46.640625 71.09375 44.140625 67.5 \nQ 41.65625 63.921875 37.21875 63.921875 \nQ 35.359375 63.921875 33.796875 64.59375 \nQ 32.234375 65.28125 30.4375 66.890625 \nz\n\" id=\"DejaVuSans-245\"/>\n     </defs>\n     <use xlink:href=\"#DejaVuSans-80\"/>\n     <use x=\"58.552734\" xlink:href=\"#DejaVuSans-114\"/>\n     <use x=\"97.416016\" xlink:href=\"#DejaVuSans-101\"/>\n     <use x=\"158.939453\" xlink:href=\"#DejaVuSans-118\"/>\n     <use x=\"218.119141\" xlink:href=\"#DejaVuSans-105\"/>\n     <use x=\"245.902344\" xlink:href=\"#DejaVuSans-115\"/>\n     <use x=\"298.001953\" xlink:href=\"#DejaVuSans-227\"/>\n     <use x=\"359.28125\" xlink:href=\"#DejaVuSans-111\"/>\n     <use x=\"420.462891\" xlink:href=\"#DejaVuSans-32\"/>\n     <use x=\"452.25\" xlink:href=\"#DejaVuSans-112\"/>\n     <use x=\"515.726562\" xlink:href=\"#DejaVuSans-114\"/>\n     <use x=\"554.589844\" xlink:href=\"#DejaVuSans-101\"/>\n     <use x=\"616.113281\" xlink:href=\"#DejaVuSans-231\"/>\n     <use x=\"671.09375\" xlink:href=\"#DejaVuSans-111\"/>\n     <use x=\"732.275391\" xlink:href=\"#DejaVuSans-32\"/>\n     <use x=\"764.0625\" xlink:href=\"#DejaVuSans-100\"/>\n     <use x=\"827.539062\" xlink:href=\"#DejaVuSans-97\"/>\n     <use x=\"888.818359\" xlink:href=\"#DejaVuSans-115\"/>\n     <use x=\"940.917969\" xlink:href=\"#DejaVuSans-32\"/>\n     <use x=\"972.705078\" xlink:href=\"#DejaVuSans-97\"/>\n     <use x=\"1033.984375\" xlink:href=\"#DejaVuSans-231\"/>\n     <use x=\"1088.964844\" xlink:href=\"#DejaVuSans-245\"/>\n     <use x=\"1150.146484\" xlink:href=\"#DejaVuSans-101\"/>\n     <use x=\"1211.669922\" xlink:href=\"#DejaVuSans-115\"/>\n    </g>\n   </g>\n   <g id=\"legend_1\">\n    <g id=\"patch_7\">\n     <path d=\"M 47.603125 89.235 \nL 175.653125 89.235 \nQ 177.653125 89.235 177.653125 87.235 \nL 177.653125 29.5225 \nQ 177.653125 27.5225 175.653125 27.5225 \nL 47.603125 27.5225 \nQ 45.603125 27.5225 45.603125 29.5225 \nL 45.603125 87.235 \nQ 45.603125 89.235 47.603125 89.235 \nz\n\" style=\"fill:#ffffff;opacity:0.8;stroke:#cccccc;stroke-linejoin:miter;\"/>\n    </g>\n    <g id=\"line2d_15\">\n     <path d=\"M 49.603125 35.620937 \nL 69.603125 35.620937 \n\" style=\"fill:none;stroke:#ff0000;stroke-linecap:square;stroke-width:1.5;\"/>\n    </g>\n    <g id=\"line2d_16\"/>\n    <g id=\"text_14\">\n     <!-- Preço abertura real -->\n     <g transform=\"translate(77.603125 39.120937)scale(0.1 -0.1)\">\n      <defs>\n       <path d=\"M 48.6875 27.296875 \nQ 48.6875 37.203125 44.609375 42.84375 \nQ 40.53125 48.484375 33.40625 48.484375 \nQ 26.265625 48.484375 22.1875 42.84375 \nQ 18.109375 37.203125 18.109375 27.296875 \nQ 18.109375 17.390625 22.1875 11.75 \nQ 26.265625 6.109375 33.40625 6.109375 \nQ 40.53125 6.109375 44.609375 11.75 \nQ 48.6875 17.390625 48.6875 27.296875 \nz\nM 18.109375 46.390625 \nQ 20.953125 51.265625 25.265625 53.625 \nQ 29.59375 56 35.59375 56 \nQ 45.5625 56 51.78125 48.09375 \nQ 58.015625 40.1875 58.015625 27.296875 \nQ 58.015625 14.40625 51.78125 6.484375 \nQ 45.5625 -1.421875 35.59375 -1.421875 \nQ 29.59375 -1.421875 25.265625 0.953125 \nQ 20.953125 3.328125 18.109375 8.203125 \nL 18.109375 0 \nL 9.078125 0 \nL 9.078125 75.984375 \nL 18.109375 75.984375 \nz\n\" id=\"DejaVuSans-98\"/>\n       <path d=\"M 18.3125 70.21875 \nL 18.3125 54.6875 \nL 36.8125 54.6875 \nL 36.8125 47.703125 \nL 18.3125 47.703125 \nL 18.3125 18.015625 \nQ 18.3125 11.328125 20.140625 9.421875 \nQ 21.96875 7.515625 27.59375 7.515625 \nL 36.8125 7.515625 \nL 36.8125 0 \nL 27.59375 0 \nQ 17.1875 0 13.234375 3.875 \nQ 9.28125 7.765625 9.28125 18.015625 \nL 9.28125 47.703125 \nL 2.6875 47.703125 \nL 2.6875 54.6875 \nL 9.28125 54.6875 \nL 9.28125 70.21875 \nz\n\" id=\"DejaVuSans-116\"/>\n       <path d=\"M 8.5 21.578125 \nL 8.5 54.6875 \nL 17.484375 54.6875 \nL 17.484375 21.921875 \nQ 17.484375 14.15625 20.5 10.265625 \nQ 23.53125 6.390625 29.59375 6.390625 \nQ 36.859375 6.390625 41.078125 11.03125 \nQ 45.3125 15.671875 45.3125 23.6875 \nL 45.3125 54.6875 \nL 54.296875 54.6875 \nL 54.296875 0 \nL 45.3125 0 \nL 45.3125 8.40625 \nQ 42.046875 3.421875 37.71875 1 \nQ 33.40625 -1.421875 27.6875 -1.421875 \nQ 18.265625 -1.421875 13.375 4.4375 \nQ 8.5 10.296875 8.5 21.578125 \nz\nM 31.109375 56 \nz\n\" id=\"DejaVuSans-117\"/>\n      </defs>\n      <use xlink:href=\"#DejaVuSans-80\"/>\n      <use x=\"58.552734\" xlink:href=\"#DejaVuSans-114\"/>\n      <use x=\"97.416016\" xlink:href=\"#DejaVuSans-101\"/>\n      <use x=\"158.939453\" xlink:href=\"#DejaVuSans-231\"/>\n      <use x=\"213.919922\" xlink:href=\"#DejaVuSans-111\"/>\n      <use x=\"275.101562\" xlink:href=\"#DejaVuSans-32\"/>\n      <use x=\"306.888672\" xlink:href=\"#DejaVuSans-97\"/>\n      <use x=\"368.167969\" xlink:href=\"#DejaVuSans-98\"/>\n      <use x=\"431.644531\" xlink:href=\"#DejaVuSans-101\"/>\n      <use x=\"493.167969\" xlink:href=\"#DejaVuSans-114\"/>\n      <use x=\"534.28125\" xlink:href=\"#DejaVuSans-116\"/>\n      <use x=\"573.490234\" xlink:href=\"#DejaVuSans-117\"/>\n      <use x=\"636.869141\" xlink:href=\"#DejaVuSans-114\"/>\n      <use x=\"677.982422\" xlink:href=\"#DejaVuSans-97\"/>\n      <use x=\"739.261719\" xlink:href=\"#DejaVuSans-32\"/>\n      <use x=\"771.048828\" xlink:href=\"#DejaVuSans-114\"/>\n      <use x=\"809.912109\" xlink:href=\"#DejaVuSans-101\"/>\n      <use x=\"871.435547\" xlink:href=\"#DejaVuSans-97\"/>\n      <use x=\"932.714844\" xlink:href=\"#DejaVuSans-108\"/>\n     </g>\n    </g>\n    <g id=\"line2d_17\">\n     <path d=\"M 49.603125 50.299062 \nL 69.603125 50.299062 \n\" style=\"fill:none;stroke:#000000;stroke-linecap:square;stroke-width:1.5;\"/>\n    </g>\n    <g id=\"line2d_18\"/>\n    <g id=\"text_15\">\n     <!-- Preço alta real -->\n     <g transform=\"translate(77.603125 53.799062)scale(0.1 -0.1)\">\n      <use xlink:href=\"#DejaVuSans-80\"/>\n      <use x=\"58.552734\" xlink:href=\"#DejaVuSans-114\"/>\n      <use x=\"97.416016\" xlink:href=\"#DejaVuSans-101\"/>\n      <use x=\"158.939453\" xlink:href=\"#DejaVuSans-231\"/>\n      <use x=\"213.919922\" xlink:href=\"#DejaVuSans-111\"/>\n      <use x=\"275.101562\" xlink:href=\"#DejaVuSans-32\"/>\n      <use x=\"306.888672\" xlink:href=\"#DejaVuSans-97\"/>\n      <use x=\"368.167969\" xlink:href=\"#DejaVuSans-108\"/>\n      <use x=\"395.951172\" xlink:href=\"#DejaVuSans-116\"/>\n      <use x=\"435.160156\" xlink:href=\"#DejaVuSans-97\"/>\n      <use x=\"496.439453\" xlink:href=\"#DejaVuSans-32\"/>\n      <use x=\"528.226562\" xlink:href=\"#DejaVuSans-114\"/>\n      <use x=\"567.089844\" xlink:href=\"#DejaVuSans-101\"/>\n      <use x=\"628.613281\" xlink:href=\"#DejaVuSans-97\"/>\n      <use x=\"689.892578\" xlink:href=\"#DejaVuSans-108\"/>\n     </g>\n    </g>\n    <g id=\"line2d_19\">\n     <path d=\"M 49.603125 64.977187 \nL 69.603125 64.977187 \n\" style=\"fill:none;stroke:#0000ff;stroke-linecap:square;stroke-width:1.5;\"/>\n    </g>\n    <g id=\"line2d_20\"/>\n    <g id=\"text_16\">\n     <!-- Previsões abertura -->\n     <g transform=\"translate(77.603125 68.477187)scale(0.1 -0.1)\">\n      <use xlink:href=\"#DejaVuSans-80\"/>\n      <use x=\"58.552734\" xlink:href=\"#DejaVuSans-114\"/>\n      <use x=\"97.416016\" xlink:href=\"#DejaVuSans-101\"/>\n      <use x=\"158.939453\" xlink:href=\"#DejaVuSans-118\"/>\n      <use x=\"218.119141\" xlink:href=\"#DejaVuSans-105\"/>\n      <use x=\"245.902344\" xlink:href=\"#DejaVuSans-115\"/>\n      <use x=\"298.001953\" xlink:href=\"#DejaVuSans-245\"/>\n      <use x=\"359.183594\" xlink:href=\"#DejaVuSans-101\"/>\n      <use x=\"420.707031\" xlink:href=\"#DejaVuSans-115\"/>\n      <use x=\"472.806641\" xlink:href=\"#DejaVuSans-32\"/>\n      <use x=\"504.59375\" xlink:href=\"#DejaVuSans-97\"/>\n      <use x=\"565.873047\" xlink:href=\"#DejaVuSans-98\"/>\n      <use x=\"629.349609\" xlink:href=\"#DejaVuSans-101\"/>\n      <use x=\"690.873047\" xlink:href=\"#DejaVuSans-114\"/>\n      <use x=\"731.986328\" xlink:href=\"#DejaVuSans-116\"/>\n      <use x=\"771.195312\" xlink:href=\"#DejaVuSans-117\"/>\n      <use x=\"834.574219\" xlink:href=\"#DejaVuSans-114\"/>\n      <use x=\"875.6875\" xlink:href=\"#DejaVuSans-97\"/>\n     </g>\n    </g>\n    <g id=\"line2d_21\">\n     <path d=\"M 49.603125 79.655312 \nL 69.603125 79.655312 \n\" style=\"fill:none;stroke:#ffa500;stroke-linecap:square;stroke-width:1.5;\"/>\n    </g>\n    <g id=\"line2d_22\"/>\n    <g id=\"text_17\">\n     <!-- Previsões alta -->\n     <g transform=\"translate(77.603125 83.155312)scale(0.1 -0.1)\">\n      <use xlink:href=\"#DejaVuSans-80\"/>\n      <use x=\"58.552734\" xlink:href=\"#DejaVuSans-114\"/>\n      <use x=\"97.416016\" xlink:href=\"#DejaVuSans-101\"/>\n      <use x=\"158.939453\" xlink:href=\"#DejaVuSans-118\"/>\n      <use x=\"218.119141\" xlink:href=\"#DejaVuSans-105\"/>\n      <use x=\"245.902344\" xlink:href=\"#DejaVuSans-115\"/>\n      <use x=\"298.001953\" xlink:href=\"#DejaVuSans-245\"/>\n      <use x=\"359.183594\" xlink:href=\"#DejaVuSans-101\"/>\n      <use x=\"420.707031\" xlink:href=\"#DejaVuSans-115\"/>\n      <use x=\"472.806641\" xlink:href=\"#DejaVuSans-32\"/>\n      <use x=\"504.59375\" xlink:href=\"#DejaVuSans-97\"/>\n      <use x=\"565.873047\" xlink:href=\"#DejaVuSans-108\"/>\n      <use x=\"593.65625\" xlink:href=\"#DejaVuSans-116\"/>\n      <use x=\"632.865234\" xlink:href=\"#DejaVuSans-97\"/>\n     </g>\n    </g>\n   </g>\n  </g>\n </g>\n <defs>\n  <clipPath id=\"p7e4405f838\">\n   <rect height=\"217.44\" width=\"334.8\" x=\"40.603125\" y=\"22.5225\"/>\n  </clipPath>\n </defs>\n</svg>\n",
      "text/plain": [
       "<Figure size 432x288 with 1 Axes>"
      ]
     },
     "metadata": {
      "needs_background": "light"
     },
     "output_type": "display_data"
    }
   ],
   "source": [
    "# Plot de previsões e preço de abertura e preço de alta\n",
    "plt.plot(preco_real_open, color = 'red', label = 'Preço abertura real')\n",
    "plt.plot(preco_real_high, color = 'black', label = 'Preço alta real')\n",
    "plt.plot(previsoes[:, 0], color = 'blue', label = 'Previsões abertura')\n",
    "plt.plot(previsoes[:, 1], color = 'orange', label = 'Previsões alta')\n",
    "plt.title('Previsão preço das ações')\n",
    "plt.xlabel('Tempo')\n",
    "plt.ylabel('Valor Yahoo')\n",
    "plt.legend()\n",
    "plt.show()"
   ]
  }
 ],
 "metadata": {
  "kernelspec": {
   "display_name": "Python 3.8.2  ('venv': venv)",
   "name": "pythonjvsc74a57bd0e738335807286c5c68ffd74c042c6d7f18d473e712ebbb49b507f61efb148946"
  },
  "language_info": {
   "codemirror_mode": {
    "name": "ipython",
    "version": 3
   },
   "file_extension": ".py",
   "mimetype": "text/x-python",
   "name": "python",
   "nbconvert_exporter": "python",
   "pygments_lexer": "ipython3",
   "version": "3.8.2"
  },
  "metadata": {
   "interpreter": {
    "hash": "e738335807286c5c68ffd74c042c6d7f18d473e712ebbb49b507f61efb148946"
   }
  },
  "orig_nbformat": 2
 },
 "nbformat": 4,
 "nbformat_minor": 2
}
